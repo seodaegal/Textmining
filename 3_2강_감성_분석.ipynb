{
  "cells": [
    {
      "cell_type": "markdown",
      "metadata": {
        "id": "view-in-github",
        "colab_type": "text"
      },
      "source": [
        "<a href=\"https://colab.research.google.com/github/seodaegal/Textmining/blob/main/3_2%EA%B0%95_%EA%B0%90%EC%84%B1_%EB%B6%84%EC%84%9D.ipynb\" target=\"_parent\"><img src=\"https://colab.research.google.com/assets/colab-badge.svg\" alt=\"Open In Colab\"/></a>"
      ]
    },
    {
      "cell_type": "markdown",
      "metadata": {
        "id": "MyRKOwJlXluT"
      },
      "source": [
        "3-2강. 감성 분석(Sentiment Analysis)\n",
        "=====\n",
        "올리브영 평점 분석\n",
        "-----\n",
        "이번 시간에는 올리브영 평점 분류를 통해 감정 단어를 추출해보겠습니다.<br>\n",
        "보통 영화 리뷰로 많이 감성 분석을 많이 하는데, 그보다는 조금 더 프로덕트 레벨에 가까운 케이스가 좋을 것 같아서 '올리브영'으로 선정하였습니다.\n",
        "\n",
        "감성 분석은 결국 텍스트 분류의 문제입니다. 그 중에서도 긍정과 부정으로만 나뉘는 <b>이진 분류(Binary Classification)</b>입니다.<br>\n",
        "이진 분류를 할 수 있는 모델은 다양합니다. 오늘은 머신러닝 모델 중 하나인 Logistic Regression을 통해 학습시켜보고자 합니다.<br>\n",
        "기본적인 프로세스는 다음과 같습니다.\n",
        "- 데이터 전처리\n",
        "- 텍스트 전처리\n",
        "- TF-IDF 벡터화\n",
        "- Logistic Regression 학습"
      ]
    },
    {
      "cell_type": "code",
      "execution_count": null,
      "metadata": {
        "id": "Jv0pLIu5jhrq",
        "colab": {
          "base_uri": "https://localhost:8080/"
        },
        "outputId": "e4d711ff-cf73-41c7-9ec7-e45bd7276aeb"
      },
      "outputs": [
        {
          "output_type": "stream",
          "name": "stdout",
          "text": [
            "Reading package lists... Done\n",
            "Building dependency tree       \n",
            "Reading state information... Done\n",
            "The following NEW packages will be installed:\n",
            "  fonts-nanum\n",
            "0 upgraded, 1 newly installed, 0 to remove and 24 not upgraded.\n",
            "Need to get 9,599 kB of archives.\n",
            "After this operation, 29.6 MB of additional disk space will be used.\n",
            "Get:1 http://archive.ubuntu.com/ubuntu focal/universe amd64 fonts-nanum all 20180306-3 [9,599 kB]\n",
            "Fetched 9,599 kB in 1s (8,860 kB/s)\n",
            "debconf: unable to initialize frontend: Dialog\n",
            "debconf: (No usable dialog-like program is installed, so the dialog based frontend cannot be used. at /usr/share/perl5/Debconf/FrontEnd/Dialog.pm line 76, <> line 1.)\n",
            "debconf: falling back to frontend: Readline\n",
            "debconf: unable to initialize frontend: Readline\n",
            "debconf: (This frontend requires a controlling tty.)\n",
            "debconf: falling back to frontend: Teletype\n",
            "dpkg-preconfigure: unable to re-open stdin: \n",
            "Selecting previously unselected package fonts-nanum.\n",
            "(Reading database ... 122531 files and directories currently installed.)\n",
            "Preparing to unpack .../fonts-nanum_20180306-3_all.deb ...\n",
            "Unpacking fonts-nanum (20180306-3) ...\n",
            "Setting up fonts-nanum (20180306-3) ...\n",
            "Processing triggers for fontconfig (2.13.1-2ubuntu3) ...\n",
            "/usr/share/fonts: caching, new cache contents: 0 fonts, 1 dirs\n",
            "/usr/share/fonts/truetype: caching, new cache contents: 0 fonts, 3 dirs\n",
            "/usr/share/fonts/truetype/humor-sans: caching, new cache contents: 1 fonts, 0 dirs\n",
            "/usr/share/fonts/truetype/liberation: caching, new cache contents: 16 fonts, 0 dirs\n",
            "/usr/share/fonts/truetype/nanum: caching, new cache contents: 10 fonts, 0 dirs\n",
            "/usr/local/share/fonts: caching, new cache contents: 0 fonts, 0 dirs\n",
            "/root/.local/share/fonts: skipping, no such directory\n",
            "/root/.fonts: skipping, no such directory\n",
            "/usr/share/fonts/truetype: skipping, looped directory detected\n",
            "/usr/share/fonts/truetype/humor-sans: skipping, looped directory detected\n",
            "/usr/share/fonts/truetype/liberation: skipping, looped directory detected\n",
            "/usr/share/fonts/truetype/nanum: skipping, looped directory detected\n",
            "/var/cache/fontconfig: cleaning cache directory\n",
            "/root/.cache/fontconfig: not cleaning non-existent cache directory\n",
            "/root/.fontconfig: not cleaning non-existent cache directory\n",
            "fc-cache: succeeded\n"
          ]
        }
      ],
      "source": [
        "# 한글 폰트 설치\n",
        "!sudo apt-get install -y fonts-nanum\n",
        "!sudo fc-cache -fv\n",
        "!rm ~/.cache/matplotlib -rf\n",
        "\n",
        "# Seaborn 그래프 한글 폰트를 설치합니다.\n",
        "# 설치 후 런타임을 다시 시작합니다.\n",
        "# 상단 메뉴 '런타임' > '런타임 다시 시작'"
      ]
    },
    {
      "cell_type": "code",
      "execution_count": null,
      "metadata": {
        "id": "ZEpVwn9VhjZ1",
        "colab": {
          "base_uri": "https://localhost:8080/"
        },
        "outputId": "d7d93001-6c34-488b-cbfa-9bc5d5f74ce2"
      },
      "outputs": [
        {
          "output_type": "stream",
          "name": "stdout",
          "text": [
            "Drive already mounted at /content/drive; to attempt to forcibly remount, call drive.mount(\"/content/drive\", force_remount=True).\n"
          ]
        }
      ],
      "source": [
        "from google.colab import drive\n",
        "drive.mount('/content/drive')"
      ]
    },
    {
      "cell_type": "code",
      "execution_count": null,
      "metadata": {
        "id": "KWO_jYenXluY"
      },
      "outputs": [],
      "source": [
        "import pandas as pd\n",
        "import numpy as np\n",
        "from sklearn.feature_extraction.text import TfidfVectorizer"
      ]
    },
    {
      "cell_type": "code",
      "execution_count": null,
      "metadata": {
        "id": "KPAYwbltXlua"
      },
      "outputs": [],
      "source": [
        "# 데이터 불러오기\n",
        "import os\n",
        "path = '/content/drive/MyDrive/딥다이브/3강/3강. 텍스트 분류'\n",
        "filename = '올리브영 상품 리뷰 평점_2022.08.23 (강의용).csv'\n",
        "df = pd.read_csv(os.path.join(path, filename))"
      ]
    },
    {
      "cell_type": "code",
      "execution_count": null,
      "metadata": {
        "id": "itQ3ssqbXlua",
        "colab": {
          "base_uri": "https://localhost:8080/"
        },
        "outputId": "5e5c8832-5011-4f65-927a-1af66da5aed5"
      },
      "outputs": [
        {
          "output_type": "stream",
          "name": "stdout",
          "text": [
            "<class 'pandas.core.frame.DataFrame'>\n",
            "RangeIndex: 36091 entries, 0 to 36090\n",
            "Data columns (total 10 columns):\n",
            " #   Column   Non-Null Count  Dtype \n",
            "---  ------   --------------  ----- \n",
            " 0   ID       36091 non-null  int64 \n",
            " 1   작성자ID    36091 non-null  int64 \n",
            " 2   작성자피부타입  36091 non-null  object\n",
            " 3   상품명      36091 non-null  object\n",
            " 4   상품옵션     36091 non-null  object\n",
            " 5   리뷰       36091 non-null  object\n",
            " 6   리뷰도움     36091 non-null  int64 \n",
            " 7   평점       36091 non-null  int64 \n",
            " 8   리뷰_전처리   36091 non-null  object\n",
            " 9   리뷰_명사    36049 non-null  object\n",
            "dtypes: int64(4), object(6)\n",
            "memory usage: 2.8+ MB\n"
          ]
        }
      ],
      "source": [
        "# 데이터 정보 확인하기\n",
        "df.info()"
      ]
    },
    {
      "cell_type": "code",
      "execution_count": null,
      "metadata": {
        "id": "gc0ChXMYXlua",
        "colab": {
          "base_uri": "https://localhost:8080/",
          "height": 597
        },
        "outputId": "64c903c5-6885-4d80-cee8-fce209059100"
      },
      "outputs": [
        {
          "output_type": "execute_result",
          "data": {
            "text/plain": [
              "   ID  작성자ID            작성자피부타입                      상품명         상품옵션  \\\n",
              "0   0   3925  복합성  겨울쿨톤  각질  잡티  [클리어런스] 클리오 멜팅 쉬어 글로우 밤  [옵션] 001 핑크   \n",
              "1   1     71    복합성  웜톤  각질  모공  [클리어런스] 클리오 멜팅 쉬어 글로우 밤  [옵션] 003 로지   \n",
              "2   2   3838    복합성  웜톤  주름  탄력  [클리어런스] 클리오 멜팅 쉬어 글로우 밤  [옵션] 002 코랄   \n",
              "3   3   4285   지성  쿨톤  각질  블랙헤드  [클리어런스] 클리오 멜팅 쉬어 글로우 밤  [옵션] 001 핑크   \n",
              "4   4   3838    복합성  웜톤  주름  탄력  [클리어런스] 클리오 멜팅 쉬어 글로우 밤  [옵션] 001 핑크   \n",
              "5   5   2004             지성  웜톤  [클리어런스] 클리오 멜팅 쉬어 글로우 밤  [옵션] 001 핑크   \n",
              "6   6   3011     건성  웜톤  모공  탄력  [클리어런스] 클리오 멜팅 쉬어 글로우 밤  [옵션] 002 코랄   \n",
              "7   7   4285   지성  쿨톤  각질  블랙헤드  [클리어런스] 클리오 멜팅 쉬어 글로우 밤  [옵션] 001 핑크   \n",
              "8   8   1505         건성  미백  잡티  [클리어런스] 클리오 멜팅 쉬어 글로우 밤  [옵션] 001 핑크   \n",
              "9  14   3970        복합성  각질  모공  [클리어런스] 클리오 멜팅 쉬어 글로우 밤  [옵션] 001 핑크   \n",
              "\n",
              "                                                  리뷰  리뷰도움  평점  \\\n",
              "0  새로 나온 제품이라서 리뷰도 없었는데 좋을 것 같아서 사봤습니다 매일매일 바르고 다...     9   4   \n",
              "1  멜팅 쉬어 글로우 밤 이라는 이름에 끌려서 주문했어요.음.. 근데 글로우 ᅲᅲ 넘 ...     2   4   \n",
              "2  처음에 구매했던 핑크 립밤이 너무 마음에 들어 이번에는 다른 색으로 써 보고 싶어 ...     2   4   \n",
              "3  얼마전에 군 입대(여군)로 립밤을 들고가야 했는데 , 색 있는 립밤은 안되고 , 니...     8   5   \n",
              "4  정말 촉촉하게 잘 발리는 립밤을 찾은 것 같아 좋아요! 제가 술이 금방 건조해지고 ...     2   5   \n",
              "5  유튜브에서 에스파 카리나분 커버 메이크업 영상을 보고 이 립을 사용하길래 궁금해서 ...     1   4   \n",
              "6  급하게 외출했는데 혈색이 너무 없어 손등에 테스트 해보고 마음에 들어 바로 구입한 ...     2   4   \n",
              "7  여군 필수템입니다 . 색조 화장품은 반입이 안되고 , 니베아 딸기(?) 정도 색상의...     0   5   \n",
              "8  가을, 겨울에 입술에 각질이 많아질고 터서 구매했어요. 립밤이지만 색이 올라오는 립...     0   5   \n",
              "9  보습을 생각해서 산 게 아니었는데 생각보다 보습이 잘 되어서 놀랐네요. 재구매 했습니다.     0   5   \n",
              "\n",
              "                                              리뷰_전처리  \\\n",
              "0  새롭다 나오다 제품 이라서 리뷰 도 없다 좋다 것 같다 사보다 매 일 매일 바르다 ...   \n",
              "1  멜팅 쉬다 글 로우 밤 이라는 이름 에 끌리다 주문 하다 . 음 .. 근데 글 로우...   \n",
              "2  처음 에 구매 하다 핑크 립밤 이 너무 마음 에 들다 이번 에는 다른 색 으로 써다...   \n",
              "3  얼마 전 에 군 입대 ( 여군 ) 로 립밤 을 들다 하다 , 색 있다 립밤 은 안되...   \n",
              "4  정말 촉촉하다 자다 발리다 립밤 을 찾다 것 같다 좋다 ! 제 가 술 이 금방 건조...   \n",
              "5  유튜브 에서 에스 파 카리나 분 커버 메이크업 영상 을 보고 이 립 을 사용 하다 ...   \n",
              "6  급하다 외출 하다 혈색 이 너무 없다 손등 에 테스트 해보다 마음 에 들다 바로 구...   \n",
              "7  여군 필수 템 이다 . 색조 화장품 은 반입 이 안되다 , 니베아 딸기 (?) 정도...   \n",
              "8  가을 , 겨울 에 입술 에 각질 이 많아지다 터 서 구매 하다 . 립밤 이지만 색 ...   \n",
              "9  보습 을 생각 하다 산 게 아니다 생각 보다 보습 이 자다 되어다 놀라다 . 재다 ...   \n",
              "\n",
              "                                               리뷰_명사  \n",
              "0  제품 리뷰 것 매일 립밤 멜팅 글 로우 밤 외관 핑크색 입술 기도 제 맑은 광채 거...  \n",
              "1  멜팅 글 로우 밤 이름 주문 음 글 로우 글 로우 안 일반 립밤 정도 칼라 거의 안...  \n",
              "2  처음 구매 핑크 립밤 마음 이번 다른 색 보고 코랄 구매 핑크 발색 조금 더 편이 ...  \n",
              "3  얼마 전 군 입대 여군 로 립밤 색 립밤 니베아 딸기 색 정도 립밤 구매 처음 디올...  \n",
              "4  정말 립밤 것 제 술 금방 립밤 상시 가지 사람 립밤 구매 제품 다른 일반 립밤 조...  \n",
              "5  유튜브 에스 파 카리나 커버 메이크업 영상 보고 이 립 사용 구매 구매 전 리뷰 발...  \n",
              "6  외출 혈색 손등 테스트 마음 바로 구입 제품 발림 성은 맘 약간 덕 느낌 남아 보습...  \n",
              "7  여군 필수 템 색조 화장품 반입 니베아 딸기 정도 색상 립밤류 디올 립밤 대신 저렴...  \n",
              "8  가을 겨울 입술 각질 터 구매 립밤 색 립밤 요 번 발라 색 번은 티 안나 바로 색...  \n",
              "9                                    보습 생각 산 게 생각 보습  "
            ],
            "text/html": [
              "\n",
              "  <div id=\"df-38a3679c-ed98-4804-91d8-cb6997455f9f\">\n",
              "    <div class=\"colab-df-container\">\n",
              "      <div>\n",
              "<style scoped>\n",
              "    .dataframe tbody tr th:only-of-type {\n",
              "        vertical-align: middle;\n",
              "    }\n",
              "\n",
              "    .dataframe tbody tr th {\n",
              "        vertical-align: top;\n",
              "    }\n",
              "\n",
              "    .dataframe thead th {\n",
              "        text-align: right;\n",
              "    }\n",
              "</style>\n",
              "<table border=\"1\" class=\"dataframe\">\n",
              "  <thead>\n",
              "    <tr style=\"text-align: right;\">\n",
              "      <th></th>\n",
              "      <th>ID</th>\n",
              "      <th>작성자ID</th>\n",
              "      <th>작성자피부타입</th>\n",
              "      <th>상품명</th>\n",
              "      <th>상품옵션</th>\n",
              "      <th>리뷰</th>\n",
              "      <th>리뷰도움</th>\n",
              "      <th>평점</th>\n",
              "      <th>리뷰_전처리</th>\n",
              "      <th>리뷰_명사</th>\n",
              "    </tr>\n",
              "  </thead>\n",
              "  <tbody>\n",
              "    <tr>\n",
              "      <th>0</th>\n",
              "      <td>0</td>\n",
              "      <td>3925</td>\n",
              "      <td>복합성  겨울쿨톤  각질  잡티</td>\n",
              "      <td>[클리어런스] 클리오 멜팅 쉬어 글로우 밤</td>\n",
              "      <td>[옵션] 001 핑크</td>\n",
              "      <td>새로 나온 제품이라서 리뷰도 없었는데 좋을 것 같아서 사봤습니다 매일매일 바르고 다...</td>\n",
              "      <td>9</td>\n",
              "      <td>4</td>\n",
              "      <td>새롭다 나오다 제품 이라서 리뷰 도 없다 좋다 것 같다 사보다 매 일 매일 바르다 ...</td>\n",
              "      <td>제품 리뷰 것 매일 립밤 멜팅 글 로우 밤 외관 핑크색 입술 기도 제 맑은 광채 거...</td>\n",
              "    </tr>\n",
              "    <tr>\n",
              "      <th>1</th>\n",
              "      <td>1</td>\n",
              "      <td>71</td>\n",
              "      <td>복합성  웜톤  각질  모공</td>\n",
              "      <td>[클리어런스] 클리오 멜팅 쉬어 글로우 밤</td>\n",
              "      <td>[옵션] 003 로지</td>\n",
              "      <td>멜팅 쉬어 글로우 밤 이라는 이름에 끌려서 주문했어요.음.. 근데 글로우 ᅲᅲ 넘 ...</td>\n",
              "      <td>2</td>\n",
              "      <td>4</td>\n",
              "      <td>멜팅 쉬다 글 로우 밤 이라는 이름 에 끌리다 주문 하다 . 음 .. 근데 글 로우...</td>\n",
              "      <td>멜팅 글 로우 밤 이름 주문 음 글 로우 글 로우 안 일반 립밤 정도 칼라 거의 안...</td>\n",
              "    </tr>\n",
              "    <tr>\n",
              "      <th>2</th>\n",
              "      <td>2</td>\n",
              "      <td>3838</td>\n",
              "      <td>복합성  웜톤  주름  탄력</td>\n",
              "      <td>[클리어런스] 클리오 멜팅 쉬어 글로우 밤</td>\n",
              "      <td>[옵션] 002 코랄</td>\n",
              "      <td>처음에 구매했던 핑크 립밤이 너무 마음에 들어 이번에는 다른 색으로 써 보고 싶어 ...</td>\n",
              "      <td>2</td>\n",
              "      <td>4</td>\n",
              "      <td>처음 에 구매 하다 핑크 립밤 이 너무 마음 에 들다 이번 에는 다른 색 으로 써다...</td>\n",
              "      <td>처음 구매 핑크 립밤 마음 이번 다른 색 보고 코랄 구매 핑크 발색 조금 더 편이 ...</td>\n",
              "    </tr>\n",
              "    <tr>\n",
              "      <th>3</th>\n",
              "      <td>3</td>\n",
              "      <td>4285</td>\n",
              "      <td>지성  쿨톤  각질  블랙헤드</td>\n",
              "      <td>[클리어런스] 클리오 멜팅 쉬어 글로우 밤</td>\n",
              "      <td>[옵션] 001 핑크</td>\n",
              "      <td>얼마전에 군 입대(여군)로 립밤을 들고가야 했는데 , 색 있는 립밤은 안되고 , 니...</td>\n",
              "      <td>8</td>\n",
              "      <td>5</td>\n",
              "      <td>얼마 전 에 군 입대 ( 여군 ) 로 립밤 을 들다 하다 , 색 있다 립밤 은 안되...</td>\n",
              "      <td>얼마 전 군 입대 여군 로 립밤 색 립밤 니베아 딸기 색 정도 립밤 구매 처음 디올...</td>\n",
              "    </tr>\n",
              "    <tr>\n",
              "      <th>4</th>\n",
              "      <td>4</td>\n",
              "      <td>3838</td>\n",
              "      <td>복합성  웜톤  주름  탄력</td>\n",
              "      <td>[클리어런스] 클리오 멜팅 쉬어 글로우 밤</td>\n",
              "      <td>[옵션] 001 핑크</td>\n",
              "      <td>정말 촉촉하게 잘 발리는 립밤을 찾은 것 같아 좋아요! 제가 술이 금방 건조해지고 ...</td>\n",
              "      <td>2</td>\n",
              "      <td>5</td>\n",
              "      <td>정말 촉촉하다 자다 발리다 립밤 을 찾다 것 같다 좋다 ! 제 가 술 이 금방 건조...</td>\n",
              "      <td>정말 립밤 것 제 술 금방 립밤 상시 가지 사람 립밤 구매 제품 다른 일반 립밤 조...</td>\n",
              "    </tr>\n",
              "    <tr>\n",
              "      <th>5</th>\n",
              "      <td>5</td>\n",
              "      <td>2004</td>\n",
              "      <td>지성  웜톤</td>\n",
              "      <td>[클리어런스] 클리오 멜팅 쉬어 글로우 밤</td>\n",
              "      <td>[옵션] 001 핑크</td>\n",
              "      <td>유튜브에서 에스파 카리나분 커버 메이크업 영상을 보고 이 립을 사용하길래 궁금해서 ...</td>\n",
              "      <td>1</td>\n",
              "      <td>4</td>\n",
              "      <td>유튜브 에서 에스 파 카리나 분 커버 메이크업 영상 을 보고 이 립 을 사용 하다 ...</td>\n",
              "      <td>유튜브 에스 파 카리나 커버 메이크업 영상 보고 이 립 사용 구매 구매 전 리뷰 발...</td>\n",
              "    </tr>\n",
              "    <tr>\n",
              "      <th>6</th>\n",
              "      <td>6</td>\n",
              "      <td>3011</td>\n",
              "      <td>건성  웜톤  모공  탄력</td>\n",
              "      <td>[클리어런스] 클리오 멜팅 쉬어 글로우 밤</td>\n",
              "      <td>[옵션] 002 코랄</td>\n",
              "      <td>급하게 외출했는데 혈색이 너무 없어 손등에 테스트 해보고 마음에 들어 바로 구입한 ...</td>\n",
              "      <td>2</td>\n",
              "      <td>4</td>\n",
              "      <td>급하다 외출 하다 혈색 이 너무 없다 손등 에 테스트 해보다 마음 에 들다 바로 구...</td>\n",
              "      <td>외출 혈색 손등 테스트 마음 바로 구입 제품 발림 성은 맘 약간 덕 느낌 남아 보습...</td>\n",
              "    </tr>\n",
              "    <tr>\n",
              "      <th>7</th>\n",
              "      <td>7</td>\n",
              "      <td>4285</td>\n",
              "      <td>지성  쿨톤  각질  블랙헤드</td>\n",
              "      <td>[클리어런스] 클리오 멜팅 쉬어 글로우 밤</td>\n",
              "      <td>[옵션] 001 핑크</td>\n",
              "      <td>여군 필수템입니다 . 색조 화장품은 반입이 안되고 , 니베아 딸기(?) 정도 색상의...</td>\n",
              "      <td>0</td>\n",
              "      <td>5</td>\n",
              "      <td>여군 필수 템 이다 . 색조 화장품 은 반입 이 안되다 , 니베아 딸기 (?) 정도...</td>\n",
              "      <td>여군 필수 템 색조 화장품 반입 니베아 딸기 정도 색상 립밤류 디올 립밤 대신 저렴...</td>\n",
              "    </tr>\n",
              "    <tr>\n",
              "      <th>8</th>\n",
              "      <td>8</td>\n",
              "      <td>1505</td>\n",
              "      <td>건성  미백  잡티</td>\n",
              "      <td>[클리어런스] 클리오 멜팅 쉬어 글로우 밤</td>\n",
              "      <td>[옵션] 001 핑크</td>\n",
              "      <td>가을, 겨울에 입술에 각질이 많아질고 터서 구매했어요. 립밤이지만 색이 올라오는 립...</td>\n",
              "      <td>0</td>\n",
              "      <td>5</td>\n",
              "      <td>가을 , 겨울 에 입술 에 각질 이 많아지다 터 서 구매 하다 . 립밤 이지만 색 ...</td>\n",
              "      <td>가을 겨울 입술 각질 터 구매 립밤 색 립밤 요 번 발라 색 번은 티 안나 바로 색...</td>\n",
              "    </tr>\n",
              "    <tr>\n",
              "      <th>9</th>\n",
              "      <td>14</td>\n",
              "      <td>3970</td>\n",
              "      <td>복합성  각질  모공</td>\n",
              "      <td>[클리어런스] 클리오 멜팅 쉬어 글로우 밤</td>\n",
              "      <td>[옵션] 001 핑크</td>\n",
              "      <td>보습을 생각해서 산 게 아니었는데 생각보다 보습이 잘 되어서 놀랐네요. 재구매 했습니다.</td>\n",
              "      <td>0</td>\n",
              "      <td>5</td>\n",
              "      <td>보습 을 생각 하다 산 게 아니다 생각 보다 보습 이 자다 되어다 놀라다 . 재다 ...</td>\n",
              "      <td>보습 생각 산 게 생각 보습</td>\n",
              "    </tr>\n",
              "  </tbody>\n",
              "</table>\n",
              "</div>\n",
              "      <button class=\"colab-df-convert\" onclick=\"convertToInteractive('df-38a3679c-ed98-4804-91d8-cb6997455f9f')\"\n",
              "              title=\"Convert this dataframe to an interactive table.\"\n",
              "              style=\"display:none;\">\n",
              "        \n",
              "  <svg xmlns=\"http://www.w3.org/2000/svg\" height=\"24px\"viewBox=\"0 0 24 24\"\n",
              "       width=\"24px\">\n",
              "    <path d=\"M0 0h24v24H0V0z\" fill=\"none\"/>\n",
              "    <path d=\"M18.56 5.44l.94 2.06.94-2.06 2.06-.94-2.06-.94-.94-2.06-.94 2.06-2.06.94zm-11 1L8.5 8.5l.94-2.06 2.06-.94-2.06-.94L8.5 2.5l-.94 2.06-2.06.94zm10 10l.94 2.06.94-2.06 2.06-.94-2.06-.94-.94-2.06-.94 2.06-2.06.94z\"/><path d=\"M17.41 7.96l-1.37-1.37c-.4-.4-.92-.59-1.43-.59-.52 0-1.04.2-1.43.59L10.3 9.45l-7.72 7.72c-.78.78-.78 2.05 0 2.83L4 21.41c.39.39.9.59 1.41.59.51 0 1.02-.2 1.41-.59l7.78-7.78 2.81-2.81c.8-.78.8-2.07 0-2.86zM5.41 20L4 18.59l7.72-7.72 1.47 1.35L5.41 20z\"/>\n",
              "  </svg>\n",
              "      </button>\n",
              "      \n",
              "  <style>\n",
              "    .colab-df-container {\n",
              "      display:flex;\n",
              "      flex-wrap:wrap;\n",
              "      gap: 12px;\n",
              "    }\n",
              "\n",
              "    .colab-df-convert {\n",
              "      background-color: #E8F0FE;\n",
              "      border: none;\n",
              "      border-radius: 50%;\n",
              "      cursor: pointer;\n",
              "      display: none;\n",
              "      fill: #1967D2;\n",
              "      height: 32px;\n",
              "      padding: 0 0 0 0;\n",
              "      width: 32px;\n",
              "    }\n",
              "\n",
              "    .colab-df-convert:hover {\n",
              "      background-color: #E2EBFA;\n",
              "      box-shadow: 0px 1px 2px rgba(60, 64, 67, 0.3), 0px 1px 3px 1px rgba(60, 64, 67, 0.15);\n",
              "      fill: #174EA6;\n",
              "    }\n",
              "\n",
              "    [theme=dark] .colab-df-convert {\n",
              "      background-color: #3B4455;\n",
              "      fill: #D2E3FC;\n",
              "    }\n",
              "\n",
              "    [theme=dark] .colab-df-convert:hover {\n",
              "      background-color: #434B5C;\n",
              "      box-shadow: 0px 1px 3px 1px rgba(0, 0, 0, 0.15);\n",
              "      filter: drop-shadow(0px 1px 2px rgba(0, 0, 0, 0.3));\n",
              "      fill: #FFFFFF;\n",
              "    }\n",
              "  </style>\n",
              "\n",
              "      <script>\n",
              "        const buttonEl =\n",
              "          document.querySelector('#df-38a3679c-ed98-4804-91d8-cb6997455f9f button.colab-df-convert');\n",
              "        buttonEl.style.display =\n",
              "          google.colab.kernel.accessAllowed ? 'block' : 'none';\n",
              "\n",
              "        async function convertToInteractive(key) {\n",
              "          const element = document.querySelector('#df-38a3679c-ed98-4804-91d8-cb6997455f9f');\n",
              "          const dataTable =\n",
              "            await google.colab.kernel.invokeFunction('convertToInteractive',\n",
              "                                                     [key], {});\n",
              "          if (!dataTable) return;\n",
              "\n",
              "          const docLinkHtml = 'Like what you see? Visit the ' +\n",
              "            '<a target=\"_blank\" href=https://colab.research.google.com/notebooks/data_table.ipynb>data table notebook</a>'\n",
              "            + ' to learn more about interactive tables.';\n",
              "          element.innerHTML = '';\n",
              "          dataTable['output_type'] = 'display_data';\n",
              "          await google.colab.output.renderOutput(dataTable, element);\n",
              "          const docLink = document.createElement('div');\n",
              "          docLink.innerHTML = docLinkHtml;\n",
              "          element.appendChild(docLink);\n",
              "        }\n",
              "      </script>\n",
              "    </div>\n",
              "  </div>\n",
              "  "
            ]
          },
          "metadata": {},
          "execution_count": 5
        }
      ],
      "source": [
        "# 데이터 확인하기\n",
        "df.head(10)"
      ]
    },
    {
      "cell_type": "code",
      "execution_count": null,
      "metadata": {
        "id": "DwqL7NuFXlub"
      },
      "outputs": [],
      "source": [
        "import matplotlib.pyplot as plt\n",
        "import seaborn as sns"
      ]
    },
    {
      "cell_type": "code",
      "execution_count": null,
      "metadata": {
        "id": "6jsCS0xMXluc",
        "colab": {
          "base_uri": "https://localhost:8080/",
          "height": 456
        },
        "outputId": "6cfdbe1f-283b-46cb-914d-6a651b33c886"
      },
      "outputs": [
        {
          "output_type": "display_data",
          "data": {
            "text/plain": [
              "<Figure size 640x480 with 1 Axes>"
            ],
            "image/png": "[encoded data removed]"
          },
          "metadata": {}
        }
      ],
      "source": [
        "# 평점 별 개수 확인\n",
        "sns.set_theme(font ='NanumGothic',\n",
        "        \trc = {'axes.unicode_minus' : False},\n",
        "        \tstyle ='whitegrid')\n",
        "sns.countplot(data = df, x= '평점') #값을 세는\n",
        "plt.show()"
      ]
    },
    {
      "cell_type": "code",
      "execution_count": null,
      "metadata": {
        "id": "f_lpeVOuXluc"
      },
      "outputs": [],
      "source": [
        "# 감정 라벨링\n",
        "df['label'] = df['평점'].map(lambda x : 1 if x > 3 else 0)"
      ]
    },
    {
      "cell_type": "code",
      "execution_count": null,
      "metadata": {
        "id": "wcaeu05FXlud",
        "colab": {
          "base_uri": "https://localhost:8080/"
        },
        "outputId": "23daff2d-6a8e-4429-9491-a54fac1673a7"
      },
      "outputs": [
        {
          "output_type": "stream",
          "name": "stdout",
          "text": [
            "Looking in indexes: https://pypi.org/simple, https://us-python.pkg.dev/colab-wheels/public/simple/\n",
            "Collecting konlpy\n",
            "  Downloading konlpy-0.6.0-py2.py3-none-any.whl (19.4 MB)\n",
            "\u001b[2K     \u001b[90m━━━━━━━━━━━━━━━━━━━━━━━━━━━━━━━━━━━━━━━━\u001b[0m \u001b[32m19.4/19.4 MB\u001b[0m \u001b[31m40.6 MB/s\u001b[0m eta \u001b[36m0:00:00\u001b[0m\n",
            "\u001b[?25hCollecting JPype1>=0.7.0 (from konlpy)\n",
            "  Downloading JPype1-1.4.1-cp310-cp310-manylinux_2_12_x86_64.manylinux2010_x86_64.whl (465 kB)\n",
            "\u001b[2K     \u001b[90m━━━━━━━━━━━━━━━━━━━━━━━━━━━━━━━━━━━━━━\u001b[0m \u001b[32m465.3/465.3 kB\u001b[0m \u001b[31m42.8 MB/s\u001b[0m eta \u001b[36m0:00:00\u001b[0m\n",
            "\u001b[?25hRequirement already satisfied: lxml>=4.1.0 in /usr/local/lib/python3.10/dist-packages (from konlpy) (4.9.2)\n",
            "Requirement already satisfied: numpy>=1.6 in /usr/local/lib/python3.10/dist-packages (from konlpy) (1.22.4)\n",
            "Requirement already satisfied: packaging in /usr/local/lib/python3.10/dist-packages (from JPype1>=0.7.0->konlpy) (23.1)\n",
            "Installing collected packages: JPype1, konlpy\n",
            "Successfully installed JPype1-1.4.1 konlpy-0.6.0\n"
          ]
        }
      ],
      "source": [
        "# KoNLPy 설치\n",
        "!pip install konlpy\n",
        "from konlpy.tag import Okt\n",
        "okt = Okt()"
      ]
    },
    {
      "cell_type": "markdown",
      "metadata": {
        "id": "zCi9s_bdXlud"
      },
      "source": [
        "### 형태소 기준 전처리"
      ]
    },
    {
      "cell_type": "code",
      "execution_count": null,
      "metadata": {
        "id": "BcVJkD1sXlud"
      },
      "outputs": [],
      "source": [
        "# # 리뷰 전처리 (약 20분 소요) 오래걸림\n",
        "#df['리뷰_전처리'] = df['리뷰'].map(lambda x: okt.morphs(x, stem = True)).map(lambda x: ' '.join(x))"
      ]
    },
    {
      "cell_type": "code",
      "execution_count": null,
      "metadata": {
        "id": "EzjwOGGlXlud"
      },
      "outputs": [],
      "source": [
        "from sklearn.model_selection import train_test_split #학습 데이터를 쪼개주는/분리해주는\n",
        "from sklearn.linear_model import LogisticRegression\n",
        "from sklearn.metrics import accuracy_score"
      ]
    },
    {
      "cell_type": "code",
      "execution_count": null,
      "metadata": {
        "id": "agCsJ9afXlue"
      },
      "outputs": [],
      "source": [
        "# 데이터 스플릿(훈련 데이터와 테스트 데이터)\n",
        "train_texts, test_texts, train_labels, test_labels = train_test_split(df['리뷰_전처리'], df['label'], test_size=0.3, random_state=0) #random_state는 랜덤하게 추출(이 지점에서 0.3 확률로)"
      ]
    },
    {
      "cell_type": "code",
      "execution_count": null,
      "metadata": {
        "id": "V3hxV2VXXlue",
        "colab": {
          "base_uri": "https://localhost:8080/"
        },
        "outputId": "121c2a0a-3dc3-48f0-9650-be10b3304cb5"
      },
      "outputs": [
        {
          "output_type": "execute_result",
          "data": {
            "text/plain": [
              "12674    루나 포토 피다 쓰다 힛팬해 서 새롭다 사다 . 피부 는 건성 인데 메이크업 후 에...\n",
              "12614    ✅ 20 대다 후반 인 동생 에게 선물 로 준 제품 이다 . 물론 본인 이 강하다 ...\n",
              "31203    바비 의 스틱 섀도우 는 챡챡챡 모으다 템 이다 . 가지 고 다니다 넘다 편하다 평...\n",
              "3354     여 쿨 트루 추천 제품 이라 사보다 확실하다 바르다 얼굴 이 화사하다 보이다 하다 ...\n",
              "25303    저 이 거 너무 좋다 ♡♡ 원래 아이라인 머 지 거 사용 하다 어느 날 친구 가 아...\n",
              "                               ...                        \n",
              "20757    이전 에 주황색 치약 마스카라 써다 엄마 와 저 모두 너무 만족하다 . 그래서 이번...\n",
              "32103    머리 를 염색 하고 나서다 눈썹 이 너무 동동 뜨다 것 같다 아이브 로우 마스카라 ...\n",
              "30403    🍂 가을 웜톤 인데 밝다 피부 그러나 다크 써클 ( 갈색 계열 ) 이 눈 을 중심 ...\n",
              "21243    브라운 마스카라 가 필요하다 구매 를 하다 . 첫날 써다 땐 자다 모르다 날 이 갈...\n",
              "2732     “ 글 로시 립 중 에 제일 맘 에 들다 ..: ᅲᅲ” 봄웜 라 주목 💥💥💥 글 로...\n",
              "Name: 리뷰_전처리, Length: 25263, dtype: object"
            ]
          },
          "metadata": {},
          "execution_count": 28
        }
      ],
      "source": [
        "# train_texts 확인\n",
        "train_texts"
      ]
    },
    {
      "cell_type": "code",
      "execution_count": null,
      "metadata": {
        "id": "3SxofCK7Xlue"
      },
      "outputs": [],
      "source": [
        "# TF-IDF 벡터화\n",
        "vectorizer = TfidfVectorizer(min_df=1, norm='l2', ngram_range=(1,1))\n",
        "train_features = vectorizer.fit_transform(train_texts)"
      ]
    },
    {
      "cell_type": "code",
      "execution_count": null,
      "metadata": {
        "id": "EC2HojKiXlue"
      },
      "outputs": [],
      "source": [
        "# LogisticRegression\n",
        "model= LogisticRegression(C=0.1)"
      ]
    },
    {
      "cell_type": "code",
      "execution_count": null,
      "metadata": {
        "id": "4EYMbbk_Xlue",
        "colab": {
          "base_uri": "https://localhost:8080/",
          "height": 74
        },
        "outputId": "3d168140-04d4-49dd-9d7a-8f7fa12958fe"
      },
      "outputs": [
        {
          "output_type": "execute_result",
          "data": {
            "text/plain": [
              "LogisticRegression(C=0.1)"
            ],
            "text/html": [
              "<style>#sk-container-id-1 {color: black;background-color: white;}#sk-container-id-1 pre{padding: 0;}#sk-container-id-1 div.sk-toggleable {background-color: white;}#sk-container-id-1 label.sk-toggleable__label {cursor: pointer;display: block;width: 100%;margin-bottom: 0;padding: 0.3em;box-sizing: border-box;text-align: center;}#sk-container-id-1 label.sk-toggleable__label-arrow:before {content: \"▸\";float: left;margin-right: 0.25em;color: #696969;}#sk-container-id-1 label.sk-toggleable__label-arrow:hover:before {color: black;}#sk-container-id-1 div.sk-estimator:hover label.sk-toggleable__label-arrow:before {color: black;}#sk-container-id-1 div.sk-toggleable__content {max-height: 0;max-width: 0;overflow: hidden;text-align: left;background-color: #f0f8ff;}#sk-container-id-1 div.sk-toggleable__content pre {margin: 0.2em;color: black;border-radius: 0.25em;background-color: #f0f8ff;}#sk-container-id-1 input.sk-toggleable__control:checked~div.sk-toggleable__content {max-height: 200px;max-width: 100%;overflow: auto;}#sk-container-id-1 input.sk-toggleable__control:checked~label.sk-toggleable__label-arrow:before {content: \"▾\";}#sk-container-id-1 div.sk-estimator input.sk-toggleable__control:checked~label.sk-toggleable__label {background-color: #d4ebff;}#sk-container-id-1 div.sk-label input.sk-toggleable__control:checked~label.sk-toggleable__label {background-color: #d4ebff;}#sk-container-id-1 input.sk-hidden--visually {border: 0;clip: rect(1px 1px 1px 1px);clip: rect(1px, 1px, 1px, 1px);height: 1px;margin: -1px;overflow: hidden;padding: 0;position: absolute;width: 1px;}#sk-container-id-1 div.sk-estimator {font-family: monospace;background-color: #f0f8ff;border: 1px dotted black;border-radius: 0.25em;box-sizing: border-box;margin-bottom: 0.5em;}#sk-container-id-1 div.sk-estimator:hover {background-color: #d4ebff;}#sk-container-id-1 div.sk-parallel-item::after {content: \"\";width: 100%;border-bottom: 1px solid gray;flex-grow: 1;}#sk-container-id-1 div.sk-label:hover label.sk-toggleable__label {background-color: #d4ebff;}#sk-container-id-1 div.sk-serial::before {content: \"\";position: absolute;border-left: 1px solid gray;box-sizing: border-box;top: 0;bottom: 0;left: 50%;z-index: 0;}#sk-container-id-1 div.sk-serial {display: flex;flex-direction: column;align-items: center;background-color: white;padding-right: 0.2em;padding-left: 0.2em;position: relative;}#sk-container-id-1 div.sk-item {position: relative;z-index: 1;}#sk-container-id-1 div.sk-parallel {display: flex;align-items: stretch;justify-content: center;background-color: white;position: relative;}#sk-container-id-1 div.sk-item::before, #sk-container-id-1 div.sk-parallel-item::before {content: \"\";position: absolute;border-left: 1px solid gray;box-sizing: border-box;top: 0;bottom: 0;left: 50%;z-index: -1;}#sk-container-id-1 div.sk-parallel-item {display: flex;flex-direction: column;z-index: 1;position: relative;background-color: white;}#sk-container-id-1 div.sk-parallel-item:first-child::after {align-self: flex-end;width: 50%;}#sk-container-id-1 div.sk-parallel-item:last-child::after {align-self: flex-start;width: 50%;}#sk-container-id-1 div.sk-parallel-item:only-child::after {width: 0;}#sk-container-id-1 div.sk-dashed-wrapped {border: 1px dashed gray;margin: 0 0.4em 0.5em 0.4em;box-sizing: border-box;padding-bottom: 0.4em;background-color: white;}#sk-container-id-1 div.sk-label label {font-family: monospace;font-weight: bold;display: inline-block;line-height: 1.2em;}#sk-container-id-1 div.sk-label-container {text-align: center;}#sk-container-id-1 div.sk-container {/* jupyter's `normalize.less` sets `[hidden] { display: none; }` but bootstrap.min.css set `[hidden] { display: none !important; }` so we also need the `!important` here to be able to override the default hidden behavior on the sphinx rendered scikit-learn.org. See: https://github.com/scikit-learn/scikit-learn/issues/21755 */display: inline-block !important;position: relative;}#sk-container-id-1 div.sk-text-repr-fallback {display: none;}</style><div id=\"sk-container-id-1\" class=\"sk-top-container\"><div class=\"sk-text-repr-fallback\"><pre>LogisticRegression(C=0.1)</pre><b>In a Jupyter environment, please rerun this cell to show the HTML representation or trust the notebook. <br />On GitHub, the HTML representation is unable to render, please try loading this page with nbviewer.org.</b></div><div class=\"sk-container\" hidden><div class=\"sk-item\"><div class=\"sk-estimator sk-toggleable\"><input class=\"sk-toggleable__control sk-hidden--visually\" id=\"sk-estimator-id-1\" type=\"checkbox\" checked><label for=\"sk-estimator-id-1\" class=\"sk-toggleable__label sk-toggleable__label-arrow\">LogisticRegression</label><div class=\"sk-toggleable__content\"><pre>LogisticRegression(C=0.1)</pre></div></div></div></div></div>"
            ]
          },
          "metadata": {},
          "execution_count": 32
        }
      ],
      "source": [
        "# LogisticRegression 모델에 훈련 데이터 학습\n",
        "model.fit(train_features, train_labels)"
      ]
    },
    {
      "cell_type": "code",
      "execution_count": null,
      "metadata": {
        "id": "SvH7z0wKXlue"
      },
      "outputs": [],
      "source": [
        "# 테스트 데이터 벡터화\n",
        "test_features=vectorizer.transform(test_texts)"
      ]
    },
    {
      "cell_type": "code",
      "execution_count": null,
      "metadata": {
        "id": "hzioja8UXluf",
        "colab": {
          "base_uri": "https://localhost:8080/"
        },
        "outputId": "9ab32f2e-17f7-4344-9ebc-d33e184c5522"
      },
      "outputs": [
        {
          "output_type": "execute_result",
          "data": {
            "text/plain": [
              "array([1, 1, 1, ..., 1, 1, 1])"
            ]
          },
          "metadata": {},
          "execution_count": 35
        }
      ],
      "source": [
        "# 훈련시킨 모델로 테스트 데이터 예측\n",
        "model.predict(test_features)"
      ]
    },
    {
      "cell_type": "code",
      "execution_count": null,
      "metadata": {
        "id": "O6EOdVQSXluf",
        "colab": {
          "base_uri": "https://localhost:8080/"
        },
        "outputId": "7fff4b57-c37d-430f-f965-bf63eebf5abb"
      },
      "outputs": [
        {
          "output_type": "stream",
          "name": "stdout",
          "text": [
            "잘못 분류된 리뷰: 1316 out of 10828\n",
            "Accuracy: 0.88\n"
          ]
        }
      ],
      "source": [
        "# 정확도 테스트\n",
        "pred_labels = model.predict(test_features)\n",
        "print('잘못 분류된 리뷰: {} out of {}'.format((pred_labels != test_labels).sum(),len(test_labels)))\n",
        "print('Accuracy: %.2f' % accuracy_score(test_labels, pred_labels))"
      ]
    },
    {
      "cell_type": "code",
      "execution_count": null,
      "metadata": {
        "id": "zPhfo4vgXluf"
      },
      "outputs": [],
      "source": [
        "# 사용된 단어 리스트\n",
        "vocablist = [word for word, _ in sorted(vectorizer.vocabulary_.items(), key=lambda x:x[1])]"
      ]
    },
    {
      "cell_type": "code",
      "execution_count": null,
      "metadata": {
        "id": "vOk45xPNXluf"
      },
      "outputs": [],
      "source": [
        "# 가중치 계산 양수면 긍정, 음수면 부정\n",
        "coefficients =  model.coef_.tolist()\n",
        "\n",
        "sorted_coefficients = sorted(enumerate(coefficients[0]), key=lambda x:x[1], reverse=True)\n",
        "# 학습에 사용된 각 단어마다의 coefficient (즉 weight) 값이 존재"
      ]
    },
    {
      "cell_type": "code",
      "execution_count": null,
      "metadata": {
        "id": "Ih3h48ETXlug",
        "colab": {
          "base_uri": "https://localhost:8080/"
        },
        "outputId": "4343bbf5-09a2-43fa-fd05-e84d981c54b8"
      },
      "outputs": [
        {
          "output_type": "stream",
          "name": "stdout",
          "text": [
            "좋다 (2.262)\n",
            "ᄒᄒ (1.469)\n",
            "있다 (1.369)\n",
            "만족하다 (1.094)\n",
            "진짜 (1.071)\n",
            "예쁘다 (1.068)\n",
            "사용 (0.977)\n",
            "되다 (0.930)\n",
            "없이 (0.907)\n",
            "해주다 (0.811)\n",
            "까지 (0.802)\n",
            "최고 (0.786)\n",
            "고민 (0.764)\n",
            "마음 (0.756)\n",
            "레드 (0.747)\n",
            "들다 (0.745)\n",
            "이쁘다 (0.743)\n",
            "컬러 (0.741)\n",
            "만족스럽다 (0.739)\n",
            "촉촉하다 (0.728)\n",
            "일리 (0.727)\n",
            "자연 (0.726)\n",
            "부드럽다 (0.715)\n",
            "스럽게 (0.715)\n",
            "찰떡 (0.707)\n",
            "메이크업 (0.687)\n",
            "아주 (0.684)\n",
            "으로 (0.673)\n",
            "섀도우 (0.667)\n",
            "파운데이션 (0.667)\n",
            "편하다 (0.666)\n",
            "살짝 (0.657)\n",
            "완전 (0.654)\n",
            "추천 (0.653)\n",
            "만족 (0.638)\n",
            "선물 (0.633)\n",
            "하다 (0.622)\n",
            "에도 (0.620)\n",
            "이에요 (0.619)\n",
            "피부 (0.606)\n",
            "블러셔 (0.591)\n",
            "넘다 (0.590)\n",
            "브라운 (0.588)\n",
            "색도 (0.580)\n",
            "타입 (0.567)\n",
            "화장 (0.563)\n",
            "같이 (0.559)\n",
            "정착 (0.557)\n",
            "립스틱 (0.552)\n",
            "부담 (0.551)\n"
          ]
        }
      ],
      "source": [
        "# 긍정단어 TOP 50\n",
        "for word, coef in sorted_coefficients[:50]:\n",
        "    print('{0:} ({1:.3f})'.format(vocablist[word], coef))"
      ]
    },
    {
      "cell_type": "code",
      "execution_count": null,
      "metadata": {
        "id": "50esTEBAXlug",
        "colab": {
          "base_uri": "https://localhost:8080/"
        },
        "outputId": "87f43755-6eed-44a8-ac7f-e981cd7e7d1c"
      },
      "outputs": [
        {
          "output_type": "stream",
          "name": "stdout",
          "text": [
            "다시 (-0.404)\n",
            "나쁘다 (-0.414)\n",
            "짧다 (-0.425)\n",
            "다시다 (-0.430)\n",
            "손등 (-0.431)\n",
            "최악 (-0.441)\n",
            "애매하다 (-0.443)\n",
            "아쉬움 (-0.449)\n",
            "공홈 (-0.451)\n",
            "뭉치다 (-0.458)\n",
            "에게는 (-0.459)\n",
            "버리다 (-0.465)\n",
            "스럽다 (-0.467)\n",
            "문제 (-0.491)\n",
            "아니다 (-0.502)\n",
            "재다 (-0.506)\n",
            "배송 (-0.510)\n",
            "아깝다 (-0.511)\n",
            "이상하다 (-0.554)\n",
            "나다 (-0.559)\n",
            "어렵다 (-0.568)\n",
            "성은 (-0.599)\n",
            "맞다 (-0.609)\n",
            "심해 (-0.620)\n",
            "차라리 (-0.627)\n",
            "비추다 (-0.630)\n",
            "그렇다 (-0.647)\n",
            "사다 (-0.659)\n",
            "심하다 (-0.678)\n",
            "안좋다 (-0.707)\n",
            "입술 (-0.735)\n",
            "그나마 (-0.742)\n",
            "발색 (-0.753)\n",
            "약하다 (-0.790)\n",
            "부러지다 (-0.803)\n",
            "ᅮᅮ (-0.819)\n",
            "많이 (-0.854)\n",
            "실망하다 (-0.970)\n",
            "생각 (-0.976)\n",
            "매다 (-1.030)\n",
            "건지다 (-1.037)\n",
            "기대 (-1.041)\n",
            "안되다 (-1.127)\n",
            "기대하다 (-1.247)\n",
            "실망 (-1.356)\n",
            "모르다 (-1.528)\n",
            "그냥 (-1.691)\n",
            "별로 (-1.954)\n",
            "ᅲᅲ (-2.093)\n",
            "아쉽다 (-2.202)\n"
          ]
        }
      ],
      "source": [
        "# 부정단어 TOP 50\n",
        "for word, coef in sorted_coefficients[-50:]:\n",
        "    print('{0:} ({1:.3f})'.format(vocablist[word], coef))"
      ]
    },
    {
      "cell_type": "markdown",
      "metadata": {
        "id": "VWe-3--IXlug"
      },
      "source": [
        "### 명사 기준 전처리"
      ]
    },
    {
      "cell_type": "code",
      "execution_count": null,
      "metadata": {
        "id": "Zww4RjyYXlug"
      },
      "outputs": [],
      "source": [
        "# # 리뷰 전처리\n",
        "# df['리뷰_명사'] = df['리뷰'].map(lambda x: okt.nouns(x)).map(lambda x: ' '.join(x))"
      ]
    },
    {
      "cell_type": "code",
      "execution_count": null,
      "metadata": {
        "id": "kVvaiEyXXlug"
      },
      "outputs": [],
      "source": [
        "# 데이터 스플릿(훈련 데이터와 테스트 데이터)\n",
        "train_texts, test_texts, train_labels, test_labels = train_test_split(df.dropna(subset = '리뷰_명사')['리뷰_명사'], df.dropna(subset = '리뷰_명사')['label'], test_size=0.3, random_state=0)"
      ]
    },
    {
      "cell_type": "code",
      "execution_count": null,
      "metadata": {
        "id": "IW9XCQtEXlug"
      },
      "outputs": [],
      "source": [
        "# TF-IDF 벡터화\n",
        "vectorizer = TfidfVectorizer(min_df=1, norm='l2', ngram_range=(1,1))\n",
        "train_features = vectorizer.fit_transform(train_texts)"
      ]
    },
    {
      "cell_type": "code",
      "execution_count": null,
      "metadata": {
        "id": "i1DH1A-aXlug",
        "colab": {
          "base_uri": "https://localhost:8080/",
          "height": 74
        },
        "outputId": "67bc7e17-f4db-4086-b138-4a7a19de9825"
      },
      "outputs": [
        {
          "output_type": "execute_result",
          "data": {
            "text/plain": [
              "LogisticRegression(C=0.1)"
            ],
            "text/html": [
              "<style>#sk-container-id-2 {color: black;background-color: white;}#sk-container-id-2 pre{padding: 0;}#sk-container-id-2 div.sk-toggleable {background-color: white;}#sk-container-id-2 label.sk-toggleable__label {cursor: pointer;display: block;width: 100%;margin-bottom: 0;padding: 0.3em;box-sizing: border-box;text-align: center;}#sk-container-id-2 label.sk-toggleable__label-arrow:before {content: \"▸\";float: left;margin-right: 0.25em;color: #696969;}#sk-container-id-2 label.sk-toggleable__label-arrow:hover:before {color: black;}#sk-container-id-2 div.sk-estimator:hover label.sk-toggleable__label-arrow:before {color: black;}#sk-container-id-2 div.sk-toggleable__content {max-height: 0;max-width: 0;overflow: hidden;text-align: left;background-color: #f0f8ff;}#sk-container-id-2 div.sk-toggleable__content pre {margin: 0.2em;color: black;border-radius: 0.25em;background-color: #f0f8ff;}#sk-container-id-2 input.sk-toggleable__control:checked~div.sk-toggleable__content {max-height: 200px;max-width: 100%;overflow: auto;}#sk-container-id-2 input.sk-toggleable__control:checked~label.sk-toggleable__label-arrow:before {content: \"▾\";}#sk-container-id-2 div.sk-estimator input.sk-toggleable__control:checked~label.sk-toggleable__label {background-color: #d4ebff;}#sk-container-id-2 div.sk-label input.sk-toggleable__control:checked~label.sk-toggleable__label {background-color: #d4ebff;}#sk-container-id-2 input.sk-hidden--visually {border: 0;clip: rect(1px 1px 1px 1px);clip: rect(1px, 1px, 1px, 1px);height: 1px;margin: -1px;overflow: hidden;padding: 0;position: absolute;width: 1px;}#sk-container-id-2 div.sk-estimator {font-family: monospace;background-color: #f0f8ff;border: 1px dotted black;border-radius: 0.25em;box-sizing: border-box;margin-bottom: 0.5em;}#sk-container-id-2 div.sk-estimator:hover {background-color: #d4ebff;}#sk-container-id-2 div.sk-parallel-item::after {content: \"\";width: 100%;border-bottom: 1px solid gray;flex-grow: 1;}#sk-container-id-2 div.sk-label:hover label.sk-toggleable__label {background-color: #d4ebff;}#sk-container-id-2 div.sk-serial::before {content: \"\";position: absolute;border-left: 1px solid gray;box-sizing: border-box;top: 0;bottom: 0;left: 50%;z-index: 0;}#sk-container-id-2 div.sk-serial {display: flex;flex-direction: column;align-items: center;background-color: white;padding-right: 0.2em;padding-left: 0.2em;position: relative;}#sk-container-id-2 div.sk-item {position: relative;z-index: 1;}#sk-container-id-2 div.sk-parallel {display: flex;align-items: stretch;justify-content: center;background-color: white;position: relative;}#sk-container-id-2 div.sk-item::before, #sk-container-id-2 div.sk-parallel-item::before {content: \"\";position: absolute;border-left: 1px solid gray;box-sizing: border-box;top: 0;bottom: 0;left: 50%;z-index: -1;}#sk-container-id-2 div.sk-parallel-item {display: flex;flex-direction: column;z-index: 1;position: relative;background-color: white;}#sk-container-id-2 div.sk-parallel-item:first-child::after {align-self: flex-end;width: 50%;}#sk-container-id-2 div.sk-parallel-item:last-child::after {align-self: flex-start;width: 50%;}#sk-container-id-2 div.sk-parallel-item:only-child::after {width: 0;}#sk-container-id-2 div.sk-dashed-wrapped {border: 1px dashed gray;margin: 0 0.4em 0.5em 0.4em;box-sizing: border-box;padding-bottom: 0.4em;background-color: white;}#sk-container-id-2 div.sk-label label {font-family: monospace;font-weight: bold;display: inline-block;line-height: 1.2em;}#sk-container-id-2 div.sk-label-container {text-align: center;}#sk-container-id-2 div.sk-container {/* jupyter's `normalize.less` sets `[hidden] { display: none; }` but bootstrap.min.css set `[hidden] { display: none !important; }` so we also need the `!important` here to be able to override the default hidden behavior on the sphinx rendered scikit-learn.org. See: https://github.com/scikit-learn/scikit-learn/issues/21755 */display: inline-block !important;position: relative;}#sk-container-id-2 div.sk-text-repr-fallback {display: none;}</style><div id=\"sk-container-id-2\" class=\"sk-top-container\"><div class=\"sk-text-repr-fallback\"><pre>LogisticRegression(C=0.1)</pre><b>In a Jupyter environment, please rerun this cell to show the HTML representation or trust the notebook. <br />On GitHub, the HTML representation is unable to render, please try loading this page with nbviewer.org.</b></div><div class=\"sk-container\" hidden><div class=\"sk-item\"><div class=\"sk-estimator sk-toggleable\"><input class=\"sk-toggleable__control sk-hidden--visually\" id=\"sk-estimator-id-2\" type=\"checkbox\" checked><label for=\"sk-estimator-id-2\" class=\"sk-toggleable__label sk-toggleable__label-arrow\">LogisticRegression</label><div class=\"sk-toggleable__content\"><pre>LogisticRegression(C=0.1)</pre></div></div></div></div></div>"
            ]
          },
          "metadata": {},
          "execution_count": 45
        }
      ],
      "source": [
        "# LogisticRegression 모델에 훈련 데이터 학습\n",
        "model.fit(train_features, train_labels)"
      ]
    },
    {
      "cell_type": "code",
      "execution_count": null,
      "metadata": {
        "id": "qrTzY5RwXlug"
      },
      "outputs": [],
      "source": [
        "# 테스트 데이터 벡터화\n",
        "test_features = vectorizer.transform(test_texts)"
      ]
    },
    {
      "cell_type": "code",
      "execution_count": null,
      "metadata": {
        "id": "KkEW8ZsiXluh",
        "colab": {
          "base_uri": "https://localhost:8080/"
        },
        "outputId": "08955ce1-f776-4700-8b30-290056ab5473"
      },
      "outputs": [
        {
          "output_type": "execute_result",
          "data": {
            "text/plain": [
              "array([1, 1, 1, ..., 1, 1, 1])"
            ]
          },
          "metadata": {},
          "execution_count": 47
        }
      ],
      "source": [
        "# 훈련시킨 모델로 테스트 데이터 예측\n",
        "model.predict(test_features)"
      ]
    },
    {
      "cell_type": "code",
      "execution_count": null,
      "metadata": {
        "id": "mmqwiGZFXluh",
        "colab": {
          "base_uri": "https://localhost:8080/"
        },
        "outputId": "fc91dd03-cb57-4c39-9053-4bba9f5a6de2"
      },
      "outputs": [
        {
          "output_type": "stream",
          "name": "stdout",
          "text": [
            "잘못 분류된 리뷰: 1305 out of 10815\n",
            "Accuracy: 0.88\n"
          ]
        }
      ],
      "source": [
        "# 정확도 테스트\n",
        "pred_labels = model.predict(test_features)\n",
        "print('잘못 분류된 리뷰: {} out of {}'.format((pred_labels != test_labels).sum(),len(test_labels)))\n",
        "print('Accuracy: %.2f' % accuracy_score(test_labels, pred_labels))"
      ]
    },
    {
      "cell_type": "code",
      "execution_count": null,
      "metadata": {
        "id": "_fd29-jAXluh"
      },
      "outputs": [],
      "source": [
        "# 사용된 단어\n",
        "vocablist = [word for word, _ in sorted(vectorizer.vocabulary_.items(), key=lambda x:x[1])]"
      ]
    },
    {
      "cell_type": "code",
      "execution_count": null,
      "metadata": {
        "id": "YAXsEVnlXluh"
      },
      "outputs": [],
      "source": [
        "# 가중치 계산\n",
        "coefficients = model.coef_.tolist()\n",
        "\n",
        "sorted_coefficients = sorted(enumerate(coefficients[0]), key=lambda x:x[1], reverse=True)\n",
        "# 학습에 사용된 각 단어마다의 coefficient (즉 weight) 값이 존재"
      ]
    },
    {
      "cell_type": "code",
      "execution_count": null,
      "metadata": {
        "id": "DfXv-fNQXluh",
        "scrolled": true,
        "colab": {
          "base_uri": "https://localhost:8080/"
        },
        "outputId": "f1fbbfdd-6667-45ff-924e-6f29588dd117"
      },
      "outputs": [
        {
          "output_type": "stream",
          "name": "stdout",
          "text": [
            "사용 (1.255)\n",
            "자연 (1.158)\n",
            "진짜 (1.108)\n",
            "아주 (0.979)\n",
            "일리 (0.950)\n",
            "고민 (0.911)\n",
            "마음 (0.905)\n",
            "최고 (0.898)\n",
            "만족 (0.821)\n",
            "선물 (0.801)\n",
            "메이크업 (0.781)\n",
            "블러셔 (0.772)\n",
            "쿠션 (0.767)\n",
            "추천 (0.744)\n",
            "부담 (0.739)\n",
            "찰떡 (0.737)\n",
            "피부 (0.730)\n",
            "살짝 (0.708)\n",
            "정착 (0.703)\n",
            "브라운 (0.695)\n",
            "립스틱 (0.691)\n",
            "색도 (0.681)\n",
            "요즘 (0.664)\n",
            "컬러 (0.659)\n",
            "표현 (0.650)\n",
            "파운데이션 (0.644)\n",
            "레드 (0.636)\n",
            "화장 (0.629)\n",
            "완전 (0.627)\n",
            "이번 (0.619)\n",
            "색상 (0.616)\n",
            "편이 (0.601)\n",
            "섀도우 (0.601)\n",
            "글리터 (0.600)\n",
            "걱정 (0.600)\n",
            "계속 (0.595)\n",
            "포인트 (0.593)\n",
            "코랄 (0.592)\n",
            "얼굴 (0.587)\n",
            "정도 (0.572)\n",
            "바비 (0.555)\n",
            "역시 (0.538)\n",
            "하나 (0.537)\n",
            "아침 (0.529)\n",
            "아이라이너 (0.525)\n",
            "성도 (0.522)\n",
            "가격 (0.521)\n",
            "키스미 (0.512)\n",
            "타입 (0.509)\n",
            "유지 (0.508)\n"
          ]
        }
      ],
      "source": [
        "# 긍정단어 TOP 50\n",
        "for word, coef in sorted_coefficients[:50]:\n",
        "    print('{0:} ({1:.3f})'.format(vocablist[word], coef))"
      ]
    },
    {
      "cell_type": "code",
      "execution_count": null,
      "metadata": {
        "id": "XXwkzA3OXluh",
        "scrolled": true,
        "colab": {
          "base_uri": "https://localhost:8080/"
        },
        "outputId": "bba843a1-2211-46a5-de49-c5550bbced61"
      },
      "outputs": [
        {
          "output_type": "stream",
          "name": "stdout",
          "text": [
            "인지 (-0.304)\n",
            "페리페라 (-0.310)\n",
            "기름 (-0.328)\n",
            "성분 (-0.331)\n",
            "부분 (-0.332)\n",
            "분명 (-0.342)\n",
            "그게 (-0.348)\n",
            "리뷰 (-0.350)\n",
            "달라 (-0.352)\n",
            "색력 (-0.359)\n",
            "안나 (-0.364)\n",
            "제대로 (-0.365)\n",
            "자체 (-0.370)\n",
            "난리 (-0.372)\n",
            "뻑뻑 (-0.372)\n",
            "런가 (-0.372)\n",
            "후회 (-0.378)\n",
            "롬앤 (-0.382)\n",
            "뭔가 (-0.402)\n",
            "의사 (-0.406)\n",
            "각질 (-0.409)\n",
            "별루 (-0.422)\n",
            "당황 (-0.426)\n",
            "배송 (-0.449)\n",
            "개인 (-0.449)\n",
            "잘못 (-0.459)\n",
            "사지 (-0.460)\n",
            "최악 (-0.471)\n",
            "발림 (-0.488)\n",
            "절대 (-0.489)\n",
            "손등 (-0.493)\n",
            "냄새 (-0.496)\n",
            "건가 (-0.502)\n",
            "문제 (-0.535)\n",
            "아쉬움 (-0.558)\n",
            "다시 (-0.595)\n",
            "공홈 (-0.638)\n",
            "교환 (-0.658)\n",
            "발색 (-0.668)\n",
            "다소 (-0.684)\n",
            "그닥 (-0.695)\n",
            "입술 (-0.740)\n",
            "성은 (-0.751)\n",
            "차라리 (-0.761)\n",
            "심해 (-0.821)\n",
            "기대 (-1.213)\n",
            "생각 (-1.244)\n",
            "실망 (-1.691)\n",
            "그냥 (-1.738)\n",
            "별로 (-2.425)\n"
          ]
        }
      ],
      "source": [
        "# 부정단어 TOP 50\n",
        "for word, coef in sorted_coefficients[-50:]:\n",
        "    print('{0:} ({1:.3f})'.format(vocablist[word], coef))"
      ]
    },
    {
      "cell_type": "markdown",
      "source": [
        "- 지금 이 데이터는 화장품이라는 도메인에서만 활용됨\n",
        "- 비슷한 레이블이 있는데서 적용 시키기 (도메인을 잘 찾기)"
      ],
      "metadata": {
        "id": "LUVezdN5SBO3"
      }
    }
  ],
  "metadata": {
    "colab": {
      "provenance": [],
      "include_colab_link": true
    },
    "kernelspec": {
      "display_name": "Python 3",
      "language": "python",
      "name": "python3"
    },
    "language_info": {
      "codemirror_mode": {
        "name": "ipython",
        "version": 3
      },
      "file_extension": ".py",
      "mimetype": "text/x-python",
      "name": "python",
      "nbconvert_exporter": "python",
      "pygments_lexer": "ipython3",
      "version": "3.8.11"
    }
  },
  "nbformat": 4,
  "nbformat_minor": 0
}