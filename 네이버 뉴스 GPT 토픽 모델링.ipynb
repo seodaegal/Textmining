{
  "nbformat": 4,
  "nbformat_minor": 0,
  "metadata": {
    "colab": {
      "provenance": [],
      "authorship_tag": "ABX9TyNbDnwiti+rnjJw3jffVl7M",
      "include_colab_link": true
    },
    "kernelspec": {
      "name": "python3",
      "display_name": "Python 3"
    },
    "language_info": {
      "name": "python"
    }
  },
  "cells": [
    {
      "cell_type": "markdown",
      "metadata": {
        "id": "view-in-github",
        "colab_type": "text"
      },
      "source": [
        "<a href=\"https://colab.research.google.com/github/seodaegal/Textmining/blob/main/%EB%84%A4%EC%9D%B4%EB%B2%84%20%EB%89%B4%EC%8A%A4%20GPT%20%ED%86%A0%ED%94%BD%20%EB%AA%A8%EB%8D%B8%EB%A7%81.ipynb\" target=\"_parent\"><img src=\"https://colab.research.google.com/assets/colab-badge.svg\" alt=\"Open In Colab\"/></a>"
      ]
    },
    {
      "cell_type": "markdown",
      "source": [
        "4주차 과제는 네이버 뉴스 GPT 토픽 모델링입니다.\n",
        "\n",
        "1. 신규 용어가 많이 등장하므로 사용자 사전을 구축합니다.\n",
        "2. 토픽 모델링과 토픽에 대한 해석\n",
        "\n",
        "위의 두가지 과정에서 여러분들의 분석 과정의 깊이를 보여주시기를 부탁드립니다. 전처리 방법과 토픽 개수 지정 등 다양하게 활용해보시기 바랍니다."
      ],
      "metadata": {
        "id": "pIFd_SI7Cinx"
      }
    },
    {
      "cell_type": "code",
      "source": [
        "# pyLDAvis 설치\n",
        "! pip install pyLDAvis"
      ],
      "metadata": {
        "id": "78HHrftiICyt"
      },
      "execution_count": null,
      "outputs": []
    },
    {
      "cell_type": "code",
      "execution_count": null,
      "metadata": {
        "id": "x_e2UOr1fFup"
      },
      "outputs": [],
      "source": [
        "# 한글 폰트 설치\n",
        "!sudo apt-get install -y fonts-nanum\n",
        "!sudo fc-cache -fv\n",
        "!rm ~/.cache/matplotlib -rf"
      ]
    },
    {
      "cell_type": "code",
      "source": [
        "! git clone https://github.com/SOMJANG/Mecab-ko-for-Google-Colab.git"
      ],
      "metadata": {
        "id": "gkVUyCirKSLq"
      },
      "execution_count": null,
      "outputs": []
    },
    {
      "cell_type": "code",
      "source": [
        "cd Mecab-ko-for-Google-Colab"
      ],
      "metadata": {
        "colab": {
          "base_uri": "https://localhost:8080/"
        },
        "id": "EPU6HLI9KaLQ",
        "outputId": "41afa654-bbe1-4fb7-e6c8-fca2254b1d22"
      },
      "execution_count": null,
      "outputs": [
        {
          "output_type": "stream",
          "name": "stdout",
          "text": [
            "/content/Mecab-ko-for-Google-Colab\n"
          ]
        }
      ]
    },
    {
      "cell_type": "code",
      "source": [
        "!bash install_mecab-ko_on_colab_light_220429.sh"
      ],
      "metadata": {
        "id": "3eRfjD9QKj0y"
      },
      "execution_count": null,
      "outputs": []
    },
    {
      "cell_type": "code",
      "source": [
        "cd /content/mecab-ko-dic-2.1.1-20180720"
      ],
      "metadata": {
        "colab": {
          "base_uri": "https://localhost:8080/"
        },
        "id": "oOe6jIT4KpoS",
        "outputId": "18f0e46b-39b8-4384-ee00-d53512eece8d"
      },
      "execution_count": null,
      "outputs": [
        {
          "output_type": "stream",
          "name": "stdout",
          "text": [
            "/content/mecab-ko-dic-2.1.1-20180720\n"
          ]
        }
      ]
    },
    {
      "cell_type": "code",
      "source": [
        "!pip install jamo\n",
        "\n",
        "from jamo import h2j, j2hcj\n",
        "def get_jongsung_TF(sample_text):\n",
        "    sample_text_list = list(sample_text)\n",
        "    last_word = sample_text_list[-1]\n",
        "    last_word_jamo_list = list(j2hcj(h2j(last_word)))\n",
        "    last_jamo = last_word_jamo_list[-1]\n",
        "\n",
        "    jongsung_TF = \"T\"\n",
        "\n",
        "    if last_jamo in ['ㅏ', 'ㅑ', 'ㅓ', 'ㅕ', 'ㅗ', 'ㅛ', 'ㅜ', 'ㅠ', 'ㅡ', 'ㅣ', 'ㅘ', 'ㅚ', 'ㅙ', 'ㅝ', 'ㅞ', 'ㅢ', 'ㅐ,ㅔ', 'ㅟ', 'ㅖ', 'ㅒ']:\n",
        "        jongsung_TF = \"F\"\n",
        "\n",
        "    return jongsung_TF"
      ],
      "metadata": {
        "colab": {
          "base_uri": "https://localhost:8080/"
        },
        "id": "YUpLkAyWLnu9",
        "outputId": "dbf8a067-726e-494c-a40c-c8272e042b1f"
      },
      "execution_count": null,
      "outputs": [
        {
          "output_type": "stream",
          "name": "stdout",
          "text": [
            "Looking in indexes: https://pypi.org/simple, https://us-python.pkg.dev/colab-wheels/public/simple/\n",
            "Requirement already satisfied: jamo in /usr/local/lib/python3.10/dist-packages (0.4.1)\n"
          ]
        }
      ]
    },
    {
      "cell_type": "code",
      "source": [
        "def make_user_dic_csv(morpheme_type, word_list, user_dic_file_name):\n",
        "  file_data = []\n",
        "\n",
        "  for word, score in word_list:\n",
        "    jongsung_TF = get_jongsung_TF(word)\n",
        "\n",
        "    line = f\"{word},,,{score},{morpheme_type},*,{jongsung_TF},{word},*,*,*,*,*\\n\"\n",
        "\n",
        "    file_data.append(line)\n",
        "\n",
        "  with open(\"./user-dic/user-nnp.csv\", 'w', encoding='utf-8') as f:\n",
        "    for line in file_data:\n",
        "      f.write(line)"
      ],
      "metadata": {
        "id": "h2loe-smLuE6"
      },
      "execution_count": null,
      "outputs": []
    },
    {
      "cell_type": "markdown",
      "source": [
        "# 네이버 뉴스"
      ],
      "metadata": {
        "id": "J120CyJgDy_i"
      }
    },
    {
      "cell_type": "code",
      "source": [
        "from google.colab import drive\n",
        "drive.mount('/content/drive')"
      ],
      "metadata": {
        "colab": {
          "base_uri": "https://localhost:8080/"
        },
        "id": "Byd--oYWD23k",
        "outputId": "21c31663-86c6-47f4-f6c6-bacf4d067c89"
      },
      "execution_count": null,
      "outputs": [
        {
          "output_type": "stream",
          "name": "stdout",
          "text": [
            "Drive already mounted at /content/drive; to attempt to forcibly remount, call drive.mount(\"/content/drive\", force_remount=True).\n"
          ]
        }
      ]
    },
    {
      "cell_type": "code",
      "source": [
        "import pandas as pd\n",
        "import os\n",
        "path = '/content/drive/MyDrive/딥다이브/4강'\n",
        "filename = '네이버 뉴스_2023 GPT.csv'\n",
        "\n",
        "df = pd.read_csv(os.path.join(path, filename))\n",
        "df.info()"
      ],
      "metadata": {
        "colab": {
          "base_uri": "https://localhost:8080/"
        },
        "id": "1qsJumijEvtg",
        "outputId": "3d0a6a67-468d-430b-fd9a-5c0694f315d2"
      },
      "execution_count": null,
      "outputs": [
        {
          "output_type": "stream",
          "name": "stdout",
          "text": [
            "<class 'pandas.core.frame.DataFrame'>\n",
            "RangeIndex: 36011 entries, 0 to 36010\n",
            "Data columns (total 5 columns):\n",
            " #   Column     Non-Null Count  Dtype \n",
            "---  ------     --------------  ----- \n",
            " 0   제목         36011 non-null  object\n",
            " 1   언론사        36011 non-null  object\n",
            " 2   날짜         36011 non-null  object\n",
            " 3   URL        36011 non-null  object\n",
            " 4   네이버뉴스_URL  16057 non-null  object\n",
            "dtypes: object(5)\n",
            "memory usage: 1.4+ MB\n"
          ]
        }
      ]
    },
    {
      "cell_type": "code",
      "source": [
        "df.head()"
      ],
      "metadata": {
        "colab": {
          "base_uri": "https://localhost:8080/",
          "height": 206
        },
        "id": "S0Z3OojYE51P",
        "outputId": "fef35f6c-0ac1-4e38-d876-5ba883d597bd"
      },
      "execution_count": null,
      "outputs": [
        {
          "output_type": "execute_result",
          "data": {
            "text/plain": [
              "                                              제목         언론사           날짜  \\\n",
              "0              [신년사] 윤주환 / 한국물산업협의회 회장(고려대 명예교수)      에너지데일리  2023.01.01.   \n",
              "1         [이학무의 테크리딩] AI 성공 키워드는 산업별 최적화한 경험과 지식        IT조선  2023.01.01.   \n",
              "2              세계가 열광하는 챗GPT, 수익 창출에도 성공할 수 있을까?   블로터언론사 선정  2023.01.01.   \n",
              "3  [신년특집/다시 부는 AI 열풍①] 왜 생성 AI인가?...새해 테크판 최대 화두      디지털투데이  2023.01.01.   \n",
              "4                        AI로 명품 사로잡은 마크비전코리아의 비결  주간조선언론사 선정  2023.01.01.   \n",
              "\n",
              "                                                 URL  \\\n",
              "0  http://www.energydaily.co.kr/news/articleView....   \n",
              "1  https://it.chosun.com/site/data/html_dir/2022/...   \n",
              "2     http://www.bloter.net/newsView/blt202212300021   \n",
              "3  http://www.digitaltoday.co.kr/news/articleView...   \n",
              "4  http://weekly.chosun.com/news/articleView.html...   \n",
              "\n",
              "                                           네이버뉴스_URL  \n",
              "0                                                NaN  \n",
              "1                                                NaN  \n",
              "2  https://n.news.naver.com/mnews/article/293/000...  \n",
              "3                                                NaN  \n",
              "4  https://n.news.naver.com/mnews/article/053/000...  "
            ],
            "text/html": [
              "\n",
              "  <div id=\"df-2cfd5f6c-bf90-4196-82c7-9a454aa201dc\">\n",
              "    <div class=\"colab-df-container\">\n",
              "      <div>\n",
              "<style scoped>\n",
              "    .dataframe tbody tr th:only-of-type {\n",
              "        vertical-align: middle;\n",
              "    }\n",
              "\n",
              "    .dataframe tbody tr th {\n",
              "        vertical-align: top;\n",
              "    }\n",
              "\n",
              "    .dataframe thead th {\n",
              "        text-align: right;\n",
              "    }\n",
              "</style>\n",
              "<table border=\"1\" class=\"dataframe\">\n",
              "  <thead>\n",
              "    <tr style=\"text-align: right;\">\n",
              "      <th></th>\n",
              "      <th>제목</th>\n",
              "      <th>언론사</th>\n",
              "      <th>날짜</th>\n",
              "      <th>URL</th>\n",
              "      <th>네이버뉴스_URL</th>\n",
              "    </tr>\n",
              "  </thead>\n",
              "  <tbody>\n",
              "    <tr>\n",
              "      <th>0</th>\n",
              "      <td>[신년사] 윤주환 / 한국물산업협의회 회장(고려대 명예교수)</td>\n",
              "      <td>에너지데일리</td>\n",
              "      <td>2023.01.01.</td>\n",
              "      <td>http://www.energydaily.co.kr/news/articleView....</td>\n",
              "      <td>NaN</td>\n",
              "    </tr>\n",
              "    <tr>\n",
              "      <th>1</th>\n",
              "      <td>[이학무의 테크리딩] AI 성공 키워드는 산업별 최적화한 경험과 지식</td>\n",
              "      <td>IT조선</td>\n",
              "      <td>2023.01.01.</td>\n",
              "      <td>https://it.chosun.com/site/data/html_dir/2022/...</td>\n",
              "      <td>NaN</td>\n",
              "    </tr>\n",
              "    <tr>\n",
              "      <th>2</th>\n",
              "      <td>세계가 열광하는 챗GPT, 수익 창출에도 성공할 수 있을까?</td>\n",
              "      <td>블로터언론사 선정</td>\n",
              "      <td>2023.01.01.</td>\n",
              "      <td>http://www.bloter.net/newsView/blt202212300021</td>\n",
              "      <td>https://n.news.naver.com/mnews/article/293/000...</td>\n",
              "    </tr>\n",
              "    <tr>\n",
              "      <th>3</th>\n",
              "      <td>[신년특집/다시 부는 AI 열풍①] 왜 생성 AI인가?...새해 테크판 최대 화두</td>\n",
              "      <td>디지털투데이</td>\n",
              "      <td>2023.01.01.</td>\n",
              "      <td>http://www.digitaltoday.co.kr/news/articleView...</td>\n",
              "      <td>NaN</td>\n",
              "    </tr>\n",
              "    <tr>\n",
              "      <th>4</th>\n",
              "      <td>AI로 명품 사로잡은 마크비전코리아의 비결</td>\n",
              "      <td>주간조선언론사 선정</td>\n",
              "      <td>2023.01.01.</td>\n",
              "      <td>http://weekly.chosun.com/news/articleView.html...</td>\n",
              "      <td>https://n.news.naver.com/mnews/article/053/000...</td>\n",
              "    </tr>\n",
              "  </tbody>\n",
              "</table>\n",
              "</div>\n",
              "      <button class=\"colab-df-convert\" onclick=\"convertToInteractive('df-2cfd5f6c-bf90-4196-82c7-9a454aa201dc')\"\n",
              "              title=\"Convert this dataframe to an interactive table.\"\n",
              "              style=\"display:none;\">\n",
              "        \n",
              "  <svg xmlns=\"http://www.w3.org/2000/svg\" height=\"24px\"viewBox=\"0 0 24 24\"\n",
              "       width=\"24px\">\n",
              "    <path d=\"M0 0h24v24H0V0z\" fill=\"none\"/>\n",
              "    <path d=\"M18.56 5.44l.94 2.06.94-2.06 2.06-.94-2.06-.94-.94-2.06-.94 2.06-2.06.94zm-11 1L8.5 8.5l.94-2.06 2.06-.94-2.06-.94L8.5 2.5l-.94 2.06-2.06.94zm10 10l.94 2.06.94-2.06 2.06-.94-2.06-.94-.94-2.06-.94 2.06-2.06.94z\"/><path d=\"M17.41 7.96l-1.37-1.37c-.4-.4-.92-.59-1.43-.59-.52 0-1.04.2-1.43.59L10.3 9.45l-7.72 7.72c-.78.78-.78 2.05 0 2.83L4 21.41c.39.39.9.59 1.41.59.51 0 1.02-.2 1.41-.59l7.78-7.78 2.81-2.81c.8-.78.8-2.07 0-2.86zM5.41 20L4 18.59l7.72-7.72 1.47 1.35L5.41 20z\"/>\n",
              "  </svg>\n",
              "      </button>\n",
              "      \n",
              "  <style>\n",
              "    .colab-df-container {\n",
              "      display:flex;\n",
              "      flex-wrap:wrap;\n",
              "      gap: 12px;\n",
              "    }\n",
              "\n",
              "    .colab-df-convert {\n",
              "      background-color: #E8F0FE;\n",
              "      border: none;\n",
              "      border-radius: 50%;\n",
              "      cursor: pointer;\n",
              "      display: none;\n",
              "      fill: #1967D2;\n",
              "      height: 32px;\n",
              "      padding: 0 0 0 0;\n",
              "      width: 32px;\n",
              "    }\n",
              "\n",
              "    .colab-df-convert:hover {\n",
              "      background-color: #E2EBFA;\n",
              "      box-shadow: 0px 1px 2px rgba(60, 64, 67, 0.3), 0px 1px 3px 1px rgba(60, 64, 67, 0.15);\n",
              "      fill: #174EA6;\n",
              "    }\n",
              "\n",
              "    [theme=dark] .colab-df-convert {\n",
              "      background-color: #3B4455;\n",
              "      fill: #D2E3FC;\n",
              "    }\n",
              "\n",
              "    [theme=dark] .colab-df-convert:hover {\n",
              "      background-color: #434B5C;\n",
              "      box-shadow: 0px 1px 3px 1px rgba(0, 0, 0, 0.15);\n",
              "      filter: drop-shadow(0px 1px 2px rgba(0, 0, 0, 0.3));\n",
              "      fill: #FFFFFF;\n",
              "    }\n",
              "  </style>\n",
              "\n",
              "      <script>\n",
              "        const buttonEl =\n",
              "          document.querySelector('#df-2cfd5f6c-bf90-4196-82c7-9a454aa201dc button.colab-df-convert');\n",
              "        buttonEl.style.display =\n",
              "          google.colab.kernel.accessAllowed ? 'block' : 'none';\n",
              "\n",
              "        async function convertToInteractive(key) {\n",
              "          const element = document.querySelector('#df-2cfd5f6c-bf90-4196-82c7-9a454aa201dc');\n",
              "          const dataTable =\n",
              "            await google.colab.kernel.invokeFunction('convertToInteractive',\n",
              "                                                     [key], {});\n",
              "          if (!dataTable) return;\n",
              "\n",
              "          const docLinkHtml = 'Like what you see? Visit the ' +\n",
              "            '<a target=\"_blank\" href=https://colab.research.google.com/notebooks/data_table.ipynb>data table notebook</a>'\n",
              "            + ' to learn more about interactive tables.';\n",
              "          element.innerHTML = '';\n",
              "          dataTable['output_type'] = 'display_data';\n",
              "          await google.colab.output.renderOutput(dataTable, element);\n",
              "          const docLink = document.createElement('div');\n",
              "          docLink.innerHTML = docLinkHtml;\n",
              "          element.appendChild(docLink);\n",
              "        }\n",
              "      </script>\n",
              "    </div>\n",
              "  </div>\n",
              "  "
            ]
          },
          "metadata": {},
          "execution_count": 11
        }
      ]
    },
    {
      "cell_type": "code",
      "source": [
        "# URL 기준 중복값 확인\n",
        "df[df.duplicated(subset = 'URL')]"
      ],
      "metadata": {
        "colab": {
          "base_uri": "https://localhost:8080/",
          "height": 423
        },
        "id": "tyCI0faxFzx_",
        "outputId": "90f8191b-e581-4c14-f42e-f131c26b7b5a"
      },
      "execution_count": null,
      "outputs": [
        {
          "output_type": "execute_result",
          "data": {
            "text/plain": [
              "                                               제목        언론사           날짜  \\\n",
              "197                    유영상 SKT 사장, CES서 글로벌 연대 강화     이코노믹리뷰  2023.01.08.   \n",
              "1050              '인력난' 코딩 기술자 없어도 IT사업…서비스형SW 주목  뉴시스언론사 선정  2023.01.25.   \n",
              "1213      AI 일상화 '성큼'…7100억원 투입해 \"AI 초일류 강국으로 도약\"        뉴스1  2023.01.26.   \n",
              "1214                         국가데이터 정책 논의하는 한덕수 총리        뉴스1  2023.01.26.   \n",
              "1215                         국가데이터정책위 주재하는 한덕수 총리        뉴스1  2023.01.26.   \n",
              "...                                           ...        ...          ...   \n",
              "34567             IBK기업은행, '한화그룹 우수협력사 일자리박람회' 개최       뉴스워커  2023.05.02.   \n",
              "34677            머스크 \"AI에 대한 선의의 의존도 문명에 위협\" 또 경고      머니투데이  2023.05.02.   \n",
              "34977              바티AI, ‘2023년 비대면 스타트업 육성사업’ 선정       세계비즈  2023.05.03.   \n",
              "35671      고양시, 국토부 ‘2023년 거점형 스마트시티 조성사업’ 최종 선정돼      메트로신문  2023.05.04.   \n",
              "35751  마음AI, 인공지능기술 가능성에서 현실로...정부 클라우드 보급 사업에 선정       베타뉴스  2023.05.04.   \n",
              "\n",
              "                                                     URL  \\\n",
              "197    https://www.econovill.com/news/articleView.htm...   \n",
              "1050   http://www.newsis.com/view/?id=NISX20230124_00...   \n",
              "1213               https://www.news1.kr/articles/4934497   \n",
              "1214           https://www.news1.kr/photos/view/?5805983   \n",
              "1215           https://www.news1.kr/photos/view/?5805990   \n",
              "...                                                  ...   \n",
              "34567  http://www.newsworker.co.kr/news/articleView.h...   \n",
              "34677  http://news.mt.co.kr/mtview.php?no=20230502162...   \n",
              "34977  http://www.segyebiz.com/newsView/2023050251205...   \n",
              "35671  http://www.metroseoul.co.kr/article/2023050450...   \n",
              "35751  http://www.betanews.net:8080/article/1410605.html   \n",
              "\n",
              "                                               네이버뉴스_URL  \n",
              "197                                                  NaN  \n",
              "1050   https://n.news.naver.com/mnews/article/003/001...  \n",
              "1213   https://n.news.naver.com/mnews/article/421/000...  \n",
              "1214   https://n.news.naver.com/mnews/article/421/000...  \n",
              "1215   https://n.news.naver.com/mnews/article/421/000...  \n",
              "...                                                  ...  \n",
              "34567                                                NaN  \n",
              "34677  https://n.news.naver.com/mnews/article/008/000...  \n",
              "34977                                                NaN  \n",
              "35671                                                NaN  \n",
              "35751                                                NaN  \n",
              "\n",
              "[176 rows x 5 columns]"
            ],
            "text/html": [
              "\n",
              "  <div id=\"df-79ebe354-d2ad-4ef1-a03c-0e7f96a7ec2a\">\n",
              "    <div class=\"colab-df-container\">\n",
              "      <div>\n",
              "<style scoped>\n",
              "    .dataframe tbody tr th:only-of-type {\n",
              "        vertical-align: middle;\n",
              "    }\n",
              "\n",
              "    .dataframe tbody tr th {\n",
              "        vertical-align: top;\n",
              "    }\n",
              "\n",
              "    .dataframe thead th {\n",
              "        text-align: right;\n",
              "    }\n",
              "</style>\n",
              "<table border=\"1\" class=\"dataframe\">\n",
              "  <thead>\n",
              "    <tr style=\"text-align: right;\">\n",
              "      <th></th>\n",
              "      <th>제목</th>\n",
              "      <th>언론사</th>\n",
              "      <th>날짜</th>\n",
              "      <th>URL</th>\n",
              "      <th>네이버뉴스_URL</th>\n",
              "    </tr>\n",
              "  </thead>\n",
              "  <tbody>\n",
              "    <tr>\n",
              "      <th>197</th>\n",
              "      <td>유영상 SKT 사장, CES서 글로벌 연대 강화</td>\n",
              "      <td>이코노믹리뷰</td>\n",
              "      <td>2023.01.08.</td>\n",
              "      <td>https://www.econovill.com/news/articleView.htm...</td>\n",
              "      <td>NaN</td>\n",
              "    </tr>\n",
              "    <tr>\n",
              "      <th>1050</th>\n",
              "      <td>'인력난' 코딩 기술자 없어도 IT사업…서비스형SW 주목</td>\n",
              "      <td>뉴시스언론사 선정</td>\n",
              "      <td>2023.01.25.</td>\n",
              "      <td>http://www.newsis.com/view/?id=NISX20230124_00...</td>\n",
              "      <td>https://n.news.naver.com/mnews/article/003/001...</td>\n",
              "    </tr>\n",
              "    <tr>\n",
              "      <th>1213</th>\n",
              "      <td>AI 일상화 '성큼'…7100억원 투입해 \"AI 초일류 강국으로 도약\"</td>\n",
              "      <td>뉴스1</td>\n",
              "      <td>2023.01.26.</td>\n",
              "      <td>https://www.news1.kr/articles/4934497</td>\n",
              "      <td>https://n.news.naver.com/mnews/article/421/000...</td>\n",
              "    </tr>\n",
              "    <tr>\n",
              "      <th>1214</th>\n",
              "      <td>국가데이터 정책 논의하는 한덕수 총리</td>\n",
              "      <td>뉴스1</td>\n",
              "      <td>2023.01.26.</td>\n",
              "      <td>https://www.news1.kr/photos/view/?5805983</td>\n",
              "      <td>https://n.news.naver.com/mnews/article/421/000...</td>\n",
              "    </tr>\n",
              "    <tr>\n",
              "      <th>1215</th>\n",
              "      <td>국가데이터정책위 주재하는 한덕수 총리</td>\n",
              "      <td>뉴스1</td>\n",
              "      <td>2023.01.26.</td>\n",
              "      <td>https://www.news1.kr/photos/view/?5805990</td>\n",
              "      <td>https://n.news.naver.com/mnews/article/421/000...</td>\n",
              "    </tr>\n",
              "    <tr>\n",
              "      <th>...</th>\n",
              "      <td>...</td>\n",
              "      <td>...</td>\n",
              "      <td>...</td>\n",
              "      <td>...</td>\n",
              "      <td>...</td>\n",
              "    </tr>\n",
              "    <tr>\n",
              "      <th>34567</th>\n",
              "      <td>IBK기업은행, '한화그룹 우수협력사 일자리박람회' 개최</td>\n",
              "      <td>뉴스워커</td>\n",
              "      <td>2023.05.02.</td>\n",
              "      <td>http://www.newsworker.co.kr/news/articleView.h...</td>\n",
              "      <td>NaN</td>\n",
              "    </tr>\n",
              "    <tr>\n",
              "      <th>34677</th>\n",
              "      <td>머스크 \"AI에 대한 선의의 의존도 문명에 위협\" 또 경고</td>\n",
              "      <td>머니투데이</td>\n",
              "      <td>2023.05.02.</td>\n",
              "      <td>http://news.mt.co.kr/mtview.php?no=20230502162...</td>\n",
              "      <td>https://n.news.naver.com/mnews/article/008/000...</td>\n",
              "    </tr>\n",
              "    <tr>\n",
              "      <th>34977</th>\n",
              "      <td>바티AI, ‘2023년 비대면 스타트업 육성사업’ 선정</td>\n",
              "      <td>세계비즈</td>\n",
              "      <td>2023.05.03.</td>\n",
              "      <td>http://www.segyebiz.com/newsView/2023050251205...</td>\n",
              "      <td>NaN</td>\n",
              "    </tr>\n",
              "    <tr>\n",
              "      <th>35671</th>\n",
              "      <td>고양시, 국토부 ‘2023년 거점형 스마트시티 조성사업’ 최종 선정돼</td>\n",
              "      <td>메트로신문</td>\n",
              "      <td>2023.05.04.</td>\n",
              "      <td>http://www.metroseoul.co.kr/article/2023050450...</td>\n",
              "      <td>NaN</td>\n",
              "    </tr>\n",
              "    <tr>\n",
              "      <th>35751</th>\n",
              "      <td>마음AI, 인공지능기술 가능성에서 현실로...정부 클라우드 보급 사업에 선정</td>\n",
              "      <td>베타뉴스</td>\n",
              "      <td>2023.05.04.</td>\n",
              "      <td>http://www.betanews.net:8080/article/1410605.html</td>\n",
              "      <td>NaN</td>\n",
              "    </tr>\n",
              "  </tbody>\n",
              "</table>\n",
              "<p>176 rows × 5 columns</p>\n",
              "</div>\n",
              "      <button class=\"colab-df-convert\" onclick=\"convertToInteractive('df-79ebe354-d2ad-4ef1-a03c-0e7f96a7ec2a')\"\n",
              "              title=\"Convert this dataframe to an interactive table.\"\n",
              "              style=\"display:none;\">\n",
              "        \n",
              "  <svg xmlns=\"http://www.w3.org/2000/svg\" height=\"24px\"viewBox=\"0 0 24 24\"\n",
              "       width=\"24px\">\n",
              "    <path d=\"M0 0h24v24H0V0z\" fill=\"none\"/>\n",
              "    <path d=\"M18.56 5.44l.94 2.06.94-2.06 2.06-.94-2.06-.94-.94-2.06-.94 2.06-2.06.94zm-11 1L8.5 8.5l.94-2.06 2.06-.94-2.06-.94L8.5 2.5l-.94 2.06-2.06.94zm10 10l.94 2.06.94-2.06 2.06-.94-2.06-.94-.94-2.06-.94 2.06-2.06.94z\"/><path d=\"M17.41 7.96l-1.37-1.37c-.4-.4-.92-.59-1.43-.59-.52 0-1.04.2-1.43.59L10.3 9.45l-7.72 7.72c-.78.78-.78 2.05 0 2.83L4 21.41c.39.39.9.59 1.41.59.51 0 1.02-.2 1.41-.59l7.78-7.78 2.81-2.81c.8-.78.8-2.07 0-2.86zM5.41 20L4 18.59l7.72-7.72 1.47 1.35L5.41 20z\"/>\n",
              "  </svg>\n",
              "      </button>\n",
              "      \n",
              "  <style>\n",
              "    .colab-df-container {\n",
              "      display:flex;\n",
              "      flex-wrap:wrap;\n",
              "      gap: 12px;\n",
              "    }\n",
              "\n",
              "    .colab-df-convert {\n",
              "      background-color: #E8F0FE;\n",
              "      border: none;\n",
              "      border-radius: 50%;\n",
              "      cursor: pointer;\n",
              "      display: none;\n",
              "      fill: #1967D2;\n",
              "      height: 32px;\n",
              "      padding: 0 0 0 0;\n",
              "      width: 32px;\n",
              "    }\n",
              "\n",
              "    .colab-df-convert:hover {\n",
              "      background-color: #E2EBFA;\n",
              "      box-shadow: 0px 1px 2px rgba(60, 64, 67, 0.3), 0px 1px 3px 1px rgba(60, 64, 67, 0.15);\n",
              "      fill: #174EA6;\n",
              "    }\n",
              "\n",
              "    [theme=dark] .colab-df-convert {\n",
              "      background-color: #3B4455;\n",
              "      fill: #D2E3FC;\n",
              "    }\n",
              "\n",
              "    [theme=dark] .colab-df-convert:hover {\n",
              "      background-color: #434B5C;\n",
              "      box-shadow: 0px 1px 3px 1px rgba(0, 0, 0, 0.15);\n",
              "      filter: drop-shadow(0px 1px 2px rgba(0, 0, 0, 0.3));\n",
              "      fill: #FFFFFF;\n",
              "    }\n",
              "  </style>\n",
              "\n",
              "      <script>\n",
              "        const buttonEl =\n",
              "          document.querySelector('#df-79ebe354-d2ad-4ef1-a03c-0e7f96a7ec2a button.colab-df-convert');\n",
              "        buttonEl.style.display =\n",
              "          google.colab.kernel.accessAllowed ? 'block' : 'none';\n",
              "\n",
              "        async function convertToInteractive(key) {\n",
              "          const element = document.querySelector('#df-79ebe354-d2ad-4ef1-a03c-0e7f96a7ec2a');\n",
              "          const dataTable =\n",
              "            await google.colab.kernel.invokeFunction('convertToInteractive',\n",
              "                                                     [key], {});\n",
              "          if (!dataTable) return;\n",
              "\n",
              "          const docLinkHtml = 'Like what you see? Visit the ' +\n",
              "            '<a target=\"_blank\" href=https://colab.research.google.com/notebooks/data_table.ipynb>data table notebook</a>'\n",
              "            + ' to learn more about interactive tables.';\n",
              "          element.innerHTML = '';\n",
              "          dataTable['output_type'] = 'display_data';\n",
              "          await google.colab.output.renderOutput(dataTable, element);\n",
              "          const docLink = document.createElement('div');\n",
              "          docLink.innerHTML = docLinkHtml;\n",
              "          element.appendChild(docLink);\n",
              "        }\n",
              "      </script>\n",
              "    </div>\n",
              "  </div>\n",
              "  "
            ]
          },
          "metadata": {},
          "execution_count": 12
        }
      ]
    },
    {
      "cell_type": "code",
      "source": [
        "# URL 기준 중복값 제거\n",
        "df.drop_duplicates(subset = 'URL', keep = 'first', inplace = True)"
      ],
      "metadata": {
        "id": "FL2EhtPCGDU_"
      },
      "execution_count": null,
      "outputs": []
    },
    {
      "cell_type": "code",
      "source": [
        "# 결측치 제거\n",
        "df.dropna(inplace = True)"
      ],
      "metadata": {
        "id": "_oEjCkzeFWz5"
      },
      "execution_count": null,
      "outputs": []
    },
    {
      "cell_type": "code",
      "source": [
        "# 추가한 사용자 사전이 잘 작동하는지 확인\n",
        "from konlpy.tag import Mecab\n",
        "\n",
        "m = Mecab(dicpath = '/content/mecab-ko-dic-2.1.1-20180720')"
      ],
      "metadata": {
        "id": "qvKSDAUAFa_8"
      },
      "execution_count": null,
      "outputs": []
    },
    {
      "cell_type": "code",
      "source": [
        "# 본문 전처리\n",
        "import re\n",
        "\n",
        "df['제목_전처리'] = df['제목'].map(lambda x : re.sub(r'[^\\s\\w]', ' ', x)) # Text Cleaning\n",
        "df['제목_전처리'] = df['제목'].map(lambda x : m.nouns(x)) # Tokenizing"
      ],
      "metadata": {
        "id": "8D133_zrIEtu"
      },
      "execution_count": null,
      "outputs": []
    },
    {
      "cell_type": "code",
      "source": [
        "# 본문 전처리 내용 확인\n",
        "df['제목_전처리']"
      ],
      "metadata": {
        "colab": {
          "base_uri": "https://localhost:8080/"
        },
        "id": "rhJC_rcVITUi",
        "outputId": "35c9666f-44bd-4bf9-e202-16d7eea460d2"
      },
      "execution_count": null,
      "outputs": [
        {
          "output_type": "execute_result",
          "data": {
            "text/plain": [
              "2                     [세계, 열광, 챗, 수익, 창출, 성공, 수]\n",
              "4                          [명품, 마크, 비전, 코리아, 비결]\n",
              "5                 [챗, 봇, 정답, 美, 신종, 컨, 닝, 법, 유행]\n",
              "7               [고독사, 해법, 지역, 사회, 전문가, 처방, 일맥상통]\n",
              "8          [소설, 기사, 시나리오, 논문, 수, 생성, 합리, 결정, 도움]\n",
              "                          ...                   \n",
              "36004                           [구글, 제국, 재건, 해법]\n",
              "36007           [포커스, 시대, 도래, 편리, 보안, 우려, 양날, 검]\n",
              "36008    [시민, 기자, 북, 클럽, 리비, 눈, 최대, 개, 이게, 말, 것]\n",
              "36009                    [챗, 단속, 나선, 기업, 보안, 효율]\n",
              "36010           [과학, 스푼, 사람, 생각, 마비, 환자, 소통, 가능]\n",
              "Name: 제목_전처리, Length: 16006, dtype: object"
            ]
          },
          "metadata": {},
          "execution_count": 21
        }
      ]
    },
    {
      "cell_type": "code",
      "source": [
        "# 단어 리스트 만들기\n",
        "word_list = df['제목_전처리'].explode() # .explode() 함수를 사용하면 리스트 안에 리스트를 폭파(!)시킬 수 있습니다.\n",
        "print(word_list)\n"
      ],
      "metadata": {
        "colab": {
          "base_uri": "https://localhost:8080/"
        },
        "id": "c-BHxrHQIkin",
        "outputId": "f1b17451-9b21-4ae2-b570-9e0fe0df8bd8"
      },
      "execution_count": null,
      "outputs": [
        {
          "output_type": "stream",
          "name": "stdout",
          "text": [
            "2        세계\n",
            "2        열광\n",
            "2         챗\n",
            "2        수익\n",
            "2        창출\n",
            "         ..\n",
            "36010    생각\n",
            "36010    마비\n",
            "36010    환자\n",
            "36010    소통\n",
            "36010    가능\n",
            "Name: 제목_전처리, Length: 118123, dtype: object\n"
          ]
        }
      ]
    },
    {
      "cell_type": "code",
      "source": [
        "# 단어 빈도 분석\n",
        "from collections import Counter\n",
        "c = Counter(word_list)\n",
        "c.most_common(100)"
      ],
      "metadata": {
        "colab": {
          "base_uri": "https://localhost:8080/"
        },
        "id": "U-SnkaFRI4ay",
        "outputId": "208c6369-f59e-4561-a192-f0753caff622"
      },
      "execution_count": null,
      "outputs": [
        {
          "output_type": "execute_result",
          "data": {
            "text/plain": [
              "[('챗', 6486),\n",
              " ('봇', 869),\n",
              " ('구글', 866),\n",
              " ('활용', 715),\n",
              " ('반도체', 699),\n",
              " ('인공지능', 676),\n",
              " ('기술', 656),\n",
              " ('기업', 649),\n",
              " ('개발', 648),\n",
              " ('출시', 638),\n",
              " ('만', 571),\n",
              " ('서비스', 565),\n",
              " ('투자', 562),\n",
              " ('것', 548),\n",
              " ('생성', 508),\n",
              " ('시대', 508),\n",
              " ('일', 489),\n",
              " ('등', 488),\n",
              " ('교육', 485),\n",
              " ('년', 480),\n",
              " ('美', 467),\n",
              " ('디지털', 443),\n",
              " ('한국', 438),\n",
              " ('글로벌', 425),\n",
              " ('미래', 425),\n",
              " ('데이터', 423),\n",
              " ('공개', 423),\n",
              " ('오픈', 418),\n",
              " ('주', 412),\n",
              " ('검색', 409),\n",
              " ('네이버', 405),\n",
              " ('카카오', 377),\n",
              " ('열풍', 375),\n",
              " ('억', 375),\n",
              " ('월', 367),\n",
              " ('원', 347),\n",
              " ('명', 342),\n",
              " ('세계', 341),\n",
              " ('거대', 340),\n",
              " ('테크', 335),\n",
              " ('정보', 328),\n",
              " ('시장', 327),\n",
              " ('혁신', 317),\n",
              " ('삼성', 311),\n",
              " ('개최', 307),\n",
              " ('조', 289),\n",
              " ('정부', 287),\n",
              " ('수', 284),\n",
              " ('경쟁', 276),\n",
              " ('산업', 266),\n",
              " ('中', 261),\n",
              " ('중', 260),\n",
              " ('지원', 260),\n",
              " ('사업', 252),\n",
              " ('규제', 246),\n",
              " ('클라우드', 244),\n",
              " ('빅', 244),\n",
              " ('인간', 237),\n",
              " ('스타트업', 235),\n",
              " ('대화', 234),\n",
              " ('증시', 234),\n",
              " ('도입', 232),\n",
              " ('폼', 230),\n",
              " ('머스크', 229),\n",
              " ('메타', 227),\n",
              " ('위', 222),\n",
              " ('주가', 222),\n",
              " ('플랫', 222),\n",
              " ('국내', 221),\n",
              " ('추진', 212),\n",
              " ('기반', 211),\n",
              " ('뉴스', 206),\n",
              " ('종합', 206),\n",
              " ('바드', 201),\n",
              " ('올해', 199),\n",
              " ('삼성전자', 198),\n",
              " ('분기', 193),\n",
              " ('가능', 190),\n",
              " ('비디아', 188),\n",
              " ('발표', 187),\n",
              " ('사람', 185),\n",
              " ('경제', 182),\n",
              " ('성장', 181),\n",
              " ('하이닉스', 178),\n",
              " ('포럼', 177),\n",
              " ('적용', 176),\n",
              " ('엔진', 175),\n",
              " ('빙', 175),\n",
              " ('필요', 172),\n",
              " ('버스', 171),\n",
              " ('사용', 170),\n",
              " ('중국', 170),\n",
              " ('게임', 169),\n",
              " ('특징', 168),\n",
              " ('대', 168),\n",
              " ('대표', 167),\n",
              " ('최대', 167),\n",
              " ('로봇', 166),\n",
              " ('개', 166),\n",
              " ('법', 162)]"
            ]
          },
          "metadata": {},
          "execution_count": 24
        }
      ]
    },
    {
      "cell_type": "code",
      "source": [
        "# 단어들이 어떤 맥락에서 사용되는지 알아보기\n",
        "search_word = '챗'\n",
        "df[df['제목_전처리'].map(lambda x : search_word in x)]"
      ],
      "metadata": {
        "colab": {
          "base_uri": "https://localhost:8080/",
          "height": 423
        },
        "id": "NKx0qLkKJIE2",
        "outputId": "8ca12559-e887-49e2-e513-7ede8ed1bb76"
      },
      "execution_count": null,
      "outputs": [
        {
          "output_type": "execute_result",
          "data": {
            "text/plain": [
              "                                                    제목                언론사  \\\n",
              "2                    세계가 열광하는 챗GPT, 수익 창출에도 성공할 수 있을까?          블로터언론사 선정   \n",
              "5           [Pick] \"AI 챗봇, 정답을 알려줘\"…美 신종 컨닝법 유행에 '떠들석'          SBS언론사 선정   \n",
              "12                  1초가 다르게 똑똑해지는 챗GPT…‘오케이 구글’ 시대 끝나나                한겨레   \n",
              "17                   구글 시대 끝났다? 신개념 대화형 인공지능 ‘챗GPT’ 등장         주간동아언론사 선정   \n",
              "20                      英 오프퀄 \"챗GPT로 컨닝시 실격\"...지침 논의 중  ZDNet Korea언론사 선정   \n",
              "...                                                ...                ...   \n",
              "35967                     해커도 챗GPT 쓴다…양날의 칼 AI [AI토피아]               서울경제   \n",
              "35972                            챗GPT에 부동산 투자 조언 구해보니…         주간동아언론사 선정   \n",
              "35990                         챗GPT, 내 정보도 학습했을까[궁금한AI]         이데일리언론사 선정   \n",
              "35992  구글, 검색엔진에 AI 챗봇·동영상 대폭 강화한다…다음주 ‘마기 프로젝트’ 공개 전망               조선일보   \n",
              "36009                       ‘챗GPT’ 단속 나선 기업들…보안이냐 효율이냐                KBS   \n",
              "\n",
              "                날짜                                                URL  \\\n",
              "2      2023.01.01.     http://www.bloter.net/newsView/blt202212300021   \n",
              "5      2023.01.01.  https://news.sbs.co.kr/news/endPage.do?news_id...   \n",
              "12     2023.01.02.  https://www.hani.co.kr/arti/economy/it/1074015...   \n",
              "17     2023.01.02.        https://weekly.donga.com/3/all/11/3860233/1   \n",
              "20     2023.01.02.        https://zdnet.co.kr/view/?no=20230102085958   \n",
              "...            ...                                                ...   \n",
              "35967  2023.05.06.        https://www.sedaily.com/NewsView/29PH1OQPI3   \n",
              "35972  2023.05.06.        https://weekly.donga.com/3/all/11/4133146/1   \n",
              "35990  2023.05.06.  http://www.edaily.co.kr/news/newspath.asp?news...   \n",
              "35992  2023.05.06.  https://www.chosun.com/economy/economy_general...   \n",
              "36009  2023.05.06.  https://news.kbs.co.kr/news/view.do?ncd=766920...   \n",
              "\n",
              "                                               네이버뉴스_URL  \\\n",
              "2      https://n.news.naver.com/mnews/article/293/000...   \n",
              "5      https://n.news.naver.com/mnews/article/055/000...   \n",
              "12     https://n.news.naver.com/mnews/article/028/000...   \n",
              "17     https://n.news.naver.com/mnews/article/037/000...   \n",
              "20     https://n.news.naver.com/mnews/article/092/000...   \n",
              "...                                                  ...   \n",
              "35967  https://n.news.naver.com/mnews/article/011/000...   \n",
              "35972  https://n.news.naver.com/mnews/article/037/000...   \n",
              "35990  https://n.news.naver.com/mnews/article/018/000...   \n",
              "35992  https://n.news.naver.com/mnews/article/023/000...   \n",
              "36009  https://n.news.naver.com/mnews/article/056/001...   \n",
              "\n",
              "                                                  제목_전처리  \n",
              "2                             [세계, 열광, 챗, 수익, 창출, 성공, 수]  \n",
              "5                         [챗, 봇, 정답, 美, 신종, 컨, 닝, 법, 유행]  \n",
              "12                                 [초, 챗, 구글, 시대, 끝, 나나]  \n",
              "17                      [구글, 시대, 끝, 개념, 대화, 인공지능, 챗, 등장]  \n",
              "20                    [英, 오프, 챗, 컨, 닝, 시, 실격, 지침, 논의, 중]  \n",
              "...                                                  ...  \n",
              "35967                                [해커, 챗, 양날, 칼, 토피아]  \n",
              "35972                                   [챗, 부동산, 투자, 조언]  \n",
              "35990                                        [챗, 정보, 학습]  \n",
              "35992  [구글, 검색, 엔진, 챗, 봇, 동영상, 강화, 다음, 주, 마기, 프로젝트, 공...  \n",
              "36009                            [챗, 단속, 나선, 기업, 보안, 효율]  \n",
              "\n",
              "[6134 rows x 6 columns]"
            ],
            "text/html": [
              "\n",
              "  <div id=\"df-81fdd6cf-8c4d-4d6e-a573-5658d42a90dc\">\n",
              "    <div class=\"colab-df-container\">\n",
              "      <div>\n",
              "<style scoped>\n",
              "    .dataframe tbody tr th:only-of-type {\n",
              "        vertical-align: middle;\n",
              "    }\n",
              "\n",
              "    .dataframe tbody tr th {\n",
              "        vertical-align: top;\n",
              "    }\n",
              "\n",
              "    .dataframe thead th {\n",
              "        text-align: right;\n",
              "    }\n",
              "</style>\n",
              "<table border=\"1\" class=\"dataframe\">\n",
              "  <thead>\n",
              "    <tr style=\"text-align: right;\">\n",
              "      <th></th>\n",
              "      <th>제목</th>\n",
              "      <th>언론사</th>\n",
              "      <th>날짜</th>\n",
              "      <th>URL</th>\n",
              "      <th>네이버뉴스_URL</th>\n",
              "      <th>제목_전처리</th>\n",
              "    </tr>\n",
              "  </thead>\n",
              "  <tbody>\n",
              "    <tr>\n",
              "      <th>2</th>\n",
              "      <td>세계가 열광하는 챗GPT, 수익 창출에도 성공할 수 있을까?</td>\n",
              "      <td>블로터언론사 선정</td>\n",
              "      <td>2023.01.01.</td>\n",
              "      <td>http://www.bloter.net/newsView/blt202212300021</td>\n",
              "      <td>https://n.news.naver.com/mnews/article/293/000...</td>\n",
              "      <td>[세계, 열광, 챗, 수익, 창출, 성공, 수]</td>\n",
              "    </tr>\n",
              "    <tr>\n",
              "      <th>5</th>\n",
              "      <td>[Pick] \"AI 챗봇, 정답을 알려줘\"…美 신종 컨닝법 유행에 '떠들석'</td>\n",
              "      <td>SBS언론사 선정</td>\n",
              "      <td>2023.01.01.</td>\n",
              "      <td>https://news.sbs.co.kr/news/endPage.do?news_id...</td>\n",
              "      <td>https://n.news.naver.com/mnews/article/055/000...</td>\n",
              "      <td>[챗, 봇, 정답, 美, 신종, 컨, 닝, 법, 유행]</td>\n",
              "    </tr>\n",
              "    <tr>\n",
              "      <th>12</th>\n",
              "      <td>1초가 다르게 똑똑해지는 챗GPT…‘오케이 구글’ 시대 끝나나</td>\n",
              "      <td>한겨레</td>\n",
              "      <td>2023.01.02.</td>\n",
              "      <td>https://www.hani.co.kr/arti/economy/it/1074015...</td>\n",
              "      <td>https://n.news.naver.com/mnews/article/028/000...</td>\n",
              "      <td>[초, 챗, 구글, 시대, 끝, 나나]</td>\n",
              "    </tr>\n",
              "    <tr>\n",
              "      <th>17</th>\n",
              "      <td>구글 시대 끝났다? 신개념 대화형 인공지능 ‘챗GPT’ 등장</td>\n",
              "      <td>주간동아언론사 선정</td>\n",
              "      <td>2023.01.02.</td>\n",
              "      <td>https://weekly.donga.com/3/all/11/3860233/1</td>\n",
              "      <td>https://n.news.naver.com/mnews/article/037/000...</td>\n",
              "      <td>[구글, 시대, 끝, 개념, 대화, 인공지능, 챗, 등장]</td>\n",
              "    </tr>\n",
              "    <tr>\n",
              "      <th>20</th>\n",
              "      <td>英 오프퀄 \"챗GPT로 컨닝시 실격\"...지침 논의 중</td>\n",
              "      <td>ZDNet Korea언론사 선정</td>\n",
              "      <td>2023.01.02.</td>\n",
              "      <td>https://zdnet.co.kr/view/?no=20230102085958</td>\n",
              "      <td>https://n.news.naver.com/mnews/article/092/000...</td>\n",
              "      <td>[英, 오프, 챗, 컨, 닝, 시, 실격, 지침, 논의, 중]</td>\n",
              "    </tr>\n",
              "    <tr>\n",
              "      <th>...</th>\n",
              "      <td>...</td>\n",
              "      <td>...</td>\n",
              "      <td>...</td>\n",
              "      <td>...</td>\n",
              "      <td>...</td>\n",
              "      <td>...</td>\n",
              "    </tr>\n",
              "    <tr>\n",
              "      <th>35967</th>\n",
              "      <td>해커도 챗GPT 쓴다…양날의 칼 AI [AI토피아]</td>\n",
              "      <td>서울경제</td>\n",
              "      <td>2023.05.06.</td>\n",
              "      <td>https://www.sedaily.com/NewsView/29PH1OQPI3</td>\n",
              "      <td>https://n.news.naver.com/mnews/article/011/000...</td>\n",
              "      <td>[해커, 챗, 양날, 칼, 토피아]</td>\n",
              "    </tr>\n",
              "    <tr>\n",
              "      <th>35972</th>\n",
              "      <td>챗GPT에 부동산 투자 조언 구해보니…</td>\n",
              "      <td>주간동아언론사 선정</td>\n",
              "      <td>2023.05.06.</td>\n",
              "      <td>https://weekly.donga.com/3/all/11/4133146/1</td>\n",
              "      <td>https://n.news.naver.com/mnews/article/037/000...</td>\n",
              "      <td>[챗, 부동산, 투자, 조언]</td>\n",
              "    </tr>\n",
              "    <tr>\n",
              "      <th>35990</th>\n",
              "      <td>챗GPT, 내 정보도 학습했을까[궁금한AI]</td>\n",
              "      <td>이데일리언론사 선정</td>\n",
              "      <td>2023.05.06.</td>\n",
              "      <td>http://www.edaily.co.kr/news/newspath.asp?news...</td>\n",
              "      <td>https://n.news.naver.com/mnews/article/018/000...</td>\n",
              "      <td>[챗, 정보, 학습]</td>\n",
              "    </tr>\n",
              "    <tr>\n",
              "      <th>35992</th>\n",
              "      <td>구글, 검색엔진에 AI 챗봇·동영상 대폭 강화한다…다음주 ‘마기 프로젝트’ 공개 전망</td>\n",
              "      <td>조선일보</td>\n",
              "      <td>2023.05.06.</td>\n",
              "      <td>https://www.chosun.com/economy/economy_general...</td>\n",
              "      <td>https://n.news.naver.com/mnews/article/023/000...</td>\n",
              "      <td>[구글, 검색, 엔진, 챗, 봇, 동영상, 강화, 다음, 주, 마기, 프로젝트, 공...</td>\n",
              "    </tr>\n",
              "    <tr>\n",
              "      <th>36009</th>\n",
              "      <td>‘챗GPT’ 단속 나선 기업들…보안이냐 효율이냐</td>\n",
              "      <td>KBS</td>\n",
              "      <td>2023.05.06.</td>\n",
              "      <td>https://news.kbs.co.kr/news/view.do?ncd=766920...</td>\n",
              "      <td>https://n.news.naver.com/mnews/article/056/001...</td>\n",
              "      <td>[챗, 단속, 나선, 기업, 보안, 효율]</td>\n",
              "    </tr>\n",
              "  </tbody>\n",
              "</table>\n",
              "<p>6134 rows × 6 columns</p>\n",
              "</div>\n",
              "      <button class=\"colab-df-convert\" onclick=\"convertToInteractive('df-81fdd6cf-8c4d-4d6e-a573-5658d42a90dc')\"\n",
              "              title=\"Convert this dataframe to an interactive table.\"\n",
              "              style=\"display:none;\">\n",
              "        \n",
              "  <svg xmlns=\"http://www.w3.org/2000/svg\" height=\"24px\"viewBox=\"0 0 24 24\"\n",
              "       width=\"24px\">\n",
              "    <path d=\"M0 0h24v24H0V0z\" fill=\"none\"/>\n",
              "    <path d=\"M18.56 5.44l.94 2.06.94-2.06 2.06-.94-2.06-.94-.94-2.06-.94 2.06-2.06.94zm-11 1L8.5 8.5l.94-2.06 2.06-.94-2.06-.94L8.5 2.5l-.94 2.06-2.06.94zm10 10l.94 2.06.94-2.06 2.06-.94-2.06-.94-.94-2.06-.94 2.06-2.06.94z\"/><path d=\"M17.41 7.96l-1.37-1.37c-.4-.4-.92-.59-1.43-.59-.52 0-1.04.2-1.43.59L10.3 9.45l-7.72 7.72c-.78.78-.78 2.05 0 2.83L4 21.41c.39.39.9.59 1.41.59.51 0 1.02-.2 1.41-.59l7.78-7.78 2.81-2.81c.8-.78.8-2.07 0-2.86zM5.41 20L4 18.59l7.72-7.72 1.47 1.35L5.41 20z\"/>\n",
              "  </svg>\n",
              "      </button>\n",
              "      \n",
              "  <style>\n",
              "    .colab-df-container {\n",
              "      display:flex;\n",
              "      flex-wrap:wrap;\n",
              "      gap: 12px;\n",
              "    }\n",
              "\n",
              "    .colab-df-convert {\n",
              "      background-color: #E8F0FE;\n",
              "      border: none;\n",
              "      border-radius: 50%;\n",
              "      cursor: pointer;\n",
              "      display: none;\n",
              "      fill: #1967D2;\n",
              "      height: 32px;\n",
              "      padding: 0 0 0 0;\n",
              "      width: 32px;\n",
              "    }\n",
              "\n",
              "    .colab-df-convert:hover {\n",
              "      background-color: #E2EBFA;\n",
              "      box-shadow: 0px 1px 2px rgba(60, 64, 67, 0.3), 0px 1px 3px 1px rgba(60, 64, 67, 0.15);\n",
              "      fill: #174EA6;\n",
              "    }\n",
              "\n",
              "    [theme=dark] .colab-df-convert {\n",
              "      background-color: #3B4455;\n",
              "      fill: #D2E3FC;\n",
              "    }\n",
              "\n",
              "    [theme=dark] .colab-df-convert:hover {\n",
              "      background-color: #434B5C;\n",
              "      box-shadow: 0px 1px 3px 1px rgba(0, 0, 0, 0.15);\n",
              "      filter: drop-shadow(0px 1px 2px rgba(0, 0, 0, 0.3));\n",
              "      fill: #FFFFFF;\n",
              "    }\n",
              "  </style>\n",
              "\n",
              "      <script>\n",
              "        const buttonEl =\n",
              "          document.querySelector('#df-81fdd6cf-8c4d-4d6e-a573-5658d42a90dc button.colab-df-convert');\n",
              "        buttonEl.style.display =\n",
              "          google.colab.kernel.accessAllowed ? 'block' : 'none';\n",
              "\n",
              "        async function convertToInteractive(key) {\n",
              "          const element = document.querySelector('#df-81fdd6cf-8c4d-4d6e-a573-5658d42a90dc');\n",
              "          const dataTable =\n",
              "            await google.colab.kernel.invokeFunction('convertToInteractive',\n",
              "                                                     [key], {});\n",
              "          if (!dataTable) return;\n",
              "\n",
              "          const docLinkHtml = 'Like what you see? Visit the ' +\n",
              "            '<a target=\"_blank\" href=https://colab.research.google.com/notebooks/data_table.ipynb>data table notebook</a>'\n",
              "            + ' to learn more about interactive tables.';\n",
              "          element.innerHTML = '';\n",
              "          dataTable['output_type'] = 'display_data';\n",
              "          await google.colab.output.renderOutput(dataTable, element);\n",
              "          const docLink = document.createElement('div');\n",
              "          docLink.innerHTML = docLinkHtml;\n",
              "          element.appendChild(docLink);\n",
              "        }\n",
              "      </script>\n",
              "    </div>\n",
              "  </div>\n",
              "  "
            ]
          },
          "metadata": {},
          "execution_count": 26
        }
      ]
    },
    {
      "cell_type": "markdown",
      "source": [
        "다시 사용자 사전 추가"
      ],
      "metadata": {
        "id": "BfISbT67L97N"
      }
    },
    {
      "cell_type": "code",
      "source": [
        "word_list = [('챗GPT',0), ('챗지피티',0),('ChatGPT', 0), ('챗 지피티',0)]\n",
        "\n",
        "make_user_dic_csv(morpheme_type=\"NNP\", word_list=word_list, user_dic_file_name='user-nnp.csv')\n"
      ],
      "metadata": {
        "colab": {
          "base_uri": "https://localhost:8080/"
        },
        "id": "Ianzb42RJR25",
        "outputId": "15efabb0-4d5f-40e0-a101-00d5ab9ecbb1"
      },
      "execution_count": null,
      "outputs": [
        {
          "output_type": "stream",
          "name": "stderr",
          "text": [
            "/usr/local/lib/python3.10/dist-packages/ipykernel/ipkernel.py:283: DeprecationWarning: `should_run_async` will not call `transform_cell` automatically in the future. Please pass the result to `transformed_cell` argument and any exception that happen during thetransform in `preprocessing_exc_tuple` in IPython 7.17 and above.\n",
            "  and should_run_async(code)\n"
          ]
        }
      ]
    },
    {
      "cell_type": "code",
      "source": [
        "!bash autogen.sh"
      ],
      "metadata": {
        "id": "NO2xkbbvMvFo"
      },
      "execution_count": null,
      "outputs": []
    },
    {
      "cell_type": "code",
      "source": [
        "!bash ./tools/add-userdic.sh"
      ],
      "metadata": {
        "id": "jkGhjWcOMxn5"
      },
      "execution_count": null,
      "outputs": []
    },
    {
      "cell_type": "code",
      "source": [
        "!make"
      ],
      "metadata": {
        "id": "Cl2My8rpM0Bi"
      },
      "execution_count": null,
      "outputs": []
    },
    {
      "cell_type": "code",
      "source": [
        "!sudo make install\n",
        "!bash tools/add-userdic.sh"
      ],
      "metadata": {
        "id": "SrtFKAyYM23E"
      },
      "execution_count": null,
      "outputs": []
    },
    {
      "cell_type": "code",
      "source": [
        "# Mecab 라이브러리 다시 불러오기\n",
        "from konlpy.tag import Mecab\n",
        "m = Mecab(dicpath = '/content/mecab-ko-dic-2.1.1-20180720')"
      ],
      "metadata": {
        "id": "uJh3CIASM9gD"
      },
      "execution_count": null,
      "outputs": []
    },
    {
      "cell_type": "code",
      "source": [
        "# 다시 본문 전처리\n",
        "df['제목_전처리'] = df['제목'].map(lambda x : re.sub(r'[^\\s\\w]', ' ', x)) # Text Cleaning\n",
        "df['제목_전처리'] = df['제목_전처리'].map(lambda x: m.nouns(x)) # 명사 기준 토큰화"
      ],
      "metadata": {
        "id": "vXmQrHk7NAfc"
      },
      "execution_count": null,
      "outputs": []
    },
    {
      "cell_type": "code",
      "source": [
        "# 다시 전처리 결과 확인\n",
        "df['제목_전처리']"
      ],
      "metadata": {
        "colab": {
          "base_uri": "https://localhost:8080/"
        },
        "id": "QimLLmL5NGnQ",
        "outputId": "d9a56bbc-9cc2-471a-e77d-28f8ad0a2f8e"
      },
      "execution_count": null,
      "outputs": [
        {
          "output_type": "stream",
          "name": "stderr",
          "text": [
            "/usr/local/lib/python3.10/dist-packages/ipykernel/ipkernel.py:283: DeprecationWarning: `should_run_async` will not call `transform_cell` automatically in the future. Please pass the result to `transformed_cell` argument and any exception that happen during thetransform in `preprocessing_exc_tuple` in IPython 7.17 and above.\n",
            "  and should_run_async(code)\n"
          ]
        },
        {
          "output_type": "execute_result",
          "data": {
            "text/plain": [
              "2                      [세계, 열광, 챗, 수익, 창출, 성공, 수]\n",
              "4                           [명품, 마크, 비전, 코리아, 비결]\n",
              "5                  [챗, 봇, 정답, 美, 신종, 컨, 닝, 법, 유행]\n",
              "7                [고독사, 해법, 지역, 사회, 전문가, 처방, 일맥상통]\n",
              "8           [소설, 기사, 시나리오, 논문, 수, 생성, 합리, 결정, 도움]\n",
              "                           ...                   \n",
              "36004                                [구글, 제국, 해법]\n",
              "36007            [포커스, 시대, 도래, 편리, 보안, 우려, 양날, 검]\n",
              "36008    [시민, 기자, 북, 클럽, 가리비, 눈, 최대, 개, 이게, 말, 것]\n",
              "36009                     [챗, 단속, 나선, 기업, 보안, 효율]\n",
              "36010            [과학, 스푼, 사람, 생각, 마비, 환자, 소통, 가능]\n",
              "Name: 제목_전처리, Length: 16006, dtype: object"
            ]
          },
          "metadata": {},
          "execution_count": 46
        }
      ]
    },
    {
      "cell_type": "code",
      "source": [
        "# 불용어 제거: 한 글자 단어 처리\n",
        "df['제목_전처리'] = df['제목_전처리'].map(lambda x :\n",
        "                                [word for word in x if len(word) != 1])"
      ],
      "metadata": {
        "colab": {
          "base_uri": "https://localhost:8080/"
        },
        "id": "ESlLBBXzNVjI",
        "outputId": "f386f75a-79d4-40cb-8b5c-ad28dd2fe3ff"
      },
      "execution_count": null,
      "outputs": [
        {
          "output_type": "stream",
          "name": "stderr",
          "text": [
            "/usr/local/lib/python3.10/dist-packages/ipykernel/ipkernel.py:283: DeprecationWarning: `should_run_async` will not call `transform_cell` automatically in the future. Please pass the result to `transformed_cell` argument and any exception that happen during thetransform in `preprocessing_exc_tuple` in IPython 7.17 and above.\n",
            "  and should_run_async(code)\n"
          ]
        }
      ]
    },
    {
      "cell_type": "code",
      "source": [
        "word_list = df['제목_전처리'].explode()"
      ],
      "metadata": {
        "id": "WYURitm7NnwB"
      },
      "execution_count": null,
      "outputs": []
    },
    {
      "cell_type": "code",
      "source": [
        "from collections import Counter\n",
        "c = Counter(word_list)\n",
        "c.most_common(100)"
      ],
      "metadata": {
        "id": "GgKJZz6sNppI"
      },
      "execution_count": null,
      "outputs": []
    },
    {
      "cell_type": "code",
      "source": [
        "# 토큰화된 문서\n",
        "tokenized_doc = df['제목_전처리']"
      ],
      "metadata": {
        "colab": {
          "base_uri": "https://localhost:8080/"
        },
        "id": "0yHdBF0VN668",
        "outputId": "e2e03d50-58af-495f-da4a-7c1c4d5537ed"
      },
      "execution_count": null,
      "outputs": [
        {
          "output_type": "stream",
          "name": "stderr",
          "text": [
            "/usr/local/lib/python3.10/dist-packages/ipykernel/ipkernel.py:283: DeprecationWarning: `should_run_async` will not call `transform_cell` automatically in the future. Please pass the result to `transformed_cell` argument and any exception that happen during thetransform in `preprocessing_exc_tuple` in IPython 7.17 and above.\n",
            "  and should_run_async(code)\n"
          ]
        }
      ]
    },
    {
      "cell_type": "code",
      "source": [
        "# Gensim에서 지원하는 LDA 모델 불러오기\n",
        "from gensim.models.ldamodel import LdaModel\n",
        "from gensim import corpora\n",
        "\n",
        "dictionary = corpora.Dictionary(tokenized_doc)"
      ],
      "metadata": {
        "colab": {
          "base_uri": "https://localhost:8080/"
        },
        "id": "aPVnAQ9jOByy",
        "outputId": "13f3fbbe-62f1-45d1-e1b0-61e6cebb2624"
      },
      "execution_count": null,
      "outputs": [
        {
          "output_type": "stream",
          "name": "stderr",
          "text": [
            "/usr/local/lib/python3.10/dist-packages/ipykernel/ipkernel.py:283: DeprecationWarning: `should_run_async` will not call `transform_cell` automatically in the future. Please pass the result to `transformed_cell` argument and any exception that happen during thetransform in `preprocessing_exc_tuple` in IPython 7.17 and above.\n",
            "  and should_run_async(code)\n"
          ]
        }
      ]
    },
    {
      "cell_type": "code",
      "source": [
        "# 단어 말뭉치(Corpus) 생성\n",
        "corpus = [dictionary.doc2bow(text) for text in tokenized_doc];corpus"
      ],
      "metadata": {
        "id": "kU0ta4o6Kdqq"
      },
      "execution_count": null,
      "outputs": []
    },
    {
      "cell_type": "code",
      "source": [
        "NUM_TOPICS = 10 # 토픽 개수 지정 (하이퍼 파라미터)\n",
        "ldamodel = LdaModel(corpus,\n",
        "                    num_topics = NUM_TOPICS,\n",
        "                    id2word = dictionary,\n",
        "                    passes = 30) # 학습 횟수\n",
        "\n",
        "topics = ldamodel.print_topics(num_words = 10) # 토픽 저장"
      ],
      "metadata": {
        "colab": {
          "base_uri": "https://localhost:8080/"
        },
        "id": "iYYObiU6KsXv",
        "outputId": "0e68ec56-a53b-4742-f2f0-c4b44b5d57f0"
      },
      "execution_count": null,
      "outputs": [
        {
          "output_type": "stream",
          "name": "stderr",
          "text": [
            "/usr/local/lib/python3.10/dist-packages/ipykernel/ipkernel.py:283: DeprecationWarning: `should_run_async` will not call `transform_cell` automatically in the future. Please pass the result to `transformed_cell` argument and any exception that happen during thetransform in `preprocessing_exc_tuple` in IPython 7.17 and above.\n",
            "  and should_run_async(code)\n"
          ]
        }
      ]
    },
    {
      "cell_type": "code",
      "source": [
        "topics"
      ],
      "metadata": {
        "colab": {
          "base_uri": "https://localhost:8080/"
        },
        "id": "oS9-bRNnKx_B",
        "outputId": "9d3cdb47-e456-4c4e-e950-7becbcdc4e0d"
      },
      "execution_count": null,
      "outputs": [
        {
          "output_type": "stream",
          "name": "stderr",
          "text": [
            "/usr/local/lib/python3.10/dist-packages/ipykernel/ipkernel.py:283: DeprecationWarning: `should_run_async` will not call `transform_cell` automatically in the future. Please pass the result to `transformed_cell` argument and any exception that happen during thetransform in `preprocessing_exc_tuple` in IPython 7.17 and above.\n",
            "  and should_run_async(code)\n"
          ]
        },
        {
          "output_type": "execute_result",
          "data": {
            "text/plain": [
              "[(0,\n",
              "  '0.107*\"보안\" + 0.059*\"시대\" + 0.058*\"우려\" + 0.055*\"영상\" + 0.054*\"기업\" + 0.048*\"편리\" + 0.047*\"양날\" + 0.047*\"이게\" + 0.014*\"머스크\" + 0.013*\"메타\"'),\n",
              " (1,\n",
              "  '0.067*\"최대\" + 0.066*\"기자\" + 0.062*\"효율\" + 0.059*\"환자\" + 0.059*\"도래\" + 0.058*\"가리비\" + 0.020*\"오픈\" + 0.013*\"검토\" + 0.010*\"로봇\" + 0.010*\"미국\"'),\n",
              " (2,\n",
              "  '0.066*\"구글\" + 0.058*\"해법\" + 0.056*\"제국\" + 0.029*\"데이터\" + 0.023*\"클라우드\" + 0.012*\"비디아\" + 0.012*\"사업\" + 0.010*\"솔루션\" + 0.010*\"거대\" + 0.010*\"기업\"'),\n",
              " (3,\n",
              "  '0.069*\"가능\" + 0.066*\"사람\" + 0.064*\"과학\" + 0.055*\"포커스\" + 0.053*\"마비\" + 0.053*\"스푼\" + 0.012*\"시대\" + 0.012*\"규제\" + 0.011*\"적용\" + 0.011*\"챗GPT\"'),\n",
              " (4,\n",
              "  '0.047*\"생각\" + 0.045*\"클럽\" + 0.042*\"반도체\" + 0.022*\"투자\" + 0.022*\"개발\" + 0.019*\"기술\" + 0.017*\"한국\" + 0.017*\"세계\" + 0.016*\"지원\" + 0.015*\"스타트업\"'),\n",
              " (5,\n",
              "  '0.058*\"인공지능\" + 0.035*\"활용\" + 0.033*\"생성\" + 0.031*\"개최\" + 0.030*\"교육\" + 0.019*\"포럼\" + 0.016*\"시대\" + 0.012*\"미래\" + 0.012*\"우리\" + 0.011*\"칼럼\"'),\n",
              " (6,\n",
              "  '0.064*\"소통\" + 0.062*\"나선\" + 0.034*\"정보\" + 0.031*\"서비스\" + 0.026*\"챗GPT\" + 0.021*\"공개\" + 0.017*\"개인\" + 0.015*\"도입\" + 0.015*\"활용\" + 0.011*\"스테이지\"'),\n",
              " (7,\n",
              "  '0.061*\"시민\" + 0.061*\"단속\" + 0.045*\"디지털\" + 0.028*\"정부\" + 0.021*\"혁신\" + 0.021*\"미래\" + 0.016*\"교육\" + 0.014*\"활용\" + 0.013*\"기업\" + 0.012*\"기술\"'),\n",
              " (8,\n",
              "  '0.059*\"공략\" + 0.026*\"글로벌\" + 0.025*\"카카오\" + 0.022*\"분기\" + 0.018*\"네이버\" + 0.016*\"증시\" + 0.014*\"실적\" + 0.014*\"출시\" + 0.011*\"경기\" + 0.011*\"영업\"'),\n",
              " (9,\n",
              "  '0.109*\"구글\" + 0.083*\"검색\" + 0.072*\"대화\" + 0.033*\"출시\" + 0.019*\"챗GPT\" + 0.018*\"경쟁\" + 0.014*\"공개\" + 0.013*\"엔진\" + 0.012*\"바드\" + 0.011*\"다음\"')]"
            ]
          },
          "metadata": {},
          "execution_count": 56
        }
      ]
    },
    {
      "cell_type": "code",
      "source": [
        "import pyLDAvis.gensim_models\n",
        "\n",
        "pyLDAvis.enable_notebook()\n",
        "vis = pyLDAvis.gensim_models.prepare(ldamodel, corpus, dictionary)\n",
        "pyLDAvis.display(vis)"
      ],
      "metadata": {
        "colab": {
          "base_uri": "https://localhost:8080/",
          "height": 917
        },
        "id": "G0-s-5D2K0c5",
        "outputId": "c9547f04-14cc-4acc-9e0c-0a272e1b9cea"
      },
      "execution_count": null,
      "outputs": [
        {
          "output_type": "stream",
          "name": "stderr",
          "text": [
            "/usr/local/lib/python3.10/dist-packages/ipykernel/ipkernel.py:283: DeprecationWarning: `should_run_async` will not call `transform_cell` automatically in the future. Please pass the result to `transformed_cell` argument and any exception that happen during thetransform in `preprocessing_exc_tuple` in IPython 7.17 and above.\n",
            "  and should_run_async(code)\n"
          ]
        },
        {
          "output_type": "execute_result",
          "data": {
            "text/plain": [
              "<IPython.core.display.HTML object>"
            ],
            "text/html": [
              "\n",
              "<link rel=\"stylesheet\" type=\"text/css\" href=\"https://cdn.jsdelivr.net/gh/bmabey/pyLDAvis@3.4.0/pyLDAvis/js/ldavis.v1.0.0.css\">\n",
              "\n",
              "\n",
              "<div id=\"ldavis_el383421396357718992647695350744\" style=\"background-color:white;\"></div>\n",
              "<script type=\"text/javascript\">\n",
              "\n",
              "var ldavis_el383421396357718992647695350744_data = {\"mdsDat\": {\"x\": [0.09133928537060769, 0.12090275245662899, -0.16877011614649726, 0.22181854552237404, 0.20734707139008046, 0.016007153717230767, -0.09935982375905832, -0.18906746735802768, -0.15712073204122812, -0.04309666915211114], \"y\": [0.11822200236679126, 0.006039748528871705, 0.11238424157230774, -0.06433218915007494, 0.04947424827973425, -0.019289375894109586, 0.2112111650129585, -0.11297442289645282, 0.013817368304768651, -0.31455278612479454], \"topics\": [1, 2, 3, 4, 5, 6, 7, 8, 9, 10], \"cluster\": [1, 1, 1, 1, 1, 1, 1, 1, 1, 1], \"Freq\": [13.945497372797316, 11.790577931946759, 10.971453170444942, 10.57110208402328, 9.775894101727685, 9.481149500995047, 9.416618664379723, 8.439689663873791, 8.150587111823771, 7.457430397987686]}, \"tinfo\": {\"Term\": [\"\\uad6c\\uae00\", \"\\ubcf4\\uc548\", \"\\uac80\\uc0c9\", \"\\ub300\\ud654\", \"\\uacf5\\ub7b5\", \"\\uc18c\\ud1b5\", \"\\uac00\\ub2a5\", \"\\uc778\\uacf5\\uc9c0\\ub2a5\", \"\\ub098\\uc120\", \"\\uc0ac\\ub78c\", \"\\uc2dc\\ubbfc\", \"\\ub2e8\\uc18d\", \"\\uacfc\\ud559\", \"\\ud574\\ubc95\", \"\\ucd5c\\ub300\", \"\\uc0dd\\uac01\", \"\\uc81c\\uad6d\", \"\\uae30\\uc790\", \"\\ud074\\ub7fd\", \"\\uc2dc\\ub300\", \"\\ud6a8\\uc728\", \"\\uc6b0\\ub824\", \"\\ubc18\\ub3c4\\uccb4\", \"\\ud658\\uc790\", \"\\ud3ec\\ucee4\\uc2a4\", \"\\ub3c4\\ub798\", \"\\uc601\\uc0c1\", \"\\uac00\\ub9ac\\ube44\", \"\\ub9c8\\ube44\", \"\\uc2a4\\ud47c\", \"\\uc0dd\\uac01\", \"\\ud074\\ub7fd\", \"\\ubc18\\ub3c4\\uccb4\", \"\\uc9c0\\uc6d0\", \"\\uc2a4\\ud0c0\\ud2b8\\uc5c5\", \"\\ud558\\uc774\\ub2c9\\uc2a4\", \"\\uc131\\uc7a5\", \"\\uac8c\\uc784\", \"\\uc5c5\\uacc4\", \"\\uba54\\ubaa8\\ub9ac\", \"\\uc5b8\\uc5b4\", \"\\uae30\\ud68c\", \"\\uacbd\\uc7c1\\ub825\", \"\\uc704\\uae30\", \"\\ubc1c\\uc804\", \"\\uc218\\uc694\", \"\\uc18d\\ub3c4\", \"\\ud575\\uc2ec\", \"\\uc758\\ub8cc\", \"\\uac10\\uc0b0\", \"\\uc5b4\\ub514\", \"\\uc7a5\\uad00\", \"\\ubaa8\\uc9d1\", \"\\ud574\\uacb0\", \"\\ubca4\\ucc98\", \"\\uc0ac\\ub0b4\", \"\\uc740\\ud589\", \"\\uc0c1\\ub2f4\", \"\\uac00\\uc9dc\", \"\\uc120\\ub3c4\", \"\\uc138\\uacc4\", \"\\uc0b0\\uc5c5\", \"\\ud55c\\uad6d\", \"\\ud22c\\uc790\", \"\\uac1c\\ubc1c\", \"\\uc5f4\\ud48d\", \"\\uae30\\uc220\", \"\\uc0bc\\uc131\", \"\\uad6d\\ub0b4\", \"\\uc2dc\\uc7a5\", \"\\ucc57GPT\", \"\\uae30\\uc5c5\", \"\\ub274\\uc2a4\", \"\\uac70\\ub300\", \"\\ubaa8\\ub378\", \"\\uae00\\ub85c\\ubc8c\", \"\\ubbf8\\ub798\", \"\\uacf5\\ub7b5\", \"\\ubd84\\uae30\", \"\\uc99d\\uc2dc\", \"\\uc2e4\\uc801\", \"\\uacbd\\uae30\", \"\\uc601\\uc5c5\", \"\\uc2a4\\ub9c8\\ud2b8\", \"\\uc0c1\\uc2b9\", \"\\ub9e4\\ucd9c\", \"\\ube44\\uc988\", \"\\uc804\\ub9dd\", \"\\uc2e0\\ubb38\", \"\\ub274\\uc695\", \"\\uc0c1\\ubc18\\uae30\", \"\\uae40\\ub3d9\\uc5f0\", \"\\ubaa9\\ud45c\", \"\\uc721\\uc131\", \"\\ud14c\\uc2ac\\ub77c\", \"\\uc778\\ub958\", \"\\ube0c\\ub9ac\\ud551\", \"\\uc99d\\uad8c\", \"\\uc5f0\\ub0b4\", \"\\uc0c1\\uc7a5\", \"\\ub9c8\\uac10\", \"\\uc0ac\\uc0c1\", \"\\ub9e4\\uc218\", \"\\ud3ec\\ud138\", \"\\uc11c\\uce58\", \"\\uacbd\\ubd81\", \"\\uac10\\uc18c\", \"\\uce74\\uce74\\uc624\", \"\\uae00\\ub85c\\ubc8c\", \"\\ub124\\uc774\\ubc84\", \"\\uc62c\\ud574\", \"\\ud55c\\uad6d\\uc5b4\", \"\\uc804\\ud658\", \"\\ucd9c\\uc2dc\", \"\\ud22c\\uc790\", \"\\uae30\\ub300\", \"\\ub300\\ud45c\", \"\\ucc57GPT\", \"\\ucd5c\\ub300\", \"\\uc778\\uacf5\\uc9c0\\ub2a5\", \"\\uac1c\\ucd5c\", \"\\ud3ec\\ub7fc\", \"\\uc6b0\\ub9ac\", \"\\uce7c\\ub7fc\", \"\\ucd5c\\ucd08\", \"\\uc9c1\\uc6d0\", \"\\ub300\\ud559\", \"\\uc774\\ubbf8\\uc9c0\", \"\\ub300\\uc0c1\", \"\\uc138\\ubbf8\\ub098\", \"\\uacfc\\uc81c\", \"\\ud604\\uc7a5\", \"\\uac15\\uc758\", \"\\ubb34\\ub8cc\", \"\\uc0ac\\uc774\\ubc84\", \"\\ub9de\\ucda4\", \"\\uc790\\uc0b0\", \"\\uc608\\uce21\", \"\\ucc38\\uc5ec\", \"\\ud2b8\\ub80c\\ub4dc\", \"\\ucc3d\\uc5c5\", \"\\uc81c\\uc791\", \"\\uc624\\ub2f5\", \"\\ubcc0\\ud638\\uc0ac\", \"\\uac15\\uc5f0\", \"\\uc735\\ud569\", \"\\uacfc\\uc815\", \"\\uacbd\\uc601\", \"\\ud68c\\uc7a5\", \"\\uc0dd\\uc131\", \"\\uad50\\uc721\", \"\\ud65c\\uc6a9\", \"\\uc5c5\\ubb34\", \"\\uc800\\uc791\", \"\\uc9c4\\ud589\", \"\\uc724\\ub9ac\", \"\\ubbf8\\ub798\", \"\\uc2dc\\ub300\", \"\\ucf58\\ud150\\uce20\", \"\\ud68c\\uc0ac\", \"\\uc804\\ubb38\\uac00\", \"\\uc138\\uacc4\", \"\\ucc57GPT\", \"\\uce74\\uce74\\uc624\", \"\\uac80\\uc0c9\", \"\\ub300\\ud654\", \"\\uc5d4\\uc9c4\", \"\\ubc14\\ub4dc\", \"\\ub2e4\\uc74c\", \"\\ud0d1\\uc7ac\", \"\\uc18c\\ud504\\ud2b8\", \"\\ub300\\ud56d\\ub9c8\", \"\\ub9c8\\uc774\\ud06c\", \"\\uae30\\ub2a5\", \"\\ucd94\\uac00\", \"\\uac1c\\uc6d4\", \"\\ub300\\uc804\", \"\\ubc14\\uc774\\ub450\", \"\\ub300\\uc2e0\", \"\\uac8c\\uc774\\uce20\", \"\\uad11\\uc8fc\", \"\\uac1c\\ubbf8\", \"\\uc8fc\\ub3c4\", \"\\uad8c\\ub9ac\", \"\\ud6a8\\uacfc\", \"\\uae09\\ub77d\", \"\\ud611\\uc5c5\", \"\\uc54c\\ud30c\\ubcb3\", \"\\ucc28\\uc774\", \"\\uce5c\\uad6c\", \"\\uc778\\ud130\\ub137\", \"\\ucc38\\uc804\", \"\\uc54c\\ub9ac\\ubc14\\ubc14\", \"\\uc5ec\\ud589\", \"\\uacbd\\uc7c1\", \"\\uad6c\\uae00\", \"\\ucd9c\\uc2dc\", \"\\uc544\\ub9c8\\uc874\", \"\\uc804\\uc7c1\", \"\\uc801\\uc790\", \"\\uacf5\\uac1c\", \"\\ucc57GPT\", \"\\ud14c\\ud06c\", \"\\uc624\\ud508\", \"\\ubc1c\\ud45c\", \"\\uc0dd\\uc131\", \"\\uc11c\\ube44\\uc2a4\", \"\\uc0bc\\uc131\", \"\\uac1c\\ubc1c\", \"\\uc8fc\\uac00\", \"\\uc2dc\\uc7a5\", \"\\ud574\\ubc95\", \"\\uc81c\\uad6d\", \"\\ud074\\ub77c\\uc6b0\\ub4dc\", \"\\uc194\\ub8e8\\uc158\", \"\\ud2b9\\uc9d5\", \"\\uc13c\\ud130\", \"\\ud558\\ubc18\\uae30\", \"\\uacbd\\uace0\", \"\\uad6c\\ucd95\", \"\\uc601\\ud5a5\", \"\\uc140\\ubc14\\uc2a4\", \"\\uccb4\\uacb0\", \"\\uacfc\\uae30\", \"\\uace0\\uac1d\", \"\\uc815\\ud1b5\\ubd80\", \"\\ube0c\\ub808\\uc778\", \"\\uc628\\ub77c\\uc778\", \"\\uc624\\ud53c\\uc2a4\", \"\\ucc28\\uc138\\ub300\", \"\\ud611\\uc57d\", \"\\uc804\\uc790\", \"\\ud655\\ubcf4\", \"\\uac00\\uc18d\", \"\\uc138\\uc885\", \"\\uc5f0\\ubd09\", \"\\ubd80\\uac01\", \"\\ud22c\\ub370\\uc774\", \"\\uc804\\ub144\", \"\\ucd94\\ucc9c\", \"\\uacf5\\ub3d9\", \"\\ub370\\uc774\\ud130\", \"\\ube44\\ub514\\uc544\", \"\\uad6c\\uae00\", \"\\ud611\\ub825\", \"\\uc9c4\\ucd9c\", \"\\ud655\\ub300\", \"\\uc0ac\\uc5c5\", \"\\uc0bc\\uc131\\uc804\\uc790\", \"\\uac70\\ub300\", \"\\ub124\\uc774\\ubc84\", \"\\uc11c\\ube44\\uc2a4\", \"\\uae30\\uc5c5\", \"\\uac1c\\ubc1c\", \"\\uae30\\uc220\", \"\\ucc57GPT\", \"\\ud55c\\uad6d\", \"\\uc8fc\\uac00\", \"\\ud22c\\uc790\", \"\\uc18c\\ud1b5\", \"\\ub098\\uc120\", \"\\uc815\\ubcf4\", \"\\uac1c\\uc778\", \"\\uc2a4\\ud14c\\uc774\\uc9c0\", \"\\uc219\\uc5c5\", \"\\uce74\\ud1a1\", \"\\ubd80\\uc0b0\", \"\\uc5f0\\uad6c\", \"\\uc911\\ub2e8\", \"\\ubc29\\uc548\", \"\\uad11\\uace0\", \"\\uc5ed\\ub7c9\", \"\\ud2b9\\uac15\", \"\\ubcf4\\ud638\", \"\\ubd84\\uc57c\", \"\\ub17c\\ub780\", \"\\uc774\\uc6a9\", \"\\ub300\\ubd80\", \"\\uc774\\uc6a9\\uc790\", \"\\uc2e4\\uc2dc\", \"\\uc1fc\\ud06c\", \"\\uc218\\uc5c5\", \"\\uad6d\\ud310\", \"\\uc720\\ubc1c\", \"\\ubd80\\ud68c\\uc7a5\", \"\\ube44\\uc11c\", \"\\uc804\\ubb38\", \"\\uacf5\\uc720\", \"\\ud558\\ub77c\\ub9ac\", \"\\ub3c4\\uc785\", \"\\uc11c\\ube44\\uc2a4\", \"\\uacf5\\uac1c\", \"\\uad50\\uc721\\uccad\", \"\\uae30\\ubc18\", \"\\ucc57GPT\", \"\\ud65c\\uc6a9\", \"\\uac1c\\ubc1c\", \"\\ub3cc\\ud30c\", \"\\uae30\\uc5c5\", \"\\uad6d\\ub0b4\", \"\\uc2dc\\ubbfc\", \"\\ub2e8\\uc18d\", \"\\ub514\\uc9c0\\ud138\", \"\\uc815\\ubd80\", \"\\uc815\\ucc45\", \"\\uad6d\\ubbfc\", \"\\ub17c\\uc758\", \"\\ud589\\uc815\", \"\\uad6d\\uac00\", \"\\ubb38\\ud654\", \"\\uacf5\\uacf5\", \"\\uc77c\\uc0c1\", \"\\ud380\\ub4dc\", \"\\uc81c\\uacf5\", \"\\uc9d1\\uc911\", \"\\ucca8\\ub2e8\", \"\\uae08\\uc9c0\", \"\\uccad\\ub144\", \"\\uc6b4\\uc601\", \"\\uc911\\uae30\", \"\\uacbd\\ud5d8\", \"\\uc870\\uc131\", \"\\uad50\\uc0ac\", \"\\ub9c8\\ucf00\\ud305\", \"\\uc7ac\\ub2e8\", \"\\uc870\\uc9c1\", \"\\uc18c\\uc124\", \"\\uc9c0\\uc790\\uccb4\", \"\\uae30\\ud68d\", \"\\ud558\\ub098\", \"\\ud601\\uc2e0\", \"\\uacbd\\uae30\\ub3c4\", \"\\ubbf8\\ub798\", \"\\ud50c\\ub7ab\", \"\\uc18c\\uc2dd\", \"\\uc804\\ub7b5\", \"\\uad50\\uc721\", \"\\uc624\\ub298\", \"\\ud65c\\uc6a9\", \"\\uae30\\uc220\", \"\\uac15\\ud654\", \"\\ub370\\uc774\\ud130\", \"\\uae30\\uc5c5\", \"\\ub9c8\\ub828\", \"\\uc0b0\\uc5c5\", \"\\ucd94\\uc9c4\", \"\\uac00\\ub2a5\", \"\\uc0ac\\ub78c\", \"\\uacfc\\ud559\", \"\\ud3ec\\ucee4\\uc2a4\", \"\\ub9c8\\ube44\", \"\\uc2a4\\ud47c\", \"\\uc77c\\uc790\\ub9ac\", \"\\uc138\\uc0c1\", \"\\uc11c\\uc6b8\", \"\\ud559\\uc2b5\", \"\\uc9c8\\ubb38\", \"\\ub4f1\\uc7a5\", \"\\ucc28\\ub2e8\", \"\\uc0ac\\ud68c\", \"\\uc9c1\\uc5c5\", \"\\ub300\\uccb4\", \"\\uc791\\uac00\", \"\\ub300\\ud68c\", \"\\ubc29\\ud5a5\", \"\\ud5ec\\uc2a4\", \"\\uc774\\ud0c8\\ub9ac\\uc544\", \"\\uac1c\\ud601\", \"\\ucf00\\uc5b4\", \"\\uc74c\\uc131\", \"\\ube44\\uc804\", \"\\uc720\\uc601\\uc0c1\", \"\\ubc14\\ub2e5\", \"\\uae30\\uc0ac\", \"\\uc778\\ud504\\ub77c\", \"\\ub9e4\\uacbd\", \"\\uc801\\uc6a9\", \"\\uaddc\\uc81c\", \"\\uc2dc\\uc791\", \"\\uc778\\uac04\", \"\\uc9c0\\uc2dd\", \"\\ud544\\uc694\", \"\\ub2f5\\ubcc0\", \"\\uc2dc\\ub300\", \"\\uc778\\ud130\\ubdf0\", \"\\ucc57GPT\", \"\\uc0ac\\uc6a9\", \"\\uae30\\uc220\", \"\\ubcf4\\uc548\", \"\\uc6b0\\ub824\", \"\\uc601\\uc0c1\", \"\\ud3b8\\ub9ac\", \"\\uc591\\ub0a0\", \"\\uc774\\uac8c\", \"\\ubc84\\uc2a4\", \"\\uc704\\ud5d8\", \"\\uc6b4\\uc6a9\", \"\\uac1c\\uc120\", \"\\uc120\\uc815\", \"\\uacf5\\uae09\", \"\\ud611\\ud68c\", \"\\ucc57\\uc9c0\\ud53c\\ud2f0\", \"\\uacf5\\ubd80\", \"\\uc0ac\\uc9c4\", \"\\uc5c5\\uccb4\", \"\\uc124\\uacc4\", \"\\uc608\\uc0c1\", \"\\uc5f0\\uc18d\", \"\\uc11c\\uc6b8\\uc2dc\", \"\\ud1a0\\ub9c9\", \"\\ud559\\uc0dd\", \"\\uc758\\uc6d0\", \"\\ud3c9\\uac00\", \"\\ubc31\\uc545\\uad00\", \"\\uc774\\uac83\", \"\\uc81c\\uc548\", \"\\ubc29\\ubb38\", \"\\ubc95\\uc778\", \"\\uc2dc\\ub300\", \"\\uba54\\ud0c0\", \"\\uba38\\uc2a4\\ud06c\", \"\\uae30\\uc5c5\", \"\\uc601\\uc5b4\", \"\\uac15\\ud654\", \"\\uc2dc\\uac04\", \"\\ud55c\\uad6d\", \"\\uc774\\uc720\", \"\\uaca9\\ucc28\", \"\\ud574\\uc678\", \"\\uae30\\uc790\", \"\\ud6a8\\uc728\", \"\\ud658\\uc790\", \"\\ub3c4\\ub798\", \"\\uac00\\ub9ac\\ube44\", \"\\uac80\\ud1a0\", \"\\ub85c\\ubd07\", \"\\ubbf8\\uad6d\", \"\\uc720\\ucd9c\", \"\\ub2ec\\ub7ec\", \"\\uc2dc\\ud5d8\", \"\\uad00\\ub9ac\", \"\\uc124\\ub9bd\", \"\\ucd5c\\uace0\", \"\\uc720\\ub7fd\", \"\\ud55c\\ucef4\", \"\\ud589\\uc0ac\", \"\\uc2dc\\ud669\", \"\\uc77c\\ubcf8\", \"\\uc74c\\uc545\", \"\\uc784\\uc9c1\\uc6d0\", \"\\uc2e4\\ub9ac\\ucf58\\ubc38\\ub9ac\", \"\\uacf5\\ubaa8\", \"\\uac24\\ub7ed\\uc2dc\", \"\\uc758\\uc0ac\", \"\\uad50\\uccb4\", \"\\ud544\\uc218\", \"\\ub2f9\\uad6d\", \"\\uc804\\uc9c0\", \"\\uc138\\ub300\", \"\\ucd5c\\ub300\", \"\\uc624\\ud508\", \"\\uc911\\uad6d\", \"\\uc8fc\\uc2dd\", \"\\uad50\\uc218\", \"\\uba38\\uc2a4\\ud06c\", \"\\uaddc\\uc81c\", \"\\uc704\\ud611\", \"\\ucc57GPT\"], \"Freq\": [1687.0, 822.0, 829.0, 713.0, 649.0, 573.0, 545.0, 599.0, 557.0, 523.0, 543.0, 541.0, 511.0, 533.0, 538.0, 623.0, 518.0, 462.0, 588.0, 712.0, 435.0, 443.0, 557.0, 416.0, 435.0, 414.0, 426.0, 409.0, 422.0, 422.0, 622.4486858578883, 588.0064319318243, 556.5732580365903, 207.60150956171333, 190.4367219370295, 182.6992655353252, 128.6277534867239, 127.50060032475737, 105.68723716092853, 97.4861872680713, 83.0885429469234, 81.04062692837637, 77.20626657883827, 74.77588913604633, 72.9213686134332, 67.58370788490807, 66.97850883154447, 66.22237946313503, 61.13257884779148, 58.96911405835524, 57.20983791686244, 56.894811492983756, 55.777502143440536, 53.19184039164629, 51.00501181416322, 50.95127082704714, 50.91752890053047, 49.57038912526208, 39.06669624765514, 39.056400548061056, 220.40628213872236, 172.0107538581544, 227.13737359789724, 294.45437034670147, 285.97362061487166, 162.1879358685609, 251.07571786264398, 142.98365931040703, 103.17225300528013, 115.73289659155833, 181.038360345648, 151.3200249845841, 81.01366025612994, 85.48951719069665, 72.14013508071102, 77.73322808582027, 77.44231655974528, 648.9232443924273, 248.43641195343372, 177.1739771177099, 159.40653373100798, 127.14123025698458, 122.31910137749361, 106.36559428092605, 91.27273318653371, 89.5803641251704, 88.1533406068063, 82.72901870675267, 82.48021531108137, 81.3245315407875, 79.2064861489343, 73.98594140646007, 72.0887264532799, 66.53139102588284, 65.92019379029527, 64.58301106645443, 63.510864107572935, 61.63140976201071, 52.747584809313146, 51.86694779763305, 51.57314397870648, 51.200604907985195, 48.868286045969086, 48.11565964628888, 47.89388438459432, 47.25071805529443, 46.261658729667516, 272.743373020675, 287.6475792887998, 198.0389324285913, 111.56966915761504, 75.86222569008117, 66.32012240270646, 157.59249418152703, 112.97251966293634, 67.3392921538066, 72.93032110600447, 86.28861104407153, 66.3374957877746, 599.0517285947614, 319.11122847082385, 195.43021158868677, 119.60736098624557, 116.00375598283478, 106.26332526065346, 104.60585778514184, 91.446123902736, 90.27655042083624, 89.4645980380215, 89.41643031267388, 67.37431997524575, 67.12076441563359, 65.20337090336926, 58.3574764880317, 58.12156705401318, 57.40407164786507, 54.76407097403972, 54.012868729567366, 50.54649322015513, 49.278436773772924, 47.732467061064774, 47.488116504620976, 47.03302134014817, 44.880266081945265, 42.822265665855994, 39.9276500883691, 39.36409346693958, 35.028205479221896, 34.14608656651467, 343.6216152476044, 305.0630292199773, 364.8963569336387, 109.88590717560656, 89.2782495709575, 58.031414713483734, 60.161330417896224, 123.9848204209444, 161.05731729927177, 70.65470253441782, 58.731052605656465, 60.39416030753536, 71.85179013591322, 85.08141189989016, 69.11623230497993, 828.2220336290691, 712.7239245642502, 133.28032338824445, 119.05765889548763, 112.31142292601464, 95.48610968740863, 93.63316924117908, 91.41346608813633, 91.3277097534935, 78.36191298689944, 64.42314797379176, 62.72030657253296, 54.55327709266387, 51.22791158272903, 51.18371415839729, 49.58989430488264, 48.30718302823349, 47.20883444704772, 43.80301740434312, 42.83800173166714, 41.93178788987574, 41.71830896074597, 40.606818728148625, 40.36744532984083, 36.26209804362846, 36.053511937866794, 33.996480117654585, 33.78270956329095, 33.52891691730895, 29.478895104034677, 179.83161699648835, 1084.304095081924, 326.51786906380175, 57.41938377796016, 84.97408467029203, 60.08137131544199, 134.34520913108773, 186.88178200730752, 100.3963565059917, 93.35477360919758, 66.11095447410486, 97.71317290587737, 88.85636642643296, 69.25622982970096, 70.24671410613409, 58.7127555770471, 55.71922718044166, 532.9161665349476, 517.9362156885617, 210.98800893763243, 90.24959689670499, 81.2548234067678, 80.43657345863909, 77.19293967244487, 69.81626309608691, 69.14422675027416, 62.612469250234064, 58.967826808923576, 55.19289090779079, 54.83727542046228, 52.92633606863407, 51.44137931957148, 50.488114234510896, 48.85891303224424, 47.4360572531078, 46.33737906765283, 46.22862210605197, 46.064249524317354, 45.46443386256222, 40.71468781662953, 39.47486016668329, 39.37531967907781, 38.27747624161593, 37.151127230380126, 35.855302972754565, 35.07523311360161, 33.076371253928016, 268.51007362633766, 111.33932943073214, 602.8143505148477, 72.11595957094835, 49.319021845270505, 74.01193338952628, 107.02249225552814, 76.69727059491343, 88.82075661657201, 80.84431574756618, 81.52142907348045, 88.4147865618456, 78.99811859392942, 76.71317789513026, 73.51485166154501, 58.0778698678099, 53.60942533402699, 53.452698187757186, 573.108066760112, 557.1515478079655, 305.6869631679001, 149.46765660862383, 100.551615598639, 94.39232926895215, 93.8239624361081, 90.88796786451817, 88.99262846887439, 87.82002417180738, 74.29993482220429, 73.16729472625457, 63.44323985248523, 60.9963438307628, 55.61448700911866, 51.46845232065343, 48.810297377899076, 45.86725323083677, 44.549310601283466, 42.88975002816741, 40.809672729228794, 39.93492752679701, 38.89917550081135, 37.9941727565405, 37.30073200692318, 36.639429516276245, 36.1214808486481, 35.86957684877364, 33.41307173256898, 32.98423293723264, 136.181789196506, 276.7027955292425, 185.51513352158568, 62.11832652963503, 87.77972783521435, 233.08095248546962, 133.91079627442397, 90.48299507895982, 51.33230168576454, 91.96519945972915, 45.611239054450145, 542.3751760747531, 540.8011780516354, 400.9607809100608, 248.96249844103667, 109.7577207253961, 90.76116612894222, 88.41153328412143, 85.96663257194732, 72.07875138733797, 71.48093562344926, 65.18795776275823, 59.02320227062757, 57.56801281148375, 57.04141291225308, 53.83669075576935, 46.05284334347395, 43.191261167839485, 42.49840844901833, 42.29246343365468, 39.08893295020009, 38.92297701800786, 37.984202570959894, 37.89594454495442, 37.63435788303322, 36.25739000645919, 36.174748100404166, 36.01993781595502, 35.78245676139823, 32.99319553129311, 32.4694243092181, 187.55107621068646, 86.07366872589286, 184.85584994054466, 96.06143912200383, 47.523037986538256, 71.53353417417463, 143.55304003181504, 50.40614037511061, 128.35059917580793, 110.60965560845251, 58.48901112556079, 87.88740332310685, 111.80951778165515, 47.88064710461669, 56.28030083244824, 52.879059835495674, 544.5883499380375, 523.004870606632, 510.671453845829, 434.77697732187283, 421.8254114632778, 421.8154775577461, 83.29278962522969, 81.2632868120517, 80.71794939833227, 76.30252056323178, 70.88245161824426, 63.56816280126019, 53.101470281071094, 52.20837965205115, 40.790164590504794, 38.720386590390376, 35.16928884083953, 32.97957593141622, 31.97581908173087, 31.889991320544247, 31.83218766860143, 30.44587012993593, 29.511772575402436, 28.344494327627846, 27.84870633296238, 23.663381562994655, 23.44460651103437, 22.494983533458115, 22.146513362178016, 22.138467933479113, 85.13170779991327, 96.71454556306392, 51.861491218705424, 81.05620479472776, 35.552509203233896, 63.16426528058822, 39.42101519103119, 97.83675167100765, 34.63971337172312, 84.81156847677546, 45.22188754371896, 42.10537229163704, 821.8205920370815, 443.0192803681262, 425.2352243925149, 365.51158040868273, 362.35887754844686, 362.04274497886104, 86.40140540285458, 53.37517048295506, 45.84386592982725, 41.67153417152981, 39.57071732374229, 36.16549315191067, 31.59253859733158, 28.140524121272286, 27.967930000220107, 27.14040902857794, 25.696148304750356, 25.480286536241874, 24.578986070397224, 24.27042881894434, 23.866998961314483, 23.79223797713011, 23.40518472597994, 22.583461683339895, 21.42079221984451, 19.502859077173884, 19.38403097732978, 19.108394684396806, 18.963371509199607, 18.453464264752334, 453.0095206955255, 96.2458784071977, 110.53427393951858, 414.3361600324279, 30.789283627096275, 54.67969915485147, 32.34642283695045, 46.97109111328564, 30.889309947941797, 24.957073856694617, 25.42462534710513, 461.48162891664003, 434.433986952611, 415.20786073267976, 413.21001033160735, 408.4829094944338, 93.54498554952687, 70.88594625844397, 70.38112166020503, 55.31501111080887, 52.135663070374555, 48.02903552701687, 45.23245642211983, 45.18001529823814, 40.900510670485595, 38.34600846667045, 33.30247790758788, 30.69203066769693, 29.495155654129984, 29.41890882671148, 29.12681055844485, 29.125073297226525, 29.10026834193632, 27.73110730465218, 26.930971157998425, 25.99469512376587, 25.068491612518127, 24.1085388631287, 23.982290261697088, 23.949112491061427, 23.24159326672741, 471.6820430637722, 138.12060048574722, 58.70653034135249, 37.50121948186, 44.3000304461136, 40.84135888531883, 38.04781672202525, 31.05190171664983, 41.05776873155857], \"Total\": [1687.0, 822.0, 829.0, 713.0, 649.0, 573.0, 545.0, 599.0, 557.0, 523.0, 543.0, 541.0, 511.0, 533.0, 538.0, 623.0, 518.0, 462.0, 588.0, 712.0, 435.0, 443.0, 557.0, 416.0, 435.0, 414.0, 426.0, 409.0, 422.0, 422.0, 623.2817402496187, 588.8393435670744, 557.4054194451705, 208.43370727945612, 191.2688916928758, 183.5315032886028, 129.45994606521577, 128.33276063283182, 106.51943413082839, 98.31833337042978, 83.92070827349289, 81.87281744190166, 78.03847119045841, 75.60806968995784, 73.75357159924005, 68.41585489801616, 67.81072024383135, 67.05459839487183, 61.964765577701776, 59.80129442361704, 58.042012195851726, 57.72695664798017, 56.60981247676145, 54.024029243553095, 51.837180304716725, 51.783587597108955, 51.74979771561146, 50.40257688037286, 39.89890830047795, 39.88862647448792, 292.97818008242, 229.0267004748653, 332.8580741543802, 461.50465050244844, 526.2407700078065, 244.8046955508972, 506.52269173440834, 261.82399056233703, 171.09324424459928, 275.5082302289543, 971.9178227378137, 858.3224372465899, 178.44792087291754, 249.14538616441487, 104.27186629986036, 366.10040303981714, 386.9065295456111, 649.7473918639251, 249.26013507588314, 177.99764518107676, 160.23024499885057, 127.96497708924973, 123.14281515180963, 107.18946200735542, 92.09640088394566, 90.40405151383023, 88.97703674267696, 83.55272582167117, 83.3039024046683, 82.14818894934875, 80.03019520481662, 74.80968365941138, 72.91242990820734, 67.35519486186335, 66.74389163437337, 65.40678709944733, 64.33452561693964, 62.45518777968584, 53.571285660451316, 52.69064666355876, 52.396802651312605, 52.024292343537965, 49.691968134312035, 48.939416359985195, 48.71754585875318, 48.07446780253332, 47.08538658816747, 342.57122667598657, 366.10040303981714, 279.6124093311761, 155.606618498612, 94.40371971758533, 77.52594126679807, 484.83419219092616, 461.50465050244844, 110.46882501373597, 140.78671778083316, 971.9178227378137, 538.768209878204, 599.8759239079787, 319.93542995228484, 196.25439085069317, 120.43154349906759, 116.8279090744954, 107.08753776870267, 105.43003880066215, 92.2703079351324, 91.10071615639849, 90.28879811431626, 90.24060742897869, 68.19851734879263, 67.94494255670675, 66.02756499528424, 59.181688143550176, 58.9457842300968, 58.228314553256986, 55.588307084436565, 54.83707965253268, 51.370796852686794, 50.10262479763987, 48.55672613459197, 48.3123003358678, 47.85726309635572, 45.70446790240578, 43.64642568899507, 40.751850869822356, 40.18827793561101, 35.852378385656586, 34.970262006296906, 442.05911178002356, 449.34371323759063, 627.7869571211754, 146.7465907386323, 114.60449852854957, 67.99121375583522, 80.07961976470064, 386.9065295456111, 712.5848179780634, 118.8348501036906, 77.10372122073431, 105.26808058697272, 292.97818008242, 971.9178227378137, 342.57122667598657, 829.0583943957353, 713.5603106384312, 134.116678694084, 119.89400119275548, 113.1478970199126, 96.32248357472632, 94.46953890542068, 92.24982642272101, 92.16408504789123, 79.19830112291197, 65.25954226867795, 63.55673835934586, 55.38970760915989, 52.0642646043473, 52.02011850627736, 50.426285833591805, 49.14372124460737, 48.04521613346178, 44.6394765230294, 43.67457441631178, 42.768278084283736, 42.554690679161276, 41.44325669394871, 41.20384592432957, 37.09847524606607, 36.88995862778867, 34.83289279806352, 34.61906665504647, 34.365288592761345, 30.315295721426118, 204.64426439391255, 1687.8602810471853, 484.83419219092616, 65.19203386962552, 112.28010509850476, 84.00670152061193, 320.59831872690864, 971.9178227378137, 281.3154427387839, 276.7857594717093, 131.80000614873444, 442.05911178002356, 447.7240394641828, 261.82399056233703, 526.2407700078065, 169.6236361814161, 275.5082302289543, 533.7578682689831, 518.7779036030083, 211.8297626189732, 91.09136825656464, 82.09654263898425, 81.27833036590022, 78.03481563412984, 70.6580406176117, 69.9859916306435, 63.454260532995974, 59.8095688861762, 56.03465723865415, 55.67900254128837, 53.7681163527498, 52.283105541136074, 51.32990532891098, 49.700720738740564, 48.27777284470721, 47.17913416292313, 47.070374596184315, 46.90601650850118, 46.30617936846981, 41.55643953259831, 40.31666650938404, 40.21706533835078, 39.11920209006343, 37.992867323398364, 36.697138168793565, 35.91700944595703, 33.91812862621411, 357.4401310239719, 145.2306645985252, 1687.8602810471853, 94.59178116461466, 57.96683625536215, 113.20466728676566, 221.59483087553653, 164.76189483405182, 249.14538616441487, 279.6124093311761, 447.7240394641828, 858.3224372465899, 526.2407700078065, 506.52269173440834, 971.9178227378137, 332.8580741543802, 169.6236361814161, 461.50465050244844, 573.9465409778101, 557.989661158004, 306.5318193190229, 150.30549175278716, 101.38942746642863, 95.23012858190386, 94.66177826050865, 91.72584048747437, 89.83049506521367, 88.65786226005588, 75.13783096993707, 74.00514061290139, 64.28116967251054, 61.834230089696554, 56.45233222596985, 52.3063505563225, 49.6512169956132, 46.70512494340241, 45.38723375428961, 43.72755388866673, 41.64758294999207, 40.77287282333768, 39.73707728985661, 38.832018539387526, 38.13855445299736, 37.4772774590334, 36.95931310650694, 36.707478382528386, 34.2509994665993, 33.82205307823781, 188.4902595698235, 447.7240394641828, 320.59831872690864, 79.93530003101911, 170.79109083419655, 971.9178227378137, 627.7869571211754, 526.2407700078065, 99.30902365222155, 858.3224372465899, 171.09324424459928, 543.2154052627036, 541.6411966220585, 401.8005389996989, 249.80223516648985, 110.59746183139465, 91.60091400667187, 89.25127312425317, 86.80636271688861, 72.91851333684158, 72.32065949072069, 66.02772626585225, 59.86292642299311, 58.407749522196475, 57.88124046664408, 54.67644198567479, 46.89261318142421, 44.031074035472386, 43.338175985636475, 43.13222617358234, 39.92868401166908, 39.76276135348308, 38.823962429626185, 38.73569525015602, 38.47411128729934, 37.097105205641824, 37.0144854430332, 36.8596774534212, 36.62220296410427, 33.83298384302961, 33.30920312885801, 260.3478377360172, 129.16476757856412, 386.9065295456111, 182.48229016379003, 59.71150022843523, 124.88707956347064, 449.34371323759063, 72.89876615412878, 627.7869571211754, 506.52269173440834, 113.94261526979425, 357.4401310239719, 858.3224372465899, 83.23260865607915, 229.0267004748653, 168.29234922027348, 545.4476038871883, 523.8641093698898, 511.53069251526796, 435.6367021946903, 422.6846431206148, 422.6747083083564, 84.15204981334102, 82.12252839172343, 81.57725109390455, 77.16183799886842, 71.74169138740847, 64.4274164775565, 53.960739183247604, 53.06766023402536, 41.649409313612026, 39.579629857051856, 36.02852654919027, 33.83884643017767, 32.83513971844009, 32.74925857100462, 32.69147093911804, 31.305143151281182, 30.37103997223655, 29.203780236533195, 28.708068075200103, 24.522611812076985, 24.303952332275223, 23.354226569901765, 23.005877978087277, 22.99769712274752, 119.79786098323308, 196.39159792315877, 79.84233603016011, 160.06637581129675, 46.085936866122545, 124.28418996346011, 56.44755180192233, 712.5848179780634, 46.92289528540905, 971.9178227378137, 131.7894612479711, 506.52269173440834, 822.6909541325565, 443.8896156618877, 426.1058264255056, 366.38189053474207, 363.22918429225587, 362.91362584064547, 87.27171361161037, 54.245535768811926, 46.71427272052224, 42.541936011359525, 40.44110533368949, 37.03589805648711, 32.46292620554242, 29.010876985213343, 28.838269424765755, 28.010772649153264, 26.566541032263377, 26.350664684168148, 25.449438750589273, 25.140827207014606, 24.73736383265856, 24.662939776092294, 24.275566773684567, 23.453803680894296, 22.291150252125103, 20.37337381552501, 20.254393605102493, 19.97886667309209, 19.833741940709416, 19.323946664293796, 712.5848179780634, 128.75625622406952, 152.1709850069036, 858.3224372465899, 40.80001287208759, 113.94261526979425, 67.68992458505595, 332.8580741543802, 99.26741486984304, 36.45927325532607, 50.300751562367424, 462.34285178511186, 435.2954685970113, 416.06974522976526, 414.07173467238187, 409.3441426852827, 94.40626132288142, 71.74720393361942, 71.24235913103166, 56.17632816911533, 52.996914382072724, 48.890248467100676, 46.09376573495356, 46.041272317519955, 41.76176733854858, 39.207282603999275, 34.16371883732024, 31.553307063147994, 30.35639917353675, 30.280154756968766, 29.988117741000842, 29.98648336053044, 29.961511285587502, 28.592525527445815, 27.79224825139824, 26.855908841550484, 25.92976550296874, 24.96979060975012, 24.843573374999565, 24.81038162299799, 24.102845582308035, 538.768209878204, 276.7857594717093, 101.4210562252229, 62.55399318803691, 99.22314120202054, 152.1709850069036, 196.39159792315877, 67.24531752912569, 971.9178227378137], \"Category\": [\"Default\", \"Default\", \"Default\", \"Default\", \"Default\", \"Default\", \"Default\", \"Default\", \"Default\", \"Default\", \"Default\", \"Default\", \"Default\", \"Default\", \"Default\", \"Default\", \"Default\", \"Default\", \"Default\", \"Default\", \"Default\", \"Default\", \"Default\", \"Default\", \"Default\", \"Default\", \"Default\", \"Default\", \"Default\", \"Default\", \"Topic1\", \"Topic1\", \"Topic1\", \"Topic1\", \"Topic1\", \"Topic1\", \"Topic1\", \"Topic1\", \"Topic1\", \"Topic1\", \"Topic1\", \"Topic1\", \"Topic1\", \"Topic1\", \"Topic1\", \"Topic1\", \"Topic1\", \"Topic1\", \"Topic1\", \"Topic1\", \"Topic1\", \"Topic1\", \"Topic1\", \"Topic1\", \"Topic1\", \"Topic1\", \"Topic1\", \"Topic1\", \"Topic1\", \"Topic1\", \"Topic1\", \"Topic1\", \"Topic1\", \"Topic1\", \"Topic1\", \"Topic1\", \"Topic1\", \"Topic1\", \"Topic1\", \"Topic1\", \"Topic1\", \"Topic1\", \"Topic1\", \"Topic1\", \"Topic1\", \"Topic1\", \"Topic1\", \"Topic2\", \"Topic2\", \"Topic2\", \"Topic2\", \"Topic2\", \"Topic2\", \"Topic2\", \"Topic2\", \"Topic2\", \"Topic2\", \"Topic2\", \"Topic2\", \"Topic2\", \"Topic2\", \"Topic2\", \"Topic2\", \"Topic2\", \"Topic2\", \"Topic2\", \"Topic2\", \"Topic2\", \"Topic2\", \"Topic2\", \"Topic2\", \"Topic2\", \"Topic2\", \"Topic2\", \"Topic2\", \"Topic2\", \"Topic2\", \"Topic2\", \"Topic2\", \"Topic2\", \"Topic2\", \"Topic2\", \"Topic2\", \"Topic2\", \"Topic2\", \"Topic2\", \"Topic2\", \"Topic2\", \"Topic2\", \"Topic3\", \"Topic3\", \"Topic3\", \"Topic3\", \"Topic3\", \"Topic3\", \"Topic3\", \"Topic3\", \"Topic3\", \"Topic3\", \"Topic3\", \"Topic3\", \"Topic3\", \"Topic3\", \"Topic3\", \"Topic3\", \"Topic3\", \"Topic3\", \"Topic3\", \"Topic3\", \"Topic3\", \"Topic3\", \"Topic3\", \"Topic3\", \"Topic3\", \"Topic3\", \"Topic3\", \"Topic3\", \"Topic3\", \"Topic3\", \"Topic3\", \"Topic3\", \"Topic3\", \"Topic3\", \"Topic3\", \"Topic3\", \"Topic3\", \"Topic3\", \"Topic3\", \"Topic3\", \"Topic3\", \"Topic3\", \"Topic3\", \"Topic3\", \"Topic3\", \"Topic4\", \"Topic4\", \"Topic4\", \"Topic4\", \"Topic4\", \"Topic4\", \"Topic4\", \"Topic4\", \"Topic4\", \"Topic4\", \"Topic4\", \"Topic4\", \"Topic4\", \"Topic4\", \"Topic4\", \"Topic4\", \"Topic4\", \"Topic4\", \"Topic4\", \"Topic4\", \"Topic4\", \"Topic4\", \"Topic4\", \"Topic4\", \"Topic4\", \"Topic4\", \"Topic4\", \"Topic4\", \"Topic4\", \"Topic4\", \"Topic4\", \"Topic4\", \"Topic4\", \"Topic4\", \"Topic4\", \"Topic4\", \"Topic4\", \"Topic4\", \"Topic4\", \"Topic4\", \"Topic4\", \"Topic4\", \"Topic4\", \"Topic4\", \"Topic4\", \"Topic4\", \"Topic4\", \"Topic5\", \"Topic5\", \"Topic5\", \"Topic5\", \"Topic5\", \"Topic5\", \"Topic5\", \"Topic5\", \"Topic5\", \"Topic5\", \"Topic5\", \"Topic5\", \"Topic5\", \"Topic5\", \"Topic5\", \"Topic5\", \"Topic5\", \"Topic5\", \"Topic5\", \"Topic5\", \"Topic5\", \"Topic5\", \"Topic5\", \"Topic5\", \"Topic5\", \"Topic5\", \"Topic5\", \"Topic5\", \"Topic5\", \"Topic5\", \"Topic5\", \"Topic5\", \"Topic5\", \"Topic5\", \"Topic5\", \"Topic5\", \"Topic5\", \"Topic5\", \"Topic5\", \"Topic5\", \"Topic5\", \"Topic5\", \"Topic5\", \"Topic5\", \"Topic5\", \"Topic5\", \"Topic5\", \"Topic5\", \"Topic6\", \"Topic6\", \"Topic6\", \"Topic6\", \"Topic6\", \"Topic6\", \"Topic6\", \"Topic6\", \"Topic6\", \"Topic6\", \"Topic6\", \"Topic6\", \"Topic6\", \"Topic6\", \"Topic6\", \"Topic6\", \"Topic6\", \"Topic6\", \"Topic6\", \"Topic6\", \"Topic6\", \"Topic6\", \"Topic6\", \"Topic6\", \"Topic6\", \"Topic6\", \"Topic6\", \"Topic6\", \"Topic6\", \"Topic6\", \"Topic6\", \"Topic6\", \"Topic6\", \"Topic6\", \"Topic6\", \"Topic6\", \"Topic6\", \"Topic6\", \"Topic6\", \"Topic6\", \"Topic6\", \"Topic7\", \"Topic7\", \"Topic7\", \"Topic7\", \"Topic7\", \"Topic7\", \"Topic7\", \"Topic7\", \"Topic7\", \"Topic7\", \"Topic7\", \"Topic7\", \"Topic7\", \"Topic7\", \"Topic7\", \"Topic7\", \"Topic7\", \"Topic7\", \"Topic7\", \"Topic7\", \"Topic7\", \"Topic7\", \"Topic7\", \"Topic7\", \"Topic7\", \"Topic7\", \"Topic7\", \"Topic7\", \"Topic7\", \"Topic7\", \"Topic7\", \"Topic7\", \"Topic7\", \"Topic7\", \"Topic7\", \"Topic7\", \"Topic7\", \"Topic7\", \"Topic7\", \"Topic7\", \"Topic7\", \"Topic7\", \"Topic7\", \"Topic7\", \"Topic7\", \"Topic7\", \"Topic8\", \"Topic8\", \"Topic8\", \"Topic8\", \"Topic8\", \"Topic8\", \"Topic8\", \"Topic8\", \"Topic8\", \"Topic8\", \"Topic8\", \"Topic8\", \"Topic8\", \"Topic8\", \"Topic8\", \"Topic8\", \"Topic8\", \"Topic8\", \"Topic8\", \"Topic8\", \"Topic8\", \"Topic8\", \"Topic8\", \"Topic8\", \"Topic8\", \"Topic8\", \"Topic8\", \"Topic8\", \"Topic8\", \"Topic8\", \"Topic8\", \"Topic8\", \"Topic8\", \"Topic8\", \"Topic8\", \"Topic8\", \"Topic8\", \"Topic8\", \"Topic8\", \"Topic8\", \"Topic8\", \"Topic8\", \"Topic9\", \"Topic9\", \"Topic9\", \"Topic9\", \"Topic9\", \"Topic9\", \"Topic9\", \"Topic9\", \"Topic9\", \"Topic9\", \"Topic9\", \"Topic9\", \"Topic9\", \"Topic9\", \"Topic9\", \"Topic9\", \"Topic9\", \"Topic9\", \"Topic9\", \"Topic9\", \"Topic9\", \"Topic9\", \"Topic9\", \"Topic9\", \"Topic9\", \"Topic9\", \"Topic9\", \"Topic9\", \"Topic9\", \"Topic9\", \"Topic9\", \"Topic9\", \"Topic9\", \"Topic9\", \"Topic9\", \"Topic9\", \"Topic9\", \"Topic9\", \"Topic9\", \"Topic9\", \"Topic9\", \"Topic10\", \"Topic10\", \"Topic10\", \"Topic10\", \"Topic10\", \"Topic10\", \"Topic10\", \"Topic10\", \"Topic10\", \"Topic10\", \"Topic10\", \"Topic10\", \"Topic10\", \"Topic10\", \"Topic10\", \"Topic10\", \"Topic10\", \"Topic10\", \"Topic10\", \"Topic10\", \"Topic10\", \"Topic10\", \"Topic10\", \"Topic10\", \"Topic10\", \"Topic10\", \"Topic10\", \"Topic10\", \"Topic10\", \"Topic10\", \"Topic10\", \"Topic10\", \"Topic10\", \"Topic10\", \"Topic10\", \"Topic10\", \"Topic10\", \"Topic10\", \"Topic10\"], \"logprob\": [30.0, 29.0, 28.0, 27.0, 26.0, 25.0, 24.0, 23.0, 22.0, 21.0, 20.0, 19.0, 18.0, 17.0, 16.0, 15.0, 14.0, 13.0, 12.0, 11.0, 10.0, 9.0, 8.0, 7.0, 6.0, 5.0, 4.0, 3.0, 2.0, 1.0, -3.0478, -3.1047, -3.1596, -4.1458, -4.2321, -4.2736, -4.6245, -4.6333, -4.8209, -4.9017, -5.0615, -5.0865, -5.1349, -5.1669, -5.192, -5.2681, -5.277, -5.2884, -5.3684, -5.4044, -5.4347, -5.4402, -5.46, -5.5075, -5.5495, -5.5505, -5.5512, -5.578, -5.8161, -5.8164, -4.0859, -4.3339, -4.0559, -3.7963, -3.8255, -4.3927, -3.9557, -4.5187, -4.845, -4.7301, -4.2827, -4.462, -5.0868, -5.033, -5.2028, -5.1281, -5.1319, -2.8382, -3.7984, -4.1364, -4.2421, -4.4683, -4.5069, -4.6467, -4.7997, -4.8184, -4.8345, -4.898, -4.901, -4.9151, -4.9415, -5.0097, -5.0357, -5.1159, -5.1251, -5.1456, -5.1624, -5.1924, -5.348, -5.3649, -5.3706, -5.3778, -5.4244, -5.44, -5.4446, -5.4581, -5.4793, -3.705, -3.6518, -4.0251, -4.5989, -4.9846, -5.1191, -4.2536, -4.5864, -5.1038, -5.0241, -4.8559, -5.1188, -2.8462, -3.476, -3.9664, -4.4573, -4.4879, -4.5756, -4.5914, -4.7258, -4.7387, -4.7477, -4.7483, -5.0313, -5.0351, -5.064, -5.175, -5.179, -5.1914, -5.2385, -5.2523, -5.3187, -5.3441, -5.3759, -5.3811, -5.3907, -5.4376, -5.4845, -5.5545, -5.5687, -5.6854, -5.7109, -3.402, -3.521, -3.3419, -4.5421, -4.7498, -5.1806, -5.1445, -4.4214, -4.1598, -4.9838, -5.1686, -5.1407, -4.967, -4.798, -5.0058, -2.4851, -2.6353, -4.3119, -4.4248, -4.4831, -4.6454, -4.665, -4.689, -4.6899, -4.843, -5.0389, -5.0657, -5.2052, -5.2681, -5.269, -5.3006, -5.3268, -5.3498, -5.4247, -5.447, -5.4683, -5.4734, -5.5005, -5.5064, -5.6136, -5.6194, -5.6781, -5.6844, -5.692, -5.8207, -4.0124, -2.2157, -3.4159, -5.154, -4.762, -5.1087, -4.304, -3.9739, -4.5953, -4.668, -5.0131, -4.6224, -4.7174, -4.9666, -4.9524, -5.1317, -5.1841, -2.8478, -2.8763, -3.7744, -4.6236, -4.7286, -4.7387, -4.7799, -4.8803, -4.89, -4.9892, -5.0492, -5.1153, -5.1218, -5.1573, -5.1857, -5.2044, -5.2372, -5.2668, -5.2902, -5.2926, -5.2961, -5.3093, -5.4196, -5.4505, -5.453, -5.4813, -5.5112, -5.5467, -5.5687, -5.6274, -3.5333, -4.4136, -2.7246, -4.8479, -5.2279, -4.822, -4.4531, -4.7863, -4.6396, -4.7337, -4.7253, -4.6441, -4.7568, -4.7861, -4.8287, -5.0644, -5.1445, -5.1474, -2.7445, -2.7727, -3.373, -4.0885, -4.4849, -4.5481, -4.5541, -4.5859, -4.607, -4.6203, -4.7875, -4.8028, -4.9454, -4.9848, -5.0771, -5.1546, -5.2076, -5.2698, -5.299, -5.3369, -5.3866, -5.4083, -5.4346, -5.4581, -5.4766, -5.4944, -5.5087, -5.5157, -5.5866, -5.5995, -4.1816, -3.4726, -3.8724, -4.9665, -4.6207, -3.6442, -4.1984, -4.5904, -5.1572, -4.5742, -5.2754, -2.7928, -2.7957, -3.0949, -3.5714, -4.3905, -4.5805, -4.6067, -4.6348, -4.811, -4.8193, -4.9115, -5.0108, -5.0358, -5.045, -5.1028, -5.2589, -5.3231, -5.3393, -5.3441, -5.4229, -5.4272, -5.4516, -5.4539, -5.4608, -5.4981, -5.5004, -5.5047, -5.5113, -5.5924, -5.6084, -3.8547, -4.6335, -3.8692, -4.5238, -5.2275, -4.8186, -4.122, -5.1686, -4.234, -4.3827, -5.0199, -4.6127, -4.3719, -5.22, -5.0584, -5.1207, -2.6792, -2.7196, -2.7435, -2.9044, -2.9346, -2.9346, -4.5568, -4.5815, -4.5882, -4.6445, -4.7182, -4.8271, -5.007, -5.024, -5.2708, -5.3228, -5.419, -5.4833, -5.5142, -5.5169, -5.5187, -5.5633, -5.5944, -5.6348, -5.6524, -5.8153, -5.8246, -5.8659, -5.8815, -5.8819, -4.535, -4.4074, -5.0306, -4.5841, -5.4082, -4.8335, -5.3049, -4.3959, -5.4342, -4.5388, -5.1676, -5.239, -2.2328, -2.8507, -2.8917, -3.0431, -3.0517, -3.0526, -4.4853, -4.967, -5.1191, -5.2145, -5.2663, -5.3562, -5.4914, -5.6071, -5.6133, -5.6433, -5.698, -5.7064, -5.7425, -5.7551, -5.7719, -5.775, -5.7914, -5.8271, -5.88, -5.9738, -5.9799, -5.9942, -6.0018, -6.0291, -2.8284, -4.3774, -4.239, -2.9177, -5.5172, -4.9429, -5.4678, -5.0948, -5.5139, -5.7272, -5.7086, -2.721, -2.7814, -2.8267, -2.8315, -2.843, -4.317, -4.5944, -4.6015, -4.8424, -4.9016, -4.9837, -5.0437, -5.0448, -5.1443, -5.2088, -5.3498, -5.4315, -5.4712, -5.4738, -5.4838, -5.4839, -5.4847, -5.5329, -5.5622, -5.5976, -5.6339, -5.6729, -5.6782, -5.6795, -5.7095, -2.6992, -3.9273, -4.7829, -5.2311, -5.0645, -5.1458, -5.2166, -5.4198, -5.1405], \"loglift\": [30.0, 29.0, 28.0, 27.0, 26.0, 25.0, 24.0, 23.0, 22.0, 21.0, 20.0, 19.0, 18.0, 17.0, 16.0, 15.0, 14.0, 13.0, 12.0, 11.0, 10.0, 9.0, 8.0, 7.0, 6.0, 5.0, 4.0, 3.0, 2.0, 1.0, 1.9687, 1.9686, 1.9685, 1.966, 1.9657, 1.9655, 1.9636, 1.9635, 1.9622, 1.9615, 1.96, 1.9598, 1.9593, 1.9589, 1.9587, 1.9578, 1.9577, 1.9575, 1.9565, 1.956, 1.9556, 1.9555, 1.9552, 1.9545, 1.9538, 1.9538, 1.9538, 1.9534, 1.9489, 1.9489, 1.6854, 1.6837, 1.5879, 1.5206, 1.3602, 1.5583, 1.2682, 1.3651, 1.4642, 1.1027, 0.2895, 0.2344, 1.1803, 0.9004, 1.6016, 0.4204, 0.3614, 2.1366, 2.1346, 2.1332, 2.1327, 2.1314, 2.1312, 2.1302, 2.1289, 2.1287, 2.1286, 2.128, 2.1279, 2.1278, 2.1275, 2.1268, 2.1265, 2.1256, 2.1255, 2.1252, 2.125, 2.1246, 2.1224, 2.1221, 2.122, 2.1219, 2.1212, 2.1209, 2.1208, 2.1206, 2.1202, 1.9099, 1.8967, 1.7929, 1.8052, 1.9192, 1.9818, 1.0141, 0.7305, 1.6429, 1.4801, -0.2837, 0.0433, 2.2085, 2.2073, 2.2057, 2.203, 2.2028, 2.2021, 2.202, 2.2009, 2.2008, 2.2007, 2.2007, 2.1977, 2.1977, 2.1973, 2.1958, 2.1958, 2.1956, 2.1949, 2.1947, 2.1937, 2.1933, 2.1928, 2.1927, 2.1925, 2.1917, 2.1908, 2.1894, 2.1892, 2.1866, 2.186, 1.958, 1.8226, 1.6673, 1.9206, 1.9601, 2.0515, 1.9239, 1.0718, 0.7227, 1.6899, 1.9377, 1.6543, 0.8044, -0.2258, 0.6092, 2.246, 2.2459, 2.2408, 2.24, 2.2396, 2.2383, 2.2382, 2.2379, 2.2379, 2.2364, 2.2341, 2.2338, 2.2318, 2.2309, 2.2308, 2.2303, 2.2299, 2.2295, 2.2281, 2.2277, 2.2273, 2.2272, 2.2267, 2.2265, 2.2242, 2.2241, 2.2227, 2.2226, 2.2224, 2.2191, 2.1178, 1.8045, 1.8517, 2.1201, 1.9684, 1.9118, 1.3773, 0.5983, 1.2167, 1.1602, 1.5571, 0.7376, 0.6299, 0.9172, 0.2333, 1.1861, 0.6488, 2.3237, 2.3236, 2.3213, 2.316, 2.3149, 2.3148, 2.3144, 2.3133, 2.3132, 2.3119, 2.3111, 2.3101, 2.31, 2.3095, 2.309, 2.3087, 2.3082, 2.3077, 2.3072, 2.3072, 2.3071, 2.3069, 2.3048, 2.3041, 2.3041, 2.3035, 2.3028, 2.302, 2.3015, 2.3001, 2.0392, 2.0595, 1.2956, 2.054, 2.1637, 1.9003, 1.5974, 1.5606, 1.2938, 1.0844, 0.6219, 0.0523, 0.4289, 0.4378, -0.2565, 0.5793, 1.1734, 0.1696, 2.3544, 2.3544, 2.3531, 2.3503, 2.3476, 2.347, 2.347, 2.3467, 2.3465, 2.3464, 2.3447, 2.3445, 2.3427, 2.3422, 2.3409, 2.3397, 2.3388, 2.3378, 2.3372, 2.3365, 2.3355, 2.3351, 2.3346, 2.3341, 2.3337, 2.3333, 2.3329, 2.3328, 2.3311, 2.3308, 2.0308, 1.8746, 1.8088, 2.1037, 1.6903, 0.928, 0.8108, 0.5953, 1.6959, 0.1223, 1.0338, 2.3611, 2.3611, 2.3606, 2.3593, 2.3551, 2.3535, 2.3532, 2.353, 2.3511, 2.351, 2.3499, 2.3486, 2.3482, 2.3481, 2.3472, 2.3446, 2.3434, 2.3431, 2.343, 2.3414, 2.3413, 2.3408, 2.3408, 2.3406, 2.3398, 2.3397, 2.3396, 2.3395, 2.3376, 2.3372, 2.0347, 1.9568, 1.6241, 1.721, 2.1344, 1.8055, 1.2216, 1.9937, 0.7753, 0.8411, 1.6958, 0.9598, 0.3245, 1.8098, 0.9592, 1.205, 2.4706, 2.4706, 2.4705, 2.4702, 2.4702, 2.4702, 2.462, 2.4617, 2.4616, 2.461, 2.4602, 2.4588, 2.4562, 2.4559, 2.4514, 2.4503, 2.4481, 2.4465, 2.4457, 2.4456, 2.4456, 2.4444, 2.4435, 2.4424, 2.4418, 2.4366, 2.4362, 2.4347, 2.4342, 2.4341, 2.1306, 1.7639, 2.0407, 1.7918, 2.2127, 1.7954, 2.1132, 0.4866, 2.1687, 0.0334, 1.4026, -0.0152, 2.506, 2.5051, 2.505, 2.5047, 2.5047, 2.5047, 2.4971, 2.4909, 2.4883, 2.4864, 2.4853, 2.4833, 2.4799, 2.4766, 2.4764, 2.4755, 2.4738, 2.4735, 2.4723, 2.4718, 2.4713, 2.4711, 2.4706, 2.4693, 2.4673, 2.4634, 2.4632, 2.4625, 2.4622, 2.461, 2.0541, 2.2161, 2.1874, 1.7788, 2.2256, 1.7729, 1.7686, 0.5489, 1.3397, 2.128, 1.8248, 2.5941, 2.594, 2.5939, 2.5939, 2.5939, 2.5868, 2.5839, 2.5838, 2.5805, 2.5796, 2.5782, 2.5771, 2.5771, 2.5751, 2.5737, 2.5704, 2.5683, 2.5672, 2.5671, 2.5668, 2.5668, 2.5668, 2.5654, 2.5645, 2.5634, 2.5622, 2.5609, 2.5607, 2.5606, 2.5596, 2.463, 1.9008, 2.0492, 2.0843, 1.7896, 1.2806, 0.9547, 1.8233, -0.5683]}, \"token.table\": {\"Topic\": [8, 10, 5, 1, 1, 2, 3, 3, 7, 9, 4, 1, 4, 5, 6, 9, 4, 6, 3, 8, 10, 1, 2, 5, 7, 4, 10, 4, 1, 4, 9, 5, 2, 3, 7, 2, 3, 4, 5, 1, 7, 5, 4, 6, 7, 9, 5, 2, 10, 9, 6, 5, 3, 3, 8, 10, 6, 4, 7, 1, 6, 10, 3, 7, 6, 9, 10, 4, 5, 5, 7, 1, 6, 10, 7, 6, 4, 1, 5, 8, 10, 1, 2, 7, 4, 4, 1, 2, 9, 2, 4, 5, 6, 8, 1, 4, 5, 7, 8, 1, 5, 6, 7, 9, 10, 1, 7, 2, 6, 2, 5, 6, 7, 1, 2, 3, 5, 6, 2, 4, 7, 10, 6, 8, 10, 6, 3, 4, 4, 8, 2, 3, 7, 8, 3, 4, 4, 8, 5, 7, 10, 1, 6, 1, 2, 6, 8, 7, 10, 2, 3, 7, 8, 4, 7, 3, 8, 2, 2, 9, 10, 1, 4, 9, 1, 4, 5, 1, 2, 3, 7, 10, 1, 3, 7, 8, 4, 4, 1, 1, 2, 4, 7, 9, 6, 8, 9, 9, 9, 1, 3, 9, 6, 5, 6, 6, 2, 6, 5, 2, 2, 5, 6, 8, 2, 1, 8, 2, 1, 3, 5, 9, 1, 2, 6, 8, 10, 3, 9, 8, 1, 7, 1, 4, 5, 10, 2, 5, 9, 10, 1, 2, 2, 2, 1, 3, 4, 4, 5, 6, 8, 9, 2, 1, 9, 9, 10, 1, 1, 3, 10, 3, 8, 5, 5, 5, 7, 7, 10, 6, 4, 1, 5, 6, 6, 1, 6, 2, 1, 6, 8, 3, 9, 10, 3, 8, 9, 7, 4, 8, 1, 2, 4, 5, 9, 10, 10, 2, 10, 6, 2, 4, 5, 4, 4, 9, 1, 1, 1, 3, 5, 9, 4, 4, 6, 6, 2, 5, 9, 1, 2, 4, 5, 9, 9, 10, 2, 5, 9, 3, 3, 7, 3, 4, 5, 10, 5, 5, 1, 2, 9, 3, 7, 9, 1, 9, 1, 4, 10, 10, 6, 8, 10, 2, 1, 3, 3, 1, 8, 10, 1, 10, 9, 9, 9, 3, 6, 6, 2, 3, 5, 6, 9, 8, 3, 6, 8, 3, 2, 4, 7, 8, 8, 10, 7, 8, 10, 3, 8, 1, 7, 3, 8, 4, 8, 4, 9, 5, 2, 3, 5, 7, 2, 6, 1, 3, 9, 5, 2, 4, 10, 2, 5, 6, 7, 7, 5, 7, 5, 9, 3, 7, 7, 2, 4, 5, 4, 2, 10, 4, 10, 7, 6, 2, 2, 7, 8, 1, 7, 8, 3, 5, 9, 3, 5, 8, 7, 8, 5, 4, 3, 4, 3, 1, 2, 3, 4, 5, 6, 8, 10, 9, 7, 7, 5, 10, 2, 10, 3, 4, 1, 2, 5, 7, 5, 2, 4, 4, 2, 3, 6, 3, 8, 3, 7, 8, 5, 1, 4, 2, 1, 2, 4, 5, 7, 9, 5, 1, 2, 5, 3, 6, 5, 7, 9, 9, 3, 8, 2, 1, 5, 7, 10, 1, 3, 8, 7, 6, 5, 1, 9, 8, 1, 5, 9, 2, 6, 10, 1, 5, 2, 9, 1, 10, 7, 8, 1, 7, 3, 5, 9, 5, 4, 9, 5, 7, 9, 5, 10, 3, 6, 7, 2, 3, 3, 4, 10], \"Freq\": [0.9991793824301393, 0.9967163505101962, 0.9866100287017654, 0.977470353481647, 0.9866007177379661, 0.9769485467399726, 0.9851894930961538, 0.9844373331750516, 0.5090281617871165, 0.48269911893605877, 0.978245157008799, 0.5434774656394588, 0.13301896012154585, 0.1501213978514589, 0.1710243772991304, 0.9872611342555069, 0.9912402937325372, 0.9913144108205018, 0.9970761914289257, 0.9583089863229785, 0.971493912826632, 0.3411662616296944, 0.13646650465187773, 0.35722114452991527, 0.16456254972726433, 0.9987233777465016, 0.9956966697209632, 0.9915463566958201, 0.9974070484325989, 0.3017065075040433, 0.6856966079637348, 0.9906869676563366, 0.9924590531628299, 0.32516607111497037, 0.6658162408544631, 0.9776499282956868, 0.9762253322084318, 0.8795751033291817, 0.11727668044389089, 0.9866928301565013, 0.9808171935871787, 0.9857142781846677, 0.41796850505053207, 0.5801652383537236, 0.9844349287189711, 0.9720298923248152, 0.9729310353076341, 0.9988497193320298, 0.9792769083347656, 0.9709320482301249, 0.9634755339674322, 0.9878050519891254, 0.9704322255978509, 0.9824260497825346, 0.9989625402287037, 0.9762708531725769, 0.9864179622580683, 0.9767270118004572, 0.9810073048797786, 0.36281858812253476, 0.18140929406126738, 0.4434449410386536, 0.6787677027957686, 0.32046737443472356, 0.7756272882686465, 0.21267199839624176, 0.9641429266738919, 0.6422332536479043, 0.35725705899417554, 0.9859115859092611, 0.9874035646805005, 0.6020109119723545, 0.2688592422400806, 0.1285848549843864, 0.9934398688791675, 0.978573904456097, 0.984554527998793, 0.23931777375929023, 0.07128614537510772, 0.49391115009896064, 0.19349096601814952, 0.2130563073745557, 0.786669442613744, 0.9765830369106661, 0.9869652282672353, 0.9848696107628336, 0.30777914036627396, 0.6065059530747163, 0.08147094892048429, 0.07026127616720688, 0.2342042538906896, 0.17565319041801722, 0.5152493585595171, 0.9420136408350576, 0.4955355487442014, 0.04935613035300811, 0.15201688148726497, 0.21914121876735598, 0.08291829899305361, 0.17592456336617796, 0.10252557335247457, 0.10718582668667796, 0.1304870933576949, 0.48233622009005084, 0.9970955498069731, 0.9893393501143279, 0.9753795335671753, 0.9891767533318594, 0.9982263808330245, 0.7081230782053259, 0.2896867138112697, 0.9868841685054621, 0.9859803330478975, 0.4539139464543524, 0.15690852470026995, 0.2633821664611674, 0.08405813823228747, 0.03922713117506749, 0.9860229548084535, 0.9898548974382565, 0.9988161967256972, 0.9811891995280021, 0.2834489626077126, 0.6909068463562994, 0.9660446038793894, 0.9914682230605646, 0.9857258248948614, 0.9803899234455942, 0.9929642594990798, 0.9853553492252131, 0.5185148226386047, 0.15626474106916854, 0.22019122605201022, 0.09944119886219817, 0.9862327550047254, 0.9864517206027698, 0.999214767651623, 0.9752105488610989, 0.7525735826847024, 0.24619507537640825, 0.997411717384598, 0.2758763244248032, 0.7215226946494854, 0.3524352441785087, 0.12083494086120299, 0.5135484986601127, 0.9933659224453708, 0.9980076208914704, 0.9895856020492348, 0.992426968226416, 0.42050826671336905, 0.5766970514926204, 0.9983802507809127, 0.9873694286957188, 0.987677134794382, 0.9789052016586615, 0.9566175205533655, 0.9860748495120636, 0.9955306039158166, 0.729442606913297, 0.2694337557067133, 0.9865911745527383, 0.2485316126644102, 0.7455948379932306, 0.6905026499952118, 0.13426440416573562, 0.17262566249880296, 0.9892277954990263, 0.9874859484266806, 0.9800328753602991, 0.9817388350711854, 0.9825615105088439, 0.19901447538357642, 0.32049084347485035, 0.4781516616358654, 0.9463481365315386, 0.9925434034742223, 0.9795586356124497, 0.9992726668399204, 0.9897825748245145, 0.20485583262819337, 0.5007587019800283, 0.2883156162915314, 0.9579634572637988, 0.9848567498522506, 0.9745656718502989, 0.9816734420667975, 0.985428112283094, 0.9314867357432659, 0.9838498101209308, 0.98458645435037, 0.999160129172339, 0.9919873598107651, 0.9713899560761308, 0.9920868483339382, 0.9872648844475131, 0.9949444981424747, 0.9750250104924478, 0.9740910231493857, 0.9948002163110446, 0.2272247399764024, 0.7643013981024445, 0.9740440764214839, 0.9753355720996155, 0.9890192258761936, 0.9848680318713047, 0.998350508549003, 0.9803112681134779, 0.3339428077253466, 0.09476755354367945, 0.4828632490082715, 0.0812293316088681, 0.18969650352360687, 0.15934506295982975, 0.15934506295982975, 0.34145370634249234, 0.1441693426779412, 0.9839550148929244, 0.9639148601213677, 0.9798811511697135, 0.751004139008134, 0.24451297549102036, 0.5461684381666831, 0.26353581981469326, 0.10694207180886103, 0.08020655385664577, 0.3156069554333203, 0.46734106862241664, 0.09710983244102163, 0.11531792602371319, 0.992012771860289, 0.987127418567703, 0.9880950734944867, 0.9868924238495556, 0.9979435620092041, 0.7781764719537791, 0.22168980887055334, 0.19878316140118685, 0.18314853072918338, 0.6186846708778512, 0.9929238717146761, 0.970192303527303, 0.9852713053150591, 0.9777223095145612, 0.9890926489261402, 0.9487426711865964, 0.9773839369525043, 0.9964471940612112, 0.7509091630581842, 0.24575208972813303, 0.9542441750895361, 0.9862522265272308, 0.9863310541734785, 0.9673418805823746, 0.9842721871851279, 0.9864642246842324, 0.9766770218077042, 0.8038652490118128, 0.1842191195652071, 0.998350820311248, 0.9950297322199194, 0.9880443646533145, 0.988018971748336, 0.9810444354341571, 0.9814511448720775, 0.993921658968728, 0.9870825693483563, 0.9889031814781029, 0.9933659275084142, 0.996159091966886, 0.9984037173384309, 0.35455793675531044, 0.47274391567374724, 0.16250572101285063, 0.22593801599202232, 0.13752748799514403, 0.6357137965489821, 0.9977625721749996, 0.3381664583285848, 0.6512835493735706, 0.42104005351709844, 0.17785312605463643, 0.20326071549101304, 0.14155656971695552, 0.05444483450652136, 0.9817908786513992, 0.9553175208369511, 0.9843476431832173, 0.9679084517325393, 0.9844508875636396, 0.9923220176137196, 0.8743399556146939, 0.10737508226847119, 0.9893704197543597, 0.9707831660534694, 0.9966159539337377, 0.9820472765083392, 0.9890288309949392, 0.9951235740682737, 0.7495915199550973, 0.24532086107621368, 0.9786746407228796, 0.9916738268129119, 0.9566128025432225, 0.9800692850015387, 0.99075486487511, 0.9893359725567858, 0.9697375895503197, 0.9546225270306022, 0.6617520127031986, 0.09395244624798499, 0.12254666901911086, 0.11846178005180716, 0.9974048080149899, 0.7598036818563837, 0.22058816570024042, 0.9907195953706209, 0.9928411342409426, 0.9823399346840658, 0.9847351526041008, 0.3017883725697871, 0.6858826649313342, 0.9820870847831454, 0.3359999451471262, 0.1625806186195772, 0.49858056376670346, 0.9735328957941503, 0.9859011956300592, 0.27633786027156393, 0.7197637290794224, 0.9979958628665796, 0.9964166904572561, 0.973749878593658, 0.9847097540232399, 0.9919576085932186, 0.977038925855203, 0.2676766303052065, 0.25280570639936173, 0.46099864108118904, 0.9692076950041897, 0.9701468902183868, 0.978688574606902, 0.9790600737454027, 0.9947265409506748, 0.2372638638373663, 0.749254306854841, 0.9815505098842242, 0.9855110986185505, 0.9587799857832344, 0.9670496911631818, 0.9844304167262282, 0.968129589409901, 0.9806511691208548, 0.9380680740406622, 0.9974825253845756, 0.9879175905213652, 0.9849026216232826, 0.9833616604642662, 0.2619187780208697, 0.1712545856290302, 0.16118078647438136, 0.09066419239183951, 0.3122877737941139, 0.9788485828488482, 0.3123704135023667, 0.17492743156132537, 0.5060400698738341, 0.9985398248653281, 0.9937806592024031, 0.9760888995670832, 0.2557386948740026, 0.745904526715841, 0.9562773488129703, 0.9577229783915108, 0.9855849609339903, 0.9863099019465789, 0.967102399148648, 0.9894167116198925, 0.9714524392834659, 0.9874069812407892, 0.9704261235597711, 0.7765838264876563, 0.2181415242942855, 0.2838114113302795, 0.7095285283256987, 0.7142287331121836, 0.27378768102633705, 0.9810029281960087, 0.2001808360591409, 0.10409403475075327, 0.12010850163548453, 0.5765208078503258, 0.9933847062889262, 0.9807265872322866, 0.30398578392964554, 0.5699733448680854, 0.1234942247214185, 0.9806844286524101, 0.2404700278496583, 0.7570352728600354, 0.967336994839015, 0.8513279416094717, 0.12898908206204115, 0.9982650436740814, 0.9967885188619102, 0.9945978703172639, 0.975458505613701, 0.9847750245236724, 0.9985005074472031, 0.9510048948667121, 0.9728371382288843, 0.9787769620084572, 0.9725922046223083, 0.3360380739570828, 0.347828883569612, 0.31835185953828893, 0.9856746410836719, 0.38366855218748624, 0.6074752076301866, 0.414115190308527, 0.5817332435286451, 0.9767414320141964, 0.9925797640131881, 0.992711769896657, 0.9943951776437162, 0.21698593280309186, 0.7811493580911306, 0.9979192075738756, 0.983010225662445, 0.9844077185171559, 0.9959210979569568, 0.8453109254426028, 0.1380099470110372, 0.8530513987922779, 0.13237004464018107, 0.9896616406295288, 0.9876282735103352, 0.9821955889079839, 0.975007295410483, 0.9703902858869502, 0.9927819524826507, 0.9821177543226393, 0.9885345207778463, 0.18622973647107086, 0.08848484716305025, 0.08745595359138686, 0.1924030979010511, 0.07613812430308974, 0.23973220219756636, 0.08745595359138686, 0.04218463643819837, 0.9651552420932128, 0.9809647379221381, 0.9691224663889872, 0.9815354052359507, 0.9817592169322436, 0.12250165987878205, 0.8760724767088656, 0.9898444040141101, 0.9806994927501587, 0.27927591609338653, 0.0950726522871103, 0.3030440791651641, 0.3149281607010529, 0.9744686581621775, 0.32588460662399016, 0.6744573820635745, 0.9758753151021894, 0.7969145647430893, 0.2014179669130885, 0.9930090235713992, 0.9929134306943088, 0.9877830995390434, 0.5974678298331525, 0.2103759964201241, 0.1935459167065142, 0.9960828799092518, 0.9985745796773874, 0.9862702504581877, 0.9888545361057391, 0.24527626115452936, 0.13863440847864703, 0.35547284225294107, 0.11019658109841174, 0.14929859374623525, 0.9731200018282113, 0.9738670073267438, 0.6370466682836606, 0.24485127046276753, 0.11484174632324494, 0.9779926739947603, 0.9865086039158825, 0.9866432543474304, 0.9930189140048699, 0.9989576708221449, 0.9420778991877276, 0.9936083424923344, 0.9985384560311776, 0.9808045042246704, 0.3452389815113198, 0.1260396281707993, 0.5260784480172492, 0.9611614440462533, 0.13678328679615684, 0.3540273305312294, 0.5069027687151694, 0.9606954533318224, 0.9756947611566862, 0.9867390519767276, 0.9971040214945168, 0.9474547068014363, 0.984942841837367, 0.6819723408443353, 0.17424843951088745, 0.14120132167261568, 0.8050530236240562, 0.19067045296359225, 0.9659369975832666, 0.9810449302302772, 0.9985801272186564, 0.47713004785311464, 0.4970104665136611, 0.9842725417776496, 0.9824643717363555, 0.9907107878771687, 0.9771213577437142, 0.2765530938382721, 0.722110856133266, 0.9860925254897654, 0.7611654957072962, 0.23257834591056273, 0.977260121565485, 0.9893044917482695, 0.9857398497408595, 0.6536832956943911, 0.1855047190484083, 0.15017048684871148, 0.9717925472089541, 0.9974289281015265, 0.5814074278856796, 0.21344820640186593, 0.20389082402566297, 0.23345176750249425, 0.7652030157026201, 0.9722546543654093, 0.9820362633545899, 0.9970239327296775], \"Term\": [\"\\uac00\\ub2a5\", \"\\uac00\\ub9ac\\ube44\", \"\\uac00\\uc18d\", \"\\uac00\\uc9dc\", \"\\uac10\\uc0b0\", \"\\uac10\\uc18c\", \"\\uac15\\uc5f0\", \"\\uac15\\uc758\", \"\\uac15\\ud654\", \"\\uac15\\ud654\", \"\\uac1c\\ubbf8\", \"\\uac1c\\ubc1c\", \"\\uac1c\\ubc1c\", \"\\uac1c\\ubc1c\", \"\\uac1c\\ubc1c\", \"\\uac1c\\uc120\", \"\\uac1c\\uc6d4\", \"\\uac1c\\uc778\", \"\\uac1c\\ucd5c\", \"\\uac1c\\ud601\", \"\\uac24\\ub7ed\\uc2dc\", \"\\uac70\\ub300\", \"\\uac70\\ub300\", \"\\uac70\\ub300\", \"\\uac70\\ub300\", \"\\uac80\\uc0c9\", \"\\uac80\\ud1a0\", \"\\uac8c\\uc774\\uce20\", \"\\uac8c\\uc784\", \"\\uaca9\\ucc28\", \"\\uaca9\\ucc28\", \"\\uacbd\\uace0\", \"\\uacbd\\uae30\", \"\\uacbd\\uae30\\ub3c4\", \"\\uacbd\\uae30\\ub3c4\", \"\\uacbd\\ubd81\", \"\\uacbd\\uc601\", \"\\uacbd\\uc7c1\", \"\\uacbd\\uc7c1\", \"\\uacbd\\uc7c1\\ub825\", \"\\uacbd\\ud5d8\", \"\\uace0\\uac1d\", \"\\uacf5\\uac1c\", \"\\uacf5\\uac1c\", \"\\uacf5\\uacf5\", \"\\uacf5\\uae09\", \"\\uacf5\\ub3d9\", \"\\uacf5\\ub7b5\", \"\\uacf5\\ubaa8\", \"\\uacf5\\ubd80\", \"\\uacf5\\uc720\", \"\\uacfc\\uae30\", \"\\uacfc\\uc815\", \"\\uacfc\\uc81c\", \"\\uacfc\\ud559\", \"\\uad00\\ub9ac\", \"\\uad11\\uace0\", \"\\uad11\\uc8fc\", \"\\uad50\\uc0ac\", \"\\uad50\\uc218\", \"\\uad50\\uc218\", \"\\uad50\\uc218\", \"\\uad50\\uc721\", \"\\uad50\\uc721\", \"\\uad50\\uc721\\uccad\", \"\\uad50\\uc721\\uccad\", \"\\uad50\\uccb4\", \"\\uad6c\\uae00\", \"\\uad6c\\uae00\", \"\\uad6c\\ucd95\", \"\\uad6d\\uac00\", \"\\uad6d\\ub0b4\", \"\\uad6d\\ub0b4\", \"\\uad6d\\ub0b4\", \"\\uad6d\\ubbfc\", \"\\uad6d\\ud310\", \"\\uad8c\\ub9ac\", \"\\uaddc\\uc81c\", \"\\uaddc\\uc81c\", \"\\uaddc\\uc81c\", \"\\uaddc\\uc81c\", \"\\uae00\\ub85c\\ubc8c\", \"\\uae00\\ub85c\\ubc8c\", \"\\uae08\\uc9c0\", \"\\uae09\\ub77d\", \"\\uae30\\ub2a5\", \"\\uae30\\ub300\", \"\\uae30\\ub300\", \"\\uae30\\ub300\", \"\\uae30\\ubc18\", \"\\uae30\\ubc18\", \"\\uae30\\ubc18\", \"\\uae30\\ubc18\", \"\\uae30\\uc0ac\", \"\\uae30\\uc220\", \"\\uae30\\uc220\", \"\\uae30\\uc220\", \"\\uae30\\uc220\", \"\\uae30\\uc220\", \"\\uae30\\uc5c5\", \"\\uae30\\uc5c5\", \"\\uae30\\uc5c5\", \"\\uae30\\uc5c5\", \"\\uae30\\uc5c5\", \"\\uae30\\uc790\", \"\\uae30\\ud68c\", \"\\uae30\\ud68d\", \"\\uae40\\ub3d9\\uc5f0\", \"\\ub098\\uc120\", \"\\ub124\\uc774\\ubc84\", \"\\ub124\\uc774\\ubc84\", \"\\ub17c\\ub780\", \"\\ub17c\\uc758\", \"\\ub274\\uc2a4\", \"\\ub274\\uc2a4\", \"\\ub274\\uc2a4\", \"\\ub274\\uc2a4\", \"\\ub274\\uc2a4\", \"\\ub274\\uc695\", \"\\ub2e4\\uc74c\", \"\\ub2e8\\uc18d\", \"\\ub2ec\\ub7ec\", \"\\ub2f5\\ubcc0\", \"\\ub2f5\\ubcc0\", \"\\ub2f9\\uad6d\", \"\\ub300\\ubd80\", \"\\ub300\\uc0c1\", \"\\ub300\\uc2e0\", \"\\ub300\\uc804\", \"\\ub300\\uccb4\", \"\\ub300\\ud45c\", \"\\ub300\\ud45c\", \"\\ub300\\ud45c\", \"\\ub300\\ud45c\", \"\\ub300\\ud559\", \"\\ub300\\ud56d\\ub9c8\", \"\\ub300\\ud654\", \"\\ub300\\ud68c\", \"\\ub370\\uc774\\ud130\", \"\\ub370\\uc774\\ud130\", \"\\ub3c4\\ub798\", \"\\ub3c4\\uc785\", \"\\ub3c4\\uc785\", \"\\ub3cc\\ud30c\", \"\\ub3cc\\ud30c\", \"\\ub3cc\\ud30c\", \"\\ub4f1\\uc7a5\", \"\\ub514\\uc9c0\\ud138\", \"\\ub85c\\ubd07\", \"\\ub9c8\\uac10\", \"\\ub9c8\\ub828\", \"\\ub9c8\\ub828\", \"\\ub9c8\\ube44\", \"\\ub9c8\\uc774\\ud06c\", \"\\ub9c8\\ucf00\\ud305\", \"\\ub9de\\ucda4\", \"\\ub9e4\\uacbd\", \"\\ub9e4\\uc218\", \"\\ub9e4\\ucd9c\", \"\\uba38\\uc2a4\\ud06c\", \"\\uba38\\uc2a4\\ud06c\", \"\\uba54\\ubaa8\\ub9ac\", \"\\uba54\\ud0c0\", \"\\uba54\\ud0c0\", \"\\ubaa8\\ub378\", \"\\ubaa8\\ub378\", \"\\ubaa8\\ub378\", \"\\ubaa8\\uc9d1\", \"\\ubaa9\\ud45c\", \"\\ubb34\\ub8cc\", \"\\ubb38\\ud654\", \"\\ubbf8\\uad6d\", \"\\ubbf8\\ub798\", \"\\ubbf8\\ub798\", \"\\ubbf8\\ub798\", \"\\ubc14\\ub2e5\", \"\\ubc14\\ub4dc\", \"\\ubc14\\uc774\\ub450\", \"\\ubc18\\ub3c4\\uccb4\", \"\\ubc1c\\uc804\", \"\\ubc1c\\ud45c\", \"\\ubc1c\\ud45c\", \"\\ubc1c\\ud45c\", \"\\ubc29\\ubb38\", \"\\ubc29\\uc548\", \"\\ubc29\\ud5a5\", \"\\ubc31\\uc545\\uad00\", \"\\ubc84\\uc2a4\", \"\\ubc95\\uc778\", \"\\ubca4\\ucc98\", \"\\ubcc0\\ud638\\uc0ac\", \"\\ubcf4\\uc548\", \"\\ubcf4\\ud638\", \"\\ubd80\\uac01\", \"\\ubd80\\uc0b0\", \"\\ubd80\\ud68c\\uc7a5\", \"\\ubd84\\uae30\", \"\\ubd84\\uc57c\", \"\\ube0c\\ub808\\uc778\", \"\\ube0c\\ub9ac\\ud551\", \"\\ube44\\ub514\\uc544\", \"\\ube44\\ub514\\uc544\", \"\\ube44\\uc11c\", \"\\ube44\\uc804\", \"\\ube44\\uc988\", \"\\uc0ac\\ub0b4\", \"\\uc0ac\\ub78c\", \"\\uc0ac\\uc0c1\", \"\\uc0ac\\uc5c5\", \"\\uc0ac\\uc5c5\", \"\\uc0ac\\uc5c5\", \"\\uc0ac\\uc5c5\", \"\\uc0ac\\uc6a9\", \"\\uc0ac\\uc6a9\", \"\\uc0ac\\uc6a9\", \"\\uc0ac\\uc6a9\", \"\\uc0ac\\uc6a9\", \"\\uc0ac\\uc774\\ubc84\", \"\\uc0ac\\uc9c4\", \"\\uc0ac\\ud68c\", \"\\uc0b0\\uc5c5\", \"\\uc0b0\\uc5c5\", \"\\uc0bc\\uc131\", \"\\uc0bc\\uc131\", \"\\uc0bc\\uc131\", \"\\uc0bc\\uc131\", \"\\uc0bc\\uc131\\uc804\\uc790\", \"\\uc0bc\\uc131\\uc804\\uc790\", \"\\uc0bc\\uc131\\uc804\\uc790\", \"\\uc0bc\\uc131\\uc804\\uc790\", \"\\uc0c1\\ub2f4\", \"\\uc0c1\\ubc18\\uae30\", \"\\uc0c1\\uc2b9\", \"\\uc0c1\\uc7a5\", \"\\uc0dd\\uac01\", \"\\uc0dd\\uc131\", \"\\uc0dd\\uc131\", \"\\uc11c\\ube44\\uc2a4\", \"\\uc11c\\ube44\\uc2a4\", \"\\uc11c\\ube44\\uc2a4\", \"\\uc11c\\uc6b8\", \"\\uc11c\\uc6b8\\uc2dc\", \"\\uc11c\\uce58\", \"\\uc120\\ub3c4\", \"\\uc120\\uc815\", \"\\uc124\\uacc4\", \"\\uc124\\ub9bd\", \"\\uc131\\uc7a5\", \"\\uc138\\uacc4\", \"\\uc138\\uacc4\", \"\\uc138\\ub300\", \"\\uc138\\ubbf8\\ub098\", \"\\uc138\\uc0c1\", \"\\uc138\\uc885\", \"\\uc13c\\ud130\", \"\\uc140\\ubc14\\uc2a4\", \"\\uc18c\\uc124\", \"\\uc18c\\uc2dd\", \"\\uc18c\\uc2dd\", \"\\uc18c\\ud1b5\", \"\\uc18c\\ud504\\ud2b8\", \"\\uc18d\\ub3c4\", \"\\uc194\\ub8e8\\uc158\", \"\\uc1fc\\ud06c\", \"\\uc218\\uc5c5\", \"\\uc218\\uc694\", \"\\uc219\\uc5c5\", \"\\uc2a4\\ub9c8\\ud2b8\", \"\\uc2a4\\ud0c0\\ud2b8\\uc5c5\", \"\\uc2a4\\ud14c\\uc774\\uc9c0\", \"\\uc2a4\\ud47c\", \"\\uc2dc\\uac04\", \"\\uc2dc\\uac04\", \"\\uc2dc\\uac04\", \"\\uc2dc\\ub300\", \"\\uc2dc\\ub300\", \"\\uc2dc\\ub300\", \"\\uc2dc\\ubbfc\", \"\\uc2dc\\uc791\", \"\\uc2dc\\uc791\", \"\\uc2dc\\uc7a5\", \"\\uc2dc\\uc7a5\", \"\\uc2dc\\uc7a5\", \"\\uc2dc\\uc7a5\", \"\\uc2dc\\uc7a5\", \"\\uc2dc\\ud5d8\", \"\\uc2dc\\ud669\", \"\\uc2e0\\ubb38\", \"\\uc2e4\\ub9ac\\ucf58\\ubc38\\ub9ac\", \"\\uc2e4\\uc2dc\", \"\\uc2e4\\uc801\", \"\\uc544\\ub9c8\\uc874\", \"\\uc544\\ub9c8\\uc874\", \"\\uc54c\\ub9ac\\ubc14\\ubc14\", \"\\uc54c\\ud30c\\ubcb3\", \"\\uc591\\ub0a0\", \"\\uc5b4\\ub514\", \"\\uc5b8\\uc5b4\", \"\\uc5c5\\uacc4\", \"\\uc5c5\\ubb34\", \"\\uc5c5\\ubb34\", \"\\uc5c5\\uccb4\", \"\\uc5d4\\uc9c4\", \"\\uc5ec\\ud589\", \"\\uc5ed\\ub7c9\", \"\\uc5f0\\uad6c\", \"\\uc5f0\\ub0b4\", \"\\uc5f0\\ubd09\", \"\\uc5f0\\uc18d\", \"\\uc5f4\\ud48d\", \"\\uc5f4\\ud48d\", \"\\uc5f4\\ud48d\", \"\\uc5f4\\ud48d\", \"\\uc601\\uc0c1\", \"\\uc601\\uc5b4\", \"\\uc601\\uc5b4\", \"\\uc601\\uc5c5\", \"\\uc601\\ud5a5\", \"\\uc608\\uc0c1\", \"\\uc608\\uce21\", \"\\uc624\\ub298\", \"\\uc624\\ub298\", \"\\uc624\\ub2f5\", \"\\uc624\\ud508\", \"\\uc624\\ud508\", \"\\uc624\\ud508\", \"\\uc624\\ud53c\\uc2a4\", \"\\uc628\\ub77c\\uc778\", \"\\uc62c\\ud574\", \"\\uc62c\\ud574\", \"\\uc6b0\\ub824\", \"\\uc6b0\\ub9ac\", \"\\uc6b4\\uc601\", \"\\uc6b4\\uc6a9\", \"\\uc704\\uae30\", \"\\uc704\\ud5d8\", \"\\uc704\\ud611\", \"\\uc704\\ud611\", \"\\uc704\\ud611\", \"\\uc720\\ub7fd\", \"\\uc720\\ubc1c\", \"\\uc720\\uc601\\uc0c1\", \"\\uc720\\ucd9c\", \"\\uc721\\uc131\", \"\\uc724\\ub9ac\", \"\\uc724\\ub9ac\", \"\\uc735\\ud569\", \"\\uc740\\ud589\", \"\\uc74c\\uc131\", \"\\uc74c\\uc545\", \"\\uc758\\ub8cc\", \"\\uc758\\uc0ac\", \"\\uc758\\uc6d0\", \"\\uc774\\uac83\", \"\\uc774\\uac8c\", \"\\uc774\\ubbf8\\uc9c0\", \"\\uc774\\uc6a9\", \"\\uc774\\uc6a9\\uc790\", \"\\uc774\\uc720\", \"\\uc774\\uc720\", \"\\uc774\\uc720\", \"\\uc774\\uc720\", \"\\uc774\\uc720\", \"\\uc774\\ud0c8\\ub9ac\\uc544\", \"\\uc778\\uac04\", \"\\uc778\\uac04\", \"\\uc778\\uac04\", \"\\uc778\\uacf5\\uc9c0\\ub2a5\", \"\\uc778\\ub958\", \"\\uc778\\ud130\\ub137\", \"\\uc778\\ud130\\ubdf0\", \"\\uc778\\ud130\\ubdf0\", \"\\uc778\\ud504\\ub77c\", \"\\uc77c\\ubcf8\", \"\\uc77c\\uc0c1\", \"\\uc77c\\uc790\\ub9ac\", \"\\uc784\\uc9c1\\uc6d0\", \"\\uc790\\uc0b0\", \"\\uc791\\uac00\", \"\\uc7a5\\uad00\", \"\\uc7ac\\ub2e8\", \"\\uc800\\uc791\", \"\\uc800\\uc791\", \"\\uc801\\uc6a9\", \"\\uc801\\uc6a9\", \"\\uc801\\uc790\", \"\\uc801\\uc790\", \"\\uc804\\ub144\", \"\\uc804\\ub7b5\", \"\\uc804\\ub7b5\", \"\\uc804\\ub7b5\", \"\\uc804\\ub7b5\", \"\\uc804\\ub9dd\", \"\\uc804\\ubb38\", \"\\uc804\\ubb38\\uac00\", \"\\uc804\\ubb38\\uac00\", \"\\uc804\\ubb38\\uac00\", \"\\uc804\\uc790\", \"\\uc804\\uc7c1\", \"\\uc804\\uc7c1\", \"\\uc804\\uc9c0\", \"\\uc804\\ud658\", \"\\uc804\\ud658\", \"\\uc815\\ubcf4\", \"\\uc815\\ubd80\", \"\\uc815\\ucc45\", \"\\uc815\\ud1b5\\ubd80\", \"\\uc81c\\uacf5\", \"\\uc81c\\uad6d\", \"\\uc81c\\uc548\", \"\\uc81c\\uc791\", \"\\uc870\\uc131\", \"\\uc870\\uc9c1\", \"\\uc8fc\\uac00\", \"\\uc8fc\\uac00\", \"\\uc8fc\\uac00\", \"\\uc8fc\\ub3c4\", \"\\uc8fc\\uc2dd\", \"\\uc8fc\\uc2dd\", \"\\uc911\\uad6d\", \"\\uc911\\uad6d\", \"\\uc911\\uae30\", \"\\uc911\\ub2e8\", \"\\uc99d\\uad8c\", \"\\uc99d\\uc2dc\", \"\\uc9c0\\uc2dd\", \"\\uc9c0\\uc2dd\", \"\\uc9c0\\uc6d0\", \"\\uc9c0\\uc790\\uccb4\", \"\\uc9c1\\uc5c5\", \"\\uc9c1\\uc6d0\", \"\\uc9c4\\ucd9c\", \"\\uc9c4\\ucd9c\", \"\\uc9c4\\ud589\", \"\\uc9c4\\ud589\", \"\\uc9c8\\ubb38\", \"\\uc9d1\\uc911\", \"\\ucc28\\ub2e8\", \"\\ucc28\\uc138\\ub300\", \"\\ucc28\\uc774\", \"\\ucc38\\uc5ec\", \"\\ucc38\\uc804\", \"\\ucc3d\\uc5c5\", \"\\ucc57GPT\", \"\\ucc57GPT\", \"\\ucc57GPT\", \"\\ucc57GPT\", \"\\ucc57GPT\", \"\\ucc57GPT\", \"\\ucc57GPT\", \"\\ucc57GPT\", \"\\ucc57\\uc9c0\\ud53c\\ud2f0\", \"\\ucca8\\ub2e8\", \"\\uccad\\ub144\", \"\\uccb4\\uacb0\", \"\\ucd5c\\uace0\", \"\\ucd5c\\ub300\", \"\\ucd5c\\ub300\", \"\\ucd5c\\ucd08\", \"\\ucd94\\uac00\", \"\\ucd94\\uc9c4\", \"\\ucd94\\uc9c4\", \"\\ucd94\\uc9c4\", \"\\ucd94\\uc9c4\", \"\\ucd94\\ucc9c\", \"\\ucd9c\\uc2dc\", \"\\ucd9c\\uc2dc\", \"\\uce5c\\uad6c\", \"\\uce74\\uce74\\uc624\", \"\\uce74\\uce74\\uc624\", \"\\uce74\\ud1a1\", \"\\uce7c\\ub7fc\", \"\\ucf00\\uc5b4\", \"\\ucf58\\ud150\\uce20\", \"\\ucf58\\ud150\\uce20\", \"\\ucf58\\ud150\\uce20\", \"\\ud074\\ub77c\\uc6b0\\ub4dc\", \"\\ud074\\ub7fd\", \"\\ud0d1\\uc7ac\", \"\\ud14c\\uc2ac\\ub77c\", \"\\ud14c\\ud06c\", \"\\ud14c\\ud06c\", \"\\ud14c\\ud06c\", \"\\ud14c\\ud06c\", \"\\ud14c\\ud06c\", \"\\ud1a0\\ub9c9\", \"\\ud22c\\ub370\\uc774\", \"\\ud22c\\uc790\", \"\\ud22c\\uc790\", \"\\ud22c\\uc790\", \"\\ud2b8\\ub80c\\ub4dc\", \"\\ud2b9\\uac15\", \"\\ud2b9\\uc9d5\", \"\\ud380\\ub4dc\", \"\\ud3b8\\ub9ac\", \"\\ud3c9\\uac00\", \"\\ud3ec\\ub7fc\", \"\\ud3ec\\ucee4\\uc2a4\", \"\\ud3ec\\ud138\", \"\\ud50c\\ub7ab\", \"\\ud50c\\ub7ab\", \"\\ud50c\\ub7ab\", \"\\ud544\\uc218\", \"\\ud544\\uc694\", \"\\ud544\\uc694\", \"\\ud544\\uc694\", \"\\ud558\\ub098\", \"\\ud558\\ub77c\\ub9ac\", \"\\ud558\\ubc18\\uae30\", \"\\ud558\\uc774\\ub2c9\\uc2a4\", \"\\ud559\\uc0dd\", \"\\ud559\\uc2b5\", \"\\ud55c\\uad6d\", \"\\ud55c\\uad6d\", \"\\ud55c\\uad6d\", \"\\ud55c\\uad6d\\uc5b4\", \"\\ud55c\\uad6d\\uc5b4\", \"\\ud55c\\ucef4\", \"\\ud574\\uacb0\", \"\\ud574\\ubc95\", \"\\ud574\\uc678\", \"\\ud574\\uc678\", \"\\ud575\\uc2ec\", \"\\ud589\\uc0ac\", \"\\ud589\\uc815\", \"\\ud5ec\\uc2a4\", \"\\ud601\\uc2e0\", \"\\ud601\\uc2e0\", \"\\ud604\\uc7a5\", \"\\ud611\\ub825\", \"\\ud611\\ub825\", \"\\ud611\\uc57d\", \"\\ud611\\uc5c5\", \"\\ud611\\ud68c\", \"\\ud655\\ub300\", \"\\ud655\\ub300\", \"\\ud655\\ub300\", \"\\ud655\\ubcf4\", \"\\ud658\\uc790\", \"\\ud65c\\uc6a9\", \"\\ud65c\\uc6a9\", \"\\ud65c\\uc6a9\", \"\\ud68c\\uc0ac\", \"\\ud68c\\uc0ac\", \"\\ud68c\\uc7a5\", \"\\ud6a8\\uacfc\", \"\\ud6a8\\uc728\"]}, \"R\": 30, \"lambda.step\": 0.01, \"plot.opts\": {\"xlab\": \"PC1\", \"ylab\": \"PC2\"}, \"topic.order\": [5, 9, 6, 10, 3, 7, 8, 4, 1, 2]};\n",
              "\n",
              "function LDAvis_load_lib(url, callback){\n",
              "  var s = document.createElement('script');\n",
              "  s.src = url;\n",
              "  s.async = true;\n",
              "  s.onreadystatechange = s.onload = callback;\n",
              "  s.onerror = function(){console.warn(\"failed to load library \" + url);};\n",
              "  document.getElementsByTagName(\"head\")[0].appendChild(s);\n",
              "}\n",
              "\n",
              "if(typeof(LDAvis) !== \"undefined\"){\n",
              "   // already loaded: just create the visualization\n",
              "   !function(LDAvis){\n",
              "       new LDAvis(\"#\" + \"ldavis_el383421396357718992647695350744\", ldavis_el383421396357718992647695350744_data);\n",
              "   }(LDAvis);\n",
              "}else if(typeof define === \"function\" && define.amd){\n",
              "   // require.js is available: use it to load d3/LDAvis\n",
              "   require.config({paths: {d3: \"https://d3js.org/d3.v5\"}});\n",
              "   require([\"d3\"], function(d3){\n",
              "      window.d3 = d3;\n",
              "      LDAvis_load_lib(\"https://cdn.jsdelivr.net/gh/bmabey/pyLDAvis@3.4.0/pyLDAvis/js/ldavis.v3.0.0.js\", function(){\n",
              "        new LDAvis(\"#\" + \"ldavis_el383421396357718992647695350744\", ldavis_el383421396357718992647695350744_data);\n",
              "      });\n",
              "    });\n",
              "}else{\n",
              "    // require.js not available: dynamically load d3 & LDAvis\n",
              "    LDAvis_load_lib(\"https://d3js.org/d3.v5.js\", function(){\n",
              "         LDAvis_load_lib(\"https://cdn.jsdelivr.net/gh/bmabey/pyLDAvis@3.4.0/pyLDAvis/js/ldavis.v3.0.0.js\", function(){\n",
              "                 new LDAvis(\"#\" + \"ldavis_el383421396357718992647695350744\", ldavis_el383421396357718992647695350744_data);\n",
              "            })\n",
              "         });\n",
              "}\n",
              "</script>"
            ]
          },
          "metadata": {},
          "execution_count": 57
        }
      ]
    }
  ]
}